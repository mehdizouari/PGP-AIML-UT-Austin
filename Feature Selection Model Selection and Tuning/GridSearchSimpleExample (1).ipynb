{
 "cells": [
  {
   "cell_type": "markdown",
   "metadata": {
    "colab_type": "text",
    "id": "RtGX3OkdD8g-"
   },
   "source": [
    "# Importance of optimizing model parameters"
   ]
  },
  {
   "cell_type": "code",
   "execution_count": 0,
   "metadata": {
    "colab": {},
    "colab_type": "code",
    "id": "h0RjYOukD8hA"
   },
   "outputs": [],
   "source": [
    "from sklearn import datasets\n",
    "\n",
    "iris = datasets.load_iris()\n",
    "X = iris.data[:,2:]\n",
    "y = iris.target\n",
    "from sklearn.model_selection import train_test_split, cross_val_score\n",
    "\n",
    "X_train, X_test, y_train, y_test = train_test_split(X, y, stratify = y,random_state = 7)"
   ]
  },
  {
   "cell_type": "code",
   "execution_count": 0,
   "metadata": {
    "colab": {},
    "colab_type": "code",
    "id": "Ak0uBB1YD8hC"
   },
   "outputs": [],
   "source": [
    "from sklearn.neighbors import KNeighborsClassifier\n",
    "### Number of nearest neighbors\n",
    "knn_clf = KNeighborsClassifier()"
   ]
  },
  {
   "cell_type": "code",
   "execution_count": 0,
   "metadata": {
    "colab": {},
    "colab_type": "code",
    "id": "umttCWaoD8hE",
    "outputId": "15e07100-140e-4bf7-ec38-173a87c90ffa"
   },
   "outputs": [
    {
     "data": {
      "text/plain": [
       "KNeighborsClassifier(algorithm='auto', leaf_size=30, metric='minkowski',\n",
       "           metric_params=None, n_jobs=None, n_neighbors=5, p=2,\n",
       "           weights='uniform')"
      ]
     },
     "execution_count": 3,
     "metadata": {
      "tags": []
     },
     "output_type": "execute_result"
    }
   ],
   "source": [
    "knn_clf.fit(X_train, y_train)"
   ]
  },
  {
   "cell_type": "code",
   "execution_count": 0,
   "metadata": {
    "colab": {},
    "colab_type": "code",
    "id": "Qv2epaH3D8hH"
   },
   "outputs": [],
   "source": [
    "from sklearn.metrics import accuracy_score"
   ]
  },
  {
   "cell_type": "code",
   "execution_count": 0,
   "metadata": {
    "colab": {},
    "colab_type": "code",
    "id": "XT-ufg0OD8hJ"
   },
   "outputs": [],
   "source": [
    "\n",
    "param_grid = {'n_neighbors': list(range(1,9)),\n",
    "             'algorithm': ('auto', 'ball_tree', 'kd_tree' , 'brute') }"
   ]
  },
  {
   "cell_type": "code",
   "execution_count": 0,
   "metadata": {
    "colab": {},
    "colab_type": "code",
    "id": "O0tFV4paD8hL"
   },
   "outputs": [],
   "source": [
    "from sklearn.model_selection import GridSearchCV\n",
    "gs = GridSearchCV(knn_clf,param_grid,cv=10)"
   ]
  },
  {
   "cell_type": "code",
   "execution_count": 0,
   "metadata": {
    "colab": {},
    "colab_type": "code",
    "id": "8s3tZueAD8hN",
    "outputId": "fe01eb8e-506b-4e0b-e631-57861c91a4da"
   },
   "outputs": [
    {
     "name": "stderr",
     "output_type": "stream",
     "text": [
      "C:\\Users\\Mukesh\\Anaconda3\\lib\\site-packages\\sklearn\\model_selection\\_search.py:841: DeprecationWarning: The default of the `iid` parameter will change from True to False in version 0.22 and will be removed in 0.24. This will change numeric results when test-set sizes are unequal.\n",
      "  DeprecationWarning)\n"
     ]
    },
    {
     "data": {
      "text/plain": [
       "GridSearchCV(cv=10, error_score='raise-deprecating',\n",
       "       estimator=KNeighborsClassifier(algorithm='auto', leaf_size=30, metric='minkowski',\n",
       "           metric_params=None, n_jobs=None, n_neighbors=5, p=2,\n",
       "           weights='uniform'),\n",
       "       fit_params=None, iid='warn', n_jobs=None,\n",
       "       param_grid={'n_neighbors': [1, 2, 3, 4, 5, 6, 7, 8], 'algorithm': ('auto', 'ball_tree', 'kd_tree', 'brute')},\n",
       "       pre_dispatch='2*n_jobs', refit=True, return_train_score='warn',\n",
       "       scoring=None, verbose=0)"
      ]
     },
     "execution_count": 7,
     "metadata": {
      "tags": []
     },
     "output_type": "execute_result"
    }
   ],
   "source": [
    "gs.fit(X_train, y_train)"
   ]
  },
  {
   "cell_type": "code",
   "execution_count": 0,
   "metadata": {
    "colab": {},
    "colab_type": "code",
    "id": "opa0v3KsD8hP",
    "outputId": "c33b981a-0159-4dff-f835-56e37a770331"
   },
   "outputs": [
    {
     "data": {
      "text/plain": [
       "{'algorithm': 'brute', 'n_neighbors': 1}"
      ]
     },
     "execution_count": 8,
     "metadata": {
      "tags": []
     },
     "output_type": "execute_result"
    }
   ],
   "source": [
    "gs.best_params_"
   ]
  },
  {
   "cell_type": "code",
   "execution_count": 0,
   "metadata": {
    "colab": {},
    "colab_type": "code",
    "id": "f10rnJuPD8hR",
    "outputId": "4249ed93-0bf6-4c1e-d74f-499ed5a9dcb4"
   },
   "outputs": [
    {
     "data": {
      "text/plain": [
       "[{'algorithm': 'auto', 'n_neighbors': 1},\n",
       " {'algorithm': 'auto', 'n_neighbors': 2},\n",
       " {'algorithm': 'auto', 'n_neighbors': 3},\n",
       " {'algorithm': 'auto', 'n_neighbors': 4},\n",
       " {'algorithm': 'auto', 'n_neighbors': 5},\n",
       " {'algorithm': 'auto', 'n_neighbors': 6},\n",
       " {'algorithm': 'auto', 'n_neighbors': 7},\n",
       " {'algorithm': 'auto', 'n_neighbors': 8},\n",
       " {'algorithm': 'ball_tree', 'n_neighbors': 1},\n",
       " {'algorithm': 'ball_tree', 'n_neighbors': 2},\n",
       " {'algorithm': 'ball_tree', 'n_neighbors': 3},\n",
       " {'algorithm': 'ball_tree', 'n_neighbors': 4},\n",
       " {'algorithm': 'ball_tree', 'n_neighbors': 5},\n",
       " {'algorithm': 'ball_tree', 'n_neighbors': 6},\n",
       " {'algorithm': 'ball_tree', 'n_neighbors': 7},\n",
       " {'algorithm': 'ball_tree', 'n_neighbors': 8},\n",
       " {'algorithm': 'kd_tree', 'n_neighbors': 1},\n",
       " {'algorithm': 'kd_tree', 'n_neighbors': 2},\n",
       " {'algorithm': 'kd_tree', 'n_neighbors': 3},\n",
       " {'algorithm': 'kd_tree', 'n_neighbors': 4},\n",
       " {'algorithm': 'kd_tree', 'n_neighbors': 5},\n",
       " {'algorithm': 'kd_tree', 'n_neighbors': 6},\n",
       " {'algorithm': 'kd_tree', 'n_neighbors': 7},\n",
       " {'algorithm': 'kd_tree', 'n_neighbors': 8},\n",
       " {'algorithm': 'brute', 'n_neighbors': 1},\n",
       " {'algorithm': 'brute', 'n_neighbors': 2},\n",
       " {'algorithm': 'brute', 'n_neighbors': 3},\n",
       " {'algorithm': 'brute', 'n_neighbors': 4},\n",
       " {'algorithm': 'brute', 'n_neighbors': 5},\n",
       " {'algorithm': 'brute', 'n_neighbors': 6},\n",
       " {'algorithm': 'brute', 'n_neighbors': 7},\n",
       " {'algorithm': 'brute', 'n_neighbors': 8}]"
      ]
     },
     "execution_count": 9,
     "metadata": {
      "tags": []
     },
     "output_type": "execute_result"
    }
   ],
   "source": [
    "gs.cv_results_['params']"
   ]
  },
  {
   "cell_type": "code",
   "execution_count": 0,
   "metadata": {
    "colab": {},
    "colab_type": "code",
    "id": "ZyREPimND8hT",
    "outputId": "b4e159f1-655e-45e3-e7fe-838849165476"
   },
   "outputs": [
    {
     "data": {
      "text/plain": [
       "array([0.94642857, 0.9375    , 0.95535714, 0.9375    , 0.95535714,\n",
       "       0.94642857, 0.95535714, 0.95535714, 0.94642857, 0.9375    ,\n",
       "       0.95535714, 0.9375    , 0.95535714, 0.94642857, 0.95535714,\n",
       "       0.95535714, 0.94642857, 0.9375    , 0.95535714, 0.9375    ,\n",
       "       0.95535714, 0.94642857, 0.95535714, 0.95535714, 0.96428571,\n",
       "       0.92857143, 0.95535714, 0.9375    , 0.95535714, 0.95535714,\n",
       "       0.95535714, 0.95535714])"
      ]
     },
     "execution_count": 10,
     "metadata": {
      "tags": []
     },
     "output_type": "execute_result"
    }
   ],
   "source": [
    "gs.cv_results_['mean_test_score']"
   ]
  },
  {
   "cell_type": "code",
   "execution_count": 0,
   "metadata": {
    "colab": {},
    "colab_type": "code",
    "id": "lOOrNTNrD8hW"
   },
   "outputs": [],
   "source": []
  },
  {
   "cell_type": "code",
   "execution_count": 0,
   "metadata": {
    "colab": {},
    "colab_type": "code",
    "id": "k5C9gHmDD8hY"
   },
   "outputs": [],
   "source": []
  }
 ],
 "metadata": {
  "anaconda-cloud": {},
  "colab": {
   "name": "GridSearchSimpleExample.ipynb",
   "provenance": [],
   "version": "0.3.2"
  },
  "kernelspec": {
   "display_name": "Python 3",
   "language": "python",
   "name": "python3"
  },
  "language_info": {
   "codemirror_mode": {
    "name": "ipython",
    "version": 3
   },
   "file_extension": ".py",
   "mimetype": "text/x-python",
   "name": "python",
   "nbconvert_exporter": "python",
   "pygments_lexer": "ipython3",
   "version": "3.7.6"
  }
 },
 "nbformat": 4,
 "nbformat_minor": 1
}
