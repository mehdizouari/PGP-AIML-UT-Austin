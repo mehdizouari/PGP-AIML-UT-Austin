{
 "cells": [
  {
   "cell_type": "markdown",
   "metadata": {
    "colab_type": "text",
    "id": "DBcX05TS73uH"
   },
   "source": [
    "## Case study  - Uber Data Analysis\n",
    "\n",
    "You have the uber drive data for a driver which captures the differnet aspects of driving behavior. You are a part of the project where you need to grill this data and report the important findings from the grilling and drilling exercise. You also need to provide some useful insights about the trip behaviour of a Uber driver.\n",
    "Let us try to dive into the data with pandas and numpy by our side!\n",
    "\n",
    "#### Dataset - \n",
    "The dataset contains-\n",
    "- Start Date - the date and time of the start of the trip\n",
    "- End Date - the date and time of the end of the trip\n",
    "- Start Location - staring location of the trip \n",
    "- End Location  - location where the trip ended\n",
    "- Miles Driven  - Total miles driven between the start and the end of the trip\n",
    "- Purpose of drive - Purpose of the trip (Business, Personal, Meals, Errands, Meetings, Customer Support etc.)\n",
    "\n",
    "----------------------\n",
    "- Concepts To cover \n",
    "----------------------\n",
    "- 1. <a href = #link1>Overview of the data at hand</a>\n",
    "- 2. <a href = #link3>Filtering Data</a> \n",
    "- 3. <a href = #link2>Data profiling and the functions offered by pandas for understanding the data</a>\n",
    "- 4. <a href = #link4>DateTime operations</a> \n",
    "\n",
    "\n"
   ]
  },
  {
   "cell_type": "code",
   "execution_count": 1,
   "metadata": {
    "colab": {},
    "colab_type": "code",
    "id": "lv4Pa2U2OQHx"
   },
   "outputs": [],
   "source": [
    "# !pip install pandas==1.0.5\n",
    "# !pip install pandas-profiling==2.8.0"
   ]
  },
  {
   "cell_type": "code",
   "execution_count": 1,
   "metadata": {
    "colab": {},
    "colab_type": "code",
    "id": "SY3vuCtI73uN"
   },
   "outputs": [],
   "source": [
    "# Import the libraries \n",
    "import numpy as np\n",
    "import pandas as pd"
   ]
  },
  {
   "cell_type": "markdown",
   "metadata": {},
   "source": [
    "### <a id = \"link1\"></a>Overview of the data"
   ]
  },
  {
   "cell_type": "code",
   "execution_count": 2,
   "metadata": {
    "colab": {},
    "colab_type": "code",
    "id": "4FvdGEL573uQ"
   },
   "outputs": [
    {
     "ename": "FileNotFoundError",
     "evalue": "[Errno 2] No such file or directory: 'uberdrive.csv'",
     "output_type": "error",
     "traceback": [
      "\u001b[1;31m---------------------------------------------------------------------------\u001b[0m",
      "\u001b[1;31mFileNotFoundError\u001b[0m                         Traceback (most recent call last)",
      "\u001b[1;32m<ipython-input-2-9e1c41fac852>\u001b[0m in \u001b[0;36m<module>\u001b[1;34m\u001b[0m\n\u001b[0;32m      1\u001b[0m \u001b[1;31m# Read the Data\u001b[0m\u001b[1;33m\u001b[0m\u001b[1;33m\u001b[0m\u001b[1;33m\u001b[0m\u001b[0m\n\u001b[1;32m----> 2\u001b[1;33m \u001b[0mdf\u001b[0m \u001b[1;33m=\u001b[0m \u001b[0mpd\u001b[0m\u001b[1;33m.\u001b[0m\u001b[0mread_csv\u001b[0m\u001b[1;33m(\u001b[0m\u001b[1;34m'uberdrive.csv'\u001b[0m\u001b[1;33m)\u001b[0m\u001b[1;33m\u001b[0m\u001b[1;33m\u001b[0m\u001b[0m\n\u001b[0m\u001b[0;32m      3\u001b[0m \u001b[1;33m\u001b[0m\u001b[0m\n\u001b[0;32m      4\u001b[0m \u001b[1;31m#---------------------------Other options with read_csv()----------------------#\u001b[0m\u001b[1;33m\u001b[0m\u001b[1;33m\u001b[0m\u001b[1;33m\u001b[0m\u001b[0m\n\u001b[0;32m      5\u001b[0m \u001b[1;31m# df = pd.read_csv('../data/uberdrive.csv', skiprows = 100)  # To skip first n nows\u001b[0m\u001b[1;33m\u001b[0m\u001b[1;33m\u001b[0m\u001b[1;33m\u001b[0m\u001b[0m\n",
      "\u001b[1;32m~\\anaconda3\\lib\\site-packages\\pandas\\io\\parsers.py\u001b[0m in \u001b[0;36mread_csv\u001b[1;34m(filepath_or_buffer, sep, delimiter, header, names, index_col, usecols, squeeze, prefix, mangle_dupe_cols, dtype, engine, converters, true_values, false_values, skipinitialspace, skiprows, skipfooter, nrows, na_values, keep_default_na, na_filter, verbose, skip_blank_lines, parse_dates, infer_datetime_format, keep_date_col, date_parser, dayfirst, cache_dates, iterator, chunksize, compression, thousands, decimal, lineterminator, quotechar, quoting, doublequote, escapechar, comment, encoding, dialect, error_bad_lines, warn_bad_lines, delim_whitespace, low_memory, memory_map, float_precision)\u001b[0m\n\u001b[0;32m    684\u001b[0m     )\n\u001b[0;32m    685\u001b[0m \u001b[1;33m\u001b[0m\u001b[0m\n\u001b[1;32m--> 686\u001b[1;33m     \u001b[1;32mreturn\u001b[0m \u001b[0m_read\u001b[0m\u001b[1;33m(\u001b[0m\u001b[0mfilepath_or_buffer\u001b[0m\u001b[1;33m,\u001b[0m \u001b[0mkwds\u001b[0m\u001b[1;33m)\u001b[0m\u001b[1;33m\u001b[0m\u001b[1;33m\u001b[0m\u001b[0m\n\u001b[0m\u001b[0;32m    687\u001b[0m \u001b[1;33m\u001b[0m\u001b[0m\n\u001b[0;32m    688\u001b[0m \u001b[1;33m\u001b[0m\u001b[0m\n",
      "\u001b[1;32m~\\anaconda3\\lib\\site-packages\\pandas\\io\\parsers.py\u001b[0m in \u001b[0;36m_read\u001b[1;34m(filepath_or_buffer, kwds)\u001b[0m\n\u001b[0;32m    450\u001b[0m \u001b[1;33m\u001b[0m\u001b[0m\n\u001b[0;32m    451\u001b[0m     \u001b[1;31m# Create the parser.\u001b[0m\u001b[1;33m\u001b[0m\u001b[1;33m\u001b[0m\u001b[1;33m\u001b[0m\u001b[0m\n\u001b[1;32m--> 452\u001b[1;33m     \u001b[0mparser\u001b[0m \u001b[1;33m=\u001b[0m \u001b[0mTextFileReader\u001b[0m\u001b[1;33m(\u001b[0m\u001b[0mfp_or_buf\u001b[0m\u001b[1;33m,\u001b[0m \u001b[1;33m**\u001b[0m\u001b[0mkwds\u001b[0m\u001b[1;33m)\u001b[0m\u001b[1;33m\u001b[0m\u001b[1;33m\u001b[0m\u001b[0m\n\u001b[0m\u001b[0;32m    453\u001b[0m \u001b[1;33m\u001b[0m\u001b[0m\n\u001b[0;32m    454\u001b[0m     \u001b[1;32mif\u001b[0m \u001b[0mchunksize\u001b[0m \u001b[1;32mor\u001b[0m \u001b[0miterator\u001b[0m\u001b[1;33m:\u001b[0m\u001b[1;33m\u001b[0m\u001b[1;33m\u001b[0m\u001b[0m\n",
      "\u001b[1;32m~\\anaconda3\\lib\\site-packages\\pandas\\io\\parsers.py\u001b[0m in \u001b[0;36m__init__\u001b[1;34m(self, f, engine, **kwds)\u001b[0m\n\u001b[0;32m    934\u001b[0m             \u001b[0mself\u001b[0m\u001b[1;33m.\u001b[0m\u001b[0moptions\u001b[0m\u001b[1;33m[\u001b[0m\u001b[1;34m\"has_index_names\"\u001b[0m\u001b[1;33m]\u001b[0m \u001b[1;33m=\u001b[0m \u001b[0mkwds\u001b[0m\u001b[1;33m[\u001b[0m\u001b[1;34m\"has_index_names\"\u001b[0m\u001b[1;33m]\u001b[0m\u001b[1;33m\u001b[0m\u001b[1;33m\u001b[0m\u001b[0m\n\u001b[0;32m    935\u001b[0m \u001b[1;33m\u001b[0m\u001b[0m\n\u001b[1;32m--> 936\u001b[1;33m         \u001b[0mself\u001b[0m\u001b[1;33m.\u001b[0m\u001b[0m_make_engine\u001b[0m\u001b[1;33m(\u001b[0m\u001b[0mself\u001b[0m\u001b[1;33m.\u001b[0m\u001b[0mengine\u001b[0m\u001b[1;33m)\u001b[0m\u001b[1;33m\u001b[0m\u001b[1;33m\u001b[0m\u001b[0m\n\u001b[0m\u001b[0;32m    937\u001b[0m \u001b[1;33m\u001b[0m\u001b[0m\n\u001b[0;32m    938\u001b[0m     \u001b[1;32mdef\u001b[0m \u001b[0mclose\u001b[0m\u001b[1;33m(\u001b[0m\u001b[0mself\u001b[0m\u001b[1;33m)\u001b[0m\u001b[1;33m:\u001b[0m\u001b[1;33m\u001b[0m\u001b[1;33m\u001b[0m\u001b[0m\n",
      "\u001b[1;32m~\\anaconda3\\lib\\site-packages\\pandas\\io\\parsers.py\u001b[0m in \u001b[0;36m_make_engine\u001b[1;34m(self, engine)\u001b[0m\n\u001b[0;32m   1166\u001b[0m     \u001b[1;32mdef\u001b[0m \u001b[0m_make_engine\u001b[0m\u001b[1;33m(\u001b[0m\u001b[0mself\u001b[0m\u001b[1;33m,\u001b[0m \u001b[0mengine\u001b[0m\u001b[1;33m=\u001b[0m\u001b[1;34m\"c\"\u001b[0m\u001b[1;33m)\u001b[0m\u001b[1;33m:\u001b[0m\u001b[1;33m\u001b[0m\u001b[1;33m\u001b[0m\u001b[0m\n\u001b[0;32m   1167\u001b[0m         \u001b[1;32mif\u001b[0m \u001b[0mengine\u001b[0m \u001b[1;33m==\u001b[0m \u001b[1;34m\"c\"\u001b[0m\u001b[1;33m:\u001b[0m\u001b[1;33m\u001b[0m\u001b[1;33m\u001b[0m\u001b[0m\n\u001b[1;32m-> 1168\u001b[1;33m             \u001b[0mself\u001b[0m\u001b[1;33m.\u001b[0m\u001b[0m_engine\u001b[0m \u001b[1;33m=\u001b[0m \u001b[0mCParserWrapper\u001b[0m\u001b[1;33m(\u001b[0m\u001b[0mself\u001b[0m\u001b[1;33m.\u001b[0m\u001b[0mf\u001b[0m\u001b[1;33m,\u001b[0m \u001b[1;33m**\u001b[0m\u001b[0mself\u001b[0m\u001b[1;33m.\u001b[0m\u001b[0moptions\u001b[0m\u001b[1;33m)\u001b[0m\u001b[1;33m\u001b[0m\u001b[1;33m\u001b[0m\u001b[0m\n\u001b[0m\u001b[0;32m   1169\u001b[0m         \u001b[1;32melse\u001b[0m\u001b[1;33m:\u001b[0m\u001b[1;33m\u001b[0m\u001b[1;33m\u001b[0m\u001b[0m\n\u001b[0;32m   1170\u001b[0m             \u001b[1;32mif\u001b[0m \u001b[0mengine\u001b[0m \u001b[1;33m==\u001b[0m \u001b[1;34m\"python\"\u001b[0m\u001b[1;33m:\u001b[0m\u001b[1;33m\u001b[0m\u001b[1;33m\u001b[0m\u001b[0m\n",
      "\u001b[1;32m~\\anaconda3\\lib\\site-packages\\pandas\\io\\parsers.py\u001b[0m in \u001b[0;36m__init__\u001b[1;34m(self, src, **kwds)\u001b[0m\n\u001b[0;32m   1996\u001b[0m         \u001b[0mkwds\u001b[0m\u001b[1;33m[\u001b[0m\u001b[1;34m\"usecols\"\u001b[0m\u001b[1;33m]\u001b[0m \u001b[1;33m=\u001b[0m \u001b[0mself\u001b[0m\u001b[1;33m.\u001b[0m\u001b[0musecols\u001b[0m\u001b[1;33m\u001b[0m\u001b[1;33m\u001b[0m\u001b[0m\n\u001b[0;32m   1997\u001b[0m \u001b[1;33m\u001b[0m\u001b[0m\n\u001b[1;32m-> 1998\u001b[1;33m         \u001b[0mself\u001b[0m\u001b[1;33m.\u001b[0m\u001b[0m_reader\u001b[0m \u001b[1;33m=\u001b[0m \u001b[0mparsers\u001b[0m\u001b[1;33m.\u001b[0m\u001b[0mTextReader\u001b[0m\u001b[1;33m(\u001b[0m\u001b[0msrc\u001b[0m\u001b[1;33m,\u001b[0m \u001b[1;33m**\u001b[0m\u001b[0mkwds\u001b[0m\u001b[1;33m)\u001b[0m\u001b[1;33m\u001b[0m\u001b[1;33m\u001b[0m\u001b[0m\n\u001b[0m\u001b[0;32m   1999\u001b[0m         \u001b[0mself\u001b[0m\u001b[1;33m.\u001b[0m\u001b[0munnamed_cols\u001b[0m \u001b[1;33m=\u001b[0m \u001b[0mself\u001b[0m\u001b[1;33m.\u001b[0m\u001b[0m_reader\u001b[0m\u001b[1;33m.\u001b[0m\u001b[0munnamed_cols\u001b[0m\u001b[1;33m\u001b[0m\u001b[1;33m\u001b[0m\u001b[0m\n\u001b[0;32m   2000\u001b[0m \u001b[1;33m\u001b[0m\u001b[0m\n",
      "\u001b[1;32mpandas\\_libs\\parsers.pyx\u001b[0m in \u001b[0;36mpandas._libs.parsers.TextReader.__cinit__\u001b[1;34m()\u001b[0m\n",
      "\u001b[1;32mpandas\\_libs\\parsers.pyx\u001b[0m in \u001b[0;36mpandas._libs.parsers.TextReader._setup_parser_source\u001b[1;34m()\u001b[0m\n",
      "\u001b[1;31mFileNotFoundError\u001b[0m: [Errno 2] No such file or directory: 'uberdrive.csv'"
     ]
    }
   ],
   "source": [
    "# Read the Data \n",
    "df = pd.read_csv('uberdrive.csv')\n",
    "\n",
    "#---------------------------Other options with read_csv()----------------------#\n",
    "# df = pd.read_csv('../data/uberdrive.csv', skiprows = 100)  # To skip first n nows \n",
    "# df = pd.read_csv('../data/uberdrive.csv', nrows = 100)  # Load only the first n rows\n",
    "# df = pd.read_csv('../data/uberdrive.csv', usecols = ['START_DATE*', 'END_DATE*'])  # Load only selected columns"
   ]
  },
  {
   "cell_type": "code",
   "execution_count": 4,
   "metadata": {
    "colab": {
     "base_uri": "https://localhost:8080/",
     "height": 297
    },
    "colab_type": "code",
    "id": "rfp142SP73uS",
    "outputId": "7c059e9c-86d7-493f-ba8b-0e2b20289efa"
   },
   "outputs": [
    {
     "data": {
      "text/html": [
       "<div>\n",
       "<style scoped>\n",
       "    .dataframe tbody tr th:only-of-type {\n",
       "        vertical-align: middle;\n",
       "    }\n",
       "\n",
       "    .dataframe tbody tr th {\n",
       "        vertical-align: top;\n",
       "    }\n",
       "\n",
       "    .dataframe thead th {\n",
       "        text-align: right;\n",
       "    }\n",
       "</style>\n",
       "<table border=\"1\" class=\"dataframe\">\n",
       "  <thead>\n",
       "    <tr style=\"text-align: right;\">\n",
       "      <th></th>\n",
       "      <th>START_DATE*</th>\n",
       "      <th>END_DATE*</th>\n",
       "      <th>CATEGORY*</th>\n",
       "      <th>START*</th>\n",
       "      <th>STOP*</th>\n",
       "      <th>MILES*</th>\n",
       "      <th>PURPOSE*</th>\n",
       "    </tr>\n",
       "  </thead>\n",
       "  <tbody>\n",
       "    <tr>\n",
       "      <th>0</th>\n",
       "      <td>1/1/2016 21:11</td>\n",
       "      <td>1/1/2016 21:17</td>\n",
       "      <td>Business</td>\n",
       "      <td>Fort Pierce</td>\n",
       "      <td>Fort Pierce</td>\n",
       "      <td>5.1</td>\n",
       "      <td>Meal/Entertain</td>\n",
       "    </tr>\n",
       "    <tr>\n",
       "      <th>1</th>\n",
       "      <td>1/2/2016 1:25</td>\n",
       "      <td>1/2/2016 1:37</td>\n",
       "      <td>Business</td>\n",
       "      <td>Fort Pierce</td>\n",
       "      <td>Fort Pierce</td>\n",
       "      <td>5.0</td>\n",
       "      <td>NaN</td>\n",
       "    </tr>\n",
       "    <tr>\n",
       "      <th>2</th>\n",
       "      <td>1/2/2016 20:25</td>\n",
       "      <td>1/2/2016 20:38</td>\n",
       "      <td>Business</td>\n",
       "      <td>Fort Pierce</td>\n",
       "      <td>Fort Pierce</td>\n",
       "      <td>4.8</td>\n",
       "      <td>Errand/Supplies</td>\n",
       "    </tr>\n",
       "  </tbody>\n",
       "</table>\n",
       "</div>"
      ],
      "text/plain": [
       "      START_DATE*       END_DATE* CATEGORY*       START*        STOP*  MILES*  \\\n",
       "0  1/1/2016 21:11  1/1/2016 21:17  Business  Fort Pierce  Fort Pierce     5.1   \n",
       "1   1/2/2016 1:25   1/2/2016 1:37  Business  Fort Pierce  Fort Pierce     5.0   \n",
       "2  1/2/2016 20:25  1/2/2016 20:38  Business  Fort Pierce  Fort Pierce     4.8   \n",
       "\n",
       "          PURPOSE*  \n",
       "0   Meal/Entertain  \n",
       "1              NaN  \n",
       "2  Errand/Supplies  "
      ]
     },
     "execution_count": 4,
     "metadata": {},
     "output_type": "execute_result"
    }
   ],
   "source": [
    "# View first 3 rows of data \n",
    "df.head(3) "
   ]
  },
  {
   "cell_type": "code",
   "execution_count": 5,
   "metadata": {
    "colab": {
     "base_uri": "https://localhost:8080/",
     "height": 359
    },
    "colab_type": "code",
    "id": "Zq-hLyXH73uV",
    "outputId": "ae2b5b05-3375-4849-e673-f1365efc806a"
   },
   "outputs": [
    {
     "data": {
      "text/html": [
       "<div>\n",
       "<style scoped>\n",
       "    .dataframe tbody tr th:only-of-type {\n",
       "        vertical-align: middle;\n",
       "    }\n",
       "\n",
       "    .dataframe tbody tr th {\n",
       "        vertical-align: top;\n",
       "    }\n",
       "\n",
       "    .dataframe thead th {\n",
       "        text-align: right;\n",
       "    }\n",
       "</style>\n",
       "<table border=\"1\" class=\"dataframe\">\n",
       "  <thead>\n",
       "    <tr style=\"text-align: right;\">\n",
       "      <th></th>\n",
       "      <th>START_DATE*</th>\n",
       "      <th>END_DATE*</th>\n",
       "      <th>CATEGORY*</th>\n",
       "      <th>START*</th>\n",
       "      <th>STOP*</th>\n",
       "      <th>MILES*</th>\n",
       "      <th>PURPOSE*</th>\n",
       "    </tr>\n",
       "  </thead>\n",
       "  <tbody>\n",
       "    <tr>\n",
       "      <th>1153</th>\n",
       "      <td>12/31/2016 21:32</td>\n",
       "      <td>12/31/2016 21:50</td>\n",
       "      <td>Business</td>\n",
       "      <td>Katunayake</td>\n",
       "      <td>Gampaha</td>\n",
       "      <td>6.4</td>\n",
       "      <td>Temporary Site</td>\n",
       "    </tr>\n",
       "    <tr>\n",
       "      <th>1154</th>\n",
       "      <td>12/31/2016 22:08</td>\n",
       "      <td>12/31/2016 23:51</td>\n",
       "      <td>Business</td>\n",
       "      <td>Gampaha</td>\n",
       "      <td>Ilukwatta</td>\n",
       "      <td>48.2</td>\n",
       "      <td>Temporary Site</td>\n",
       "    </tr>\n",
       "    <tr>\n",
       "      <th>1155</th>\n",
       "      <td>Totals</td>\n",
       "      <td>NaN</td>\n",
       "      <td>NaN</td>\n",
       "      <td>NaN</td>\n",
       "      <td>NaN</td>\n",
       "      <td>12204.7</td>\n",
       "      <td>NaN</td>\n",
       "    </tr>\n",
       "  </tbody>\n",
       "</table>\n",
       "</div>"
      ],
      "text/plain": [
       "           START_DATE*         END_DATE* CATEGORY*      START*      STOP*  \\\n",
       "1153  12/31/2016 21:32  12/31/2016 21:50  Business  Katunayake    Gampaha   \n",
       "1154  12/31/2016 22:08  12/31/2016 23:51  Business     Gampaha  Ilukwatta   \n",
       "1155            Totals               NaN       NaN         NaN        NaN   \n",
       "\n",
       "       MILES*        PURPOSE*  \n",
       "1153      6.4  Temporary Site  \n",
       "1154     48.2  Temporary Site  \n",
       "1155  12204.7             NaN  "
      ]
     },
     "execution_count": 5,
     "metadata": {},
     "output_type": "execute_result"
    }
   ],
   "source": [
    "#View the last 3 rows of data\n",
    "df.tail(3)"
   ]
  },
  {
   "cell_type": "code",
   "execution_count": 6,
   "metadata": {
    "colab": {
     "base_uri": "https://localhost:8080/",
     "height": 51
    },
    "colab_type": "code",
    "id": "oG5qPCEa73uY",
    "outputId": "7a36d667-5349-466a-cf7e-a52d42987aae"
   },
   "outputs": [
    {
     "name": "stdout",
     "output_type": "stream",
     "text": [
      "(1156, 7)\n",
      "8092\n"
     ]
    }
   ],
   "source": [
    "# understand shape and size of data \n",
    "print(df.shape)\n",
    "print(df.size)"
   ]
  },
  {
   "cell_type": "code",
   "execution_count": 7,
   "metadata": {
    "colab": {
     "base_uri": "https://localhost:8080/",
     "height": 255
    },
    "colab_type": "code",
    "id": "jKJUFnBT73ua",
    "outputId": "4d75d3b1-6403-44d8-a1a9-78ae367a8b22",
    "scrolled": true
   },
   "outputs": [
    {
     "name": "stdout",
     "output_type": "stream",
     "text": [
      "<class 'pandas.core.frame.DataFrame'>\n",
      "RangeIndex: 1156 entries, 0 to 1155\n",
      "Data columns (total 7 columns):\n",
      "START_DATE*    1156 non-null object\n",
      "END_DATE*      1155 non-null object\n",
      "CATEGORY*      1155 non-null object\n",
      "START*         1155 non-null object\n",
      "STOP*          1155 non-null object\n",
      "MILES*         1156 non-null float64\n",
      "PURPOSE*       653 non-null object\n",
      "dtypes: float64(1), object(6)\n",
      "memory usage: 63.3+ KB\n"
     ]
    }
   ],
   "source": [
    "# check info about data (includes column names, the number of non-null values in it, and data-type for each column.)\n",
    "df.info()"
   ]
  },
  {
   "cell_type": "code",
   "execution_count": 8,
   "metadata": {
    "scrolled": true
   },
   "outputs": [
    {
     "data": {
      "text/plain": [
       "START_DATE*     object\n",
       "END_DATE*       object\n",
       "CATEGORY*       object\n",
       "START*          object\n",
       "STOP*           object\n",
       "MILES*         float64\n",
       "PURPOSE*        object\n",
       "dtype: object"
      ]
     },
     "execution_count": 8,
     "metadata": {},
     "output_type": "execute_result"
    }
   ],
   "source": [
    "# Get the datatype for each column of dataframe.\n",
    "df.dtypes                           "
   ]
  },
  {
   "cell_type": "code",
   "execution_count": 9,
   "metadata": {},
   "outputs": [
    {
     "data": {
      "text/html": [
       "<div>\n",
       "<style scoped>\n",
       "    .dataframe tbody tr th:only-of-type {\n",
       "        vertical-align: middle;\n",
       "    }\n",
       "\n",
       "    .dataframe tbody tr th {\n",
       "        vertical-align: top;\n",
       "    }\n",
       "\n",
       "    .dataframe thead th {\n",
       "        text-align: right;\n",
       "    }\n",
       "</style>\n",
       "<table border=\"1\" class=\"dataframe\">\n",
       "  <thead>\n",
       "    <tr style=\"text-align: right;\">\n",
       "      <th></th>\n",
       "      <th>MILES*</th>\n",
       "    </tr>\n",
       "  </thead>\n",
       "  <tbody>\n",
       "    <tr>\n",
       "      <th>count</th>\n",
       "      <td>1156.000000</td>\n",
       "    </tr>\n",
       "    <tr>\n",
       "      <th>mean</th>\n",
       "      <td>21.115398</td>\n",
       "    </tr>\n",
       "    <tr>\n",
       "      <th>std</th>\n",
       "      <td>359.299007</td>\n",
       "    </tr>\n",
       "    <tr>\n",
       "      <th>min</th>\n",
       "      <td>0.500000</td>\n",
       "    </tr>\n",
       "    <tr>\n",
       "      <th>25%</th>\n",
       "      <td>2.900000</td>\n",
       "    </tr>\n",
       "    <tr>\n",
       "      <th>50%</th>\n",
       "      <td>6.000000</td>\n",
       "    </tr>\n",
       "    <tr>\n",
       "      <th>75%</th>\n",
       "      <td>10.400000</td>\n",
       "    </tr>\n",
       "    <tr>\n",
       "      <th>max</th>\n",
       "      <td>12204.700000</td>\n",
       "    </tr>\n",
       "  </tbody>\n",
       "</table>\n",
       "</div>"
      ],
      "text/plain": [
       "             MILES*\n",
       "count   1156.000000\n",
       "mean      21.115398\n",
       "std      359.299007\n",
       "min        0.500000\n",
       "25%        2.900000\n",
       "50%        6.000000\n",
       "75%       10.400000\n",
       "max    12204.700000"
      ]
     },
     "execution_count": 9,
     "metadata": {},
     "output_type": "execute_result"
    }
   ],
   "source": [
    "# get numerical overview of numerical type columns (MILES)\n",
    "df.describe()         "
   ]
  },
  {
   "cell_type": "markdown",
   "metadata": {},
   "source": [
    "### Understanding the missing data "
   ]
  },
  {
   "cell_type": "code",
   "execution_count": 10,
   "metadata": {
    "colab": {
     "base_uri": "https://localhost:8080/",
     "height": 153
    },
    "colab_type": "code",
    "id": "KXbs-K6G73ud",
    "outputId": "306ec931-5f86-4887-bb18-c802a92d5b1f"
   },
   "outputs": [
    {
     "data": {
      "text/plain": [
       "START_DATE*    1156\n",
       "END_DATE*      1155\n",
       "CATEGORY*      1155\n",
       "START*         1155\n",
       "STOP*          1155\n",
       "MILES*         1156\n",
       "PURPOSE*        653\n",
       "dtype: int64"
      ]
     },
     "execution_count": 10,
     "metadata": {},
     "output_type": "execute_result"
    }
   ],
   "source": [
    "# Same as above, gives non-null number of records\n",
    "df.count()"
   ]
  },
  {
   "cell_type": "markdown",
   "metadata": {
    "colab_type": "text",
    "id": "Omq73OvI73uf"
   },
   "source": [
    "1. PURPOSE column has lots of missing values  \n",
    "2. Some of the columns have a 1155 records while there are others with 1156, why is that? Lets explore"
   ]
  },
  {
   "cell_type": "code",
   "execution_count": 11,
   "metadata": {
    "colab": {
     "base_uri": "https://localhost:8080/",
     "height": 34
    },
    "colab_type": "code",
    "id": "3S6zWaci73ui",
    "outputId": "4377a4b1-36ab-4f8f-8fcc-3e6fd70dd782"
   },
   "outputs": [
    {
     "data": {
      "text/plain": [
       "START_DATE*    False\n",
       "END_DATE*       True\n",
       "CATEGORY*       True\n",
       "START*          True\n",
       "STOP*           True\n",
       "MILES*         False\n",
       "PURPOSE*        True\n",
       "dtype: bool"
      ]
     },
     "execution_count": 11,
     "metadata": {},
     "output_type": "execute_result"
    }
   ],
   "source": [
    "# Is any of the values in the df null?  (# Useful in writing validation scripts on large number of files )\n",
    "df.isnull().any()"
   ]
  },
  {
   "cell_type": "code",
   "execution_count": 12,
   "metadata": {
    "colab": {},
    "colab_type": "code",
    "id": "NOODK6E-73un"
   },
   "outputs": [
    {
     "name": "stdout",
     "output_type": "stream",
     "text": [
      "['END_DATE*', 'CATEGORY*', 'START*', 'STOP*', 'PURPOSE*']\n"
     ]
    }
   ],
   "source": [
    "# You can also find the columns with missing values through the snippet below\n",
    "null_cols = df.columns[df.isnull().any()] # get only the columns that have a null value.\n",
    "null_cols = list(null_cols)\n",
    "print(null_cols)\n",
    "# Get the columns into a list and do use it to do some operations"
   ]
  },
  {
   "cell_type": "code",
   "execution_count": 13,
   "metadata": {
    "colab": {
     "base_uri": "https://localhost:8080/",
     "height": 153
    },
    "colab_type": "code",
    "id": "y1bRbOJ773ug",
    "outputId": "90d46cf3-c285-4f6a-f6c6-3c40e01e1d1e"
   },
   "outputs": [
    {
     "data": {
      "text/plain": [
       "START_DATE*      0\n",
       "END_DATE*        1\n",
       "CATEGORY*        1\n",
       "START*           1\n",
       "STOP*            1\n",
       "MILES*           0\n",
       "PURPOSE*       503\n",
       "dtype: int64"
      ]
     },
     "execution_count": 13,
     "metadata": {},
     "output_type": "execute_result"
    }
   ],
   "source": [
    "# isnull() function checks the number of null values and sum() function sums up the count of these.\n",
    "# Shows the column wise values of missing data\n",
    "df.isnull().sum()"
   ]
  },
  {
   "cell_type": "markdown",
   "metadata": {
    "colab_type": "text",
    "id": "1xhOfheZ73ur"
   },
   "source": [
    "Show the records with missing values for column= PURPOSE "
   ]
  },
  {
   "cell_type": "code",
   "execution_count": 14,
   "metadata": {
    "colab": {
     "base_uri": "https://localhost:8080/",
     "height": 419
    },
    "colab_type": "code",
    "id": "0vCMvVsv73us",
    "outputId": "7357fb27-2fe2-415d-aaeb-aa945f466b31"
   },
   "outputs": [
    {
     "data": {
      "text/html": [
       "<div>\n",
       "<style scoped>\n",
       "    .dataframe tbody tr th:only-of-type {\n",
       "        vertical-align: middle;\n",
       "    }\n",
       "\n",
       "    .dataframe tbody tr th {\n",
       "        vertical-align: top;\n",
       "    }\n",
       "\n",
       "    .dataframe thead th {\n",
       "        text-align: right;\n",
       "    }\n",
       "</style>\n",
       "<table border=\"1\" class=\"dataframe\">\n",
       "  <thead>\n",
       "    <tr style=\"text-align: right;\">\n",
       "      <th></th>\n",
       "      <th>START_DATE*</th>\n",
       "      <th>END_DATE*</th>\n",
       "      <th>CATEGORY*</th>\n",
       "      <th>START*</th>\n",
       "      <th>STOP*</th>\n",
       "      <th>MILES*</th>\n",
       "      <th>PURPOSE*</th>\n",
       "    </tr>\n",
       "  </thead>\n",
       "  <tbody>\n",
       "    <tr>\n",
       "      <th>1</th>\n",
       "      <td>1/2/2016 1:25</td>\n",
       "      <td>1/2/2016 1:37</td>\n",
       "      <td>Business</td>\n",
       "      <td>Fort Pierce</td>\n",
       "      <td>Fort Pierce</td>\n",
       "      <td>5.0</td>\n",
       "      <td>NaN</td>\n",
       "    </tr>\n",
       "    <tr>\n",
       "      <th>32</th>\n",
       "      <td>1/19/2016 9:09</td>\n",
       "      <td>1/19/2016 9:23</td>\n",
       "      <td>Business</td>\n",
       "      <td>Whitebridge</td>\n",
       "      <td>Lake Wellingborough</td>\n",
       "      <td>7.2</td>\n",
       "      <td>NaN</td>\n",
       "    </tr>\n",
       "    <tr>\n",
       "      <th>85</th>\n",
       "      <td>2/9/2016 10:54</td>\n",
       "      <td>2/9/2016 11:07</td>\n",
       "      <td>Personal</td>\n",
       "      <td>Whitebridge</td>\n",
       "      <td>Northwoods</td>\n",
       "      <td>5.3</td>\n",
       "      <td>NaN</td>\n",
       "    </tr>\n",
       "    <tr>\n",
       "      <th>86</th>\n",
       "      <td>2/9/2016 11:43</td>\n",
       "      <td>2/9/2016 11:50</td>\n",
       "      <td>Personal</td>\n",
       "      <td>Northwoods</td>\n",
       "      <td>Tanglewood</td>\n",
       "      <td>3.0</td>\n",
       "      <td>NaN</td>\n",
       "    </tr>\n",
       "    <tr>\n",
       "      <th>87</th>\n",
       "      <td>2/9/2016 13:36</td>\n",
       "      <td>2/9/2016 13:52</td>\n",
       "      <td>Personal</td>\n",
       "      <td>Tanglewood</td>\n",
       "      <td>Preston</td>\n",
       "      <td>5.1</td>\n",
       "      <td>NaN</td>\n",
       "    </tr>\n",
       "    <tr>\n",
       "      <th>88</th>\n",
       "      <td>2/9/2016 13:58</td>\n",
       "      <td>2/9/2016 14:02</td>\n",
       "      <td>Personal</td>\n",
       "      <td>Preston</td>\n",
       "      <td>Whitebridge</td>\n",
       "      <td>1.5</td>\n",
       "      <td>NaN</td>\n",
       "    </tr>\n",
       "    <tr>\n",
       "      <th>89</th>\n",
       "      <td>2/9/2016 18:55</td>\n",
       "      <td>2/9/2016 19:11</td>\n",
       "      <td>Business</td>\n",
       "      <td>Cary</td>\n",
       "      <td>Morrisville</td>\n",
       "      <td>6.1</td>\n",
       "      <td>NaN</td>\n",
       "    </tr>\n",
       "    <tr>\n",
       "      <th>102</th>\n",
       "      <td>2/13/2016 23:45</td>\n",
       "      <td>2/14/2016 0:01</td>\n",
       "      <td>Personal</td>\n",
       "      <td>East Elmhurst</td>\n",
       "      <td>Jackson Heights</td>\n",
       "      <td>2.7</td>\n",
       "      <td>NaN</td>\n",
       "    </tr>\n",
       "    <tr>\n",
       "      <th>103</th>\n",
       "      <td>2/14/2016 0:50</td>\n",
       "      <td>2/14/2016 1:00</td>\n",
       "      <td>Personal</td>\n",
       "      <td>Jackson Heights</td>\n",
       "      <td>East Elmhurst</td>\n",
       "      <td>1.8</td>\n",
       "      <td>NaN</td>\n",
       "    </tr>\n",
       "    <tr>\n",
       "      <th>109</th>\n",
       "      <td>2/16/2016 8:29</td>\n",
       "      <td>2/16/2016 9:34</td>\n",
       "      <td>Business</td>\n",
       "      <td>Unknown Location</td>\n",
       "      <td>Colombo</td>\n",
       "      <td>14.1</td>\n",
       "      <td>NaN</td>\n",
       "    </tr>\n",
       "  </tbody>\n",
       "</table>\n",
       "</div>"
      ],
      "text/plain": [
       "         START_DATE*       END_DATE* CATEGORY*            START*  \\\n",
       "1      1/2/2016 1:25   1/2/2016 1:37  Business       Fort Pierce   \n",
       "32    1/19/2016 9:09  1/19/2016 9:23  Business       Whitebridge   \n",
       "85    2/9/2016 10:54  2/9/2016 11:07  Personal       Whitebridge   \n",
       "86    2/9/2016 11:43  2/9/2016 11:50  Personal        Northwoods   \n",
       "87    2/9/2016 13:36  2/9/2016 13:52  Personal        Tanglewood   \n",
       "88    2/9/2016 13:58  2/9/2016 14:02  Personal           Preston   \n",
       "89    2/9/2016 18:55  2/9/2016 19:11  Business              Cary   \n",
       "102  2/13/2016 23:45  2/14/2016 0:01  Personal     East Elmhurst   \n",
       "103   2/14/2016 0:50  2/14/2016 1:00  Personal   Jackson Heights   \n",
       "109   2/16/2016 8:29  2/16/2016 9:34  Business  Unknown Location   \n",
       "\n",
       "                   STOP*  MILES* PURPOSE*  \n",
       "1            Fort Pierce     5.0      NaN  \n",
       "32   Lake Wellingborough     7.2      NaN  \n",
       "85            Northwoods     5.3      NaN  \n",
       "86            Tanglewood     3.0      NaN  \n",
       "87               Preston     5.1      NaN  \n",
       "88           Whitebridge     1.5      NaN  \n",
       "89           Morrisville     6.1      NaN  \n",
       "102      Jackson Heights     2.7      NaN  \n",
       "103        East Elmhurst     1.8      NaN  \n",
       "109              Colombo    14.1      NaN  "
      ]
     },
     "execution_count": 14,
     "metadata": {},
     "output_type": "execute_result"
    }
   ],
   "source": [
    "df[df['PURPOSE*'].isnull()].head(10)\n",
    "# you can as well do a head() function on this to just view the first n rows"
   ]
  },
  {
   "cell_type": "markdown",
   "metadata": {
    "colab_type": "text",
    "id": "SS8i8JjO73uu"
   },
   "source": [
    "How many records are non-null  / have values ( in a particular column )"
   ]
  },
  {
   "cell_type": "code",
   "execution_count": 15,
   "metadata": {
    "colab": {
     "base_uri": "https://localhost:8080/",
     "height": 34
    },
    "colab_type": "code",
    "id": "WI00GfPC73uu",
    "outputId": "cd463441-07cf-4d1b-bd97-7f37c1419d1f",
    "scrolled": true
   },
   "outputs": [
    {
     "data": {
      "text/plain": [
       "653"
      ]
     },
     "execution_count": 15,
     "metadata": {},
     "output_type": "execute_result"
    }
   ],
   "source": [
    "df['PURPOSE*'].count()"
   ]
  },
  {
   "cell_type": "code",
   "execution_count": 16,
   "metadata": {
    "scrolled": false
   },
   "outputs": [
    {
     "data": {
      "text/html": [
       "<div>\n",
       "<style scoped>\n",
       "    .dataframe tbody tr th:only-of-type {\n",
       "        vertical-align: middle;\n",
       "    }\n",
       "\n",
       "    .dataframe tbody tr th {\n",
       "        vertical-align: top;\n",
       "    }\n",
       "\n",
       "    .dataframe thead th {\n",
       "        text-align: right;\n",
       "    }\n",
       "</style>\n",
       "<table border=\"1\" class=\"dataframe\">\n",
       "  <thead>\n",
       "    <tr style=\"text-align: right;\">\n",
       "      <th></th>\n",
       "      <th>START_DATE*</th>\n",
       "      <th>END_DATE*</th>\n",
       "      <th>CATEGORY*</th>\n",
       "      <th>START*</th>\n",
       "      <th>STOP*</th>\n",
       "      <th>MILES*</th>\n",
       "      <th>PURPOSE*</th>\n",
       "    </tr>\n",
       "  </thead>\n",
       "  <tbody>\n",
       "    <tr>\n",
       "      <th>1155</th>\n",
       "      <td>Totals</td>\n",
       "      <td>NaN</td>\n",
       "      <td>NaN</td>\n",
       "      <td>NaN</td>\n",
       "      <td>NaN</td>\n",
       "      <td>12204.7</td>\n",
       "      <td>NaN</td>\n",
       "    </tr>\n",
       "  </tbody>\n",
       "</table>\n",
       "</div>"
      ],
      "text/plain": [
       "     START_DATE* END_DATE* CATEGORY* START* STOP*   MILES* PURPOSE*\n",
       "1155      Totals       NaN       NaN    NaN   NaN  12204.7      NaN"
      ]
     },
     "execution_count": 16,
     "metadata": {},
     "output_type": "execute_result"
    }
   ],
   "source": [
    "df[df['END_DATE*'].isnull()]"
   ]
  },
  {
   "cell_type": "code",
   "execution_count": 17,
   "metadata": {},
   "outputs": [],
   "source": [
    "# the above record has no entry apart from the miles and can be discarded\n",
    "df.drop(1155, inplace = True)  \n",
    "# we set the inplace attribute to True so that the row is dropped and the dataframe is updated simultaneously."
   ]
  },
  {
   "cell_type": "code",
   "execution_count": 18,
   "metadata": {
    "scrolled": false
   },
   "outputs": [
    {
     "data": {
      "text/plain": [
       "(Empty DataFrame\n",
       " Columns: [START_DATE*, END_DATE*, CATEGORY*, START*, STOP*, MILES*, PURPOSE*]\n",
       " Index: [], (1155, 7))"
      ]
     },
     "execution_count": 18,
     "metadata": {},
     "output_type": "execute_result"
    }
   ],
   "source": [
    "df[df['END_DATE*'].isnull()], df.shape\n",
    "# note that the row is now dropped"
   ]
  },
  {
   "cell_type": "markdown",
   "metadata": {},
   "source": [
    "Note that while we dropped the row above, we will discuss in detail the techniques to handle the missing data in the upcomping weeks."
   ]
  },
  {
   "cell_type": "markdown",
   "metadata": {
    "colab_type": "text",
    "id": "PgNx3U4j73ux"
   },
   "source": [
    "### Renaming columns"
   ]
  },
  {
   "cell_type": "code",
   "execution_count": 19,
   "metadata": {
    "colab": {
     "base_uri": "https://localhost:8080/",
     "height": 204
    },
    "colab_type": "code",
    "id": "j0YgTTz-73ux",
    "outputId": "92bc3544-8f0f-4b70-d3e7-156b676c777b"
   },
   "outputs": [
    {
     "data": {
      "text/html": [
       "<div>\n",
       "<style scoped>\n",
       "    .dataframe tbody tr th:only-of-type {\n",
       "        vertical-align: middle;\n",
       "    }\n",
       "\n",
       "    .dataframe tbody tr th {\n",
       "        vertical-align: top;\n",
       "    }\n",
       "\n",
       "    .dataframe thead th {\n",
       "        text-align: right;\n",
       "    }\n",
       "</style>\n",
       "<table border=\"1\" class=\"dataframe\">\n",
       "  <thead>\n",
       "    <tr style=\"text-align: right;\">\n",
       "      <th></th>\n",
       "      <th>START_DATE</th>\n",
       "      <th>END_DATE</th>\n",
       "      <th>CAT</th>\n",
       "      <th>START</th>\n",
       "      <th>STOP</th>\n",
       "      <th>MILES</th>\n",
       "      <th>PURPOSE</th>\n",
       "    </tr>\n",
       "  </thead>\n",
       "  <tbody>\n",
       "    <tr>\n",
       "      <th>0</th>\n",
       "      <td>1/1/2016 21:11</td>\n",
       "      <td>1/1/2016 21:17</td>\n",
       "      <td>Business</td>\n",
       "      <td>Fort Pierce</td>\n",
       "      <td>Fort Pierce</td>\n",
       "      <td>5.1</td>\n",
       "      <td>Meal/Entertain</td>\n",
       "    </tr>\n",
       "    <tr>\n",
       "      <th>1</th>\n",
       "      <td>1/2/2016 1:25</td>\n",
       "      <td>1/2/2016 1:37</td>\n",
       "      <td>Business</td>\n",
       "      <td>Fort Pierce</td>\n",
       "      <td>Fort Pierce</td>\n",
       "      <td>5.0</td>\n",
       "      <td>NaN</td>\n",
       "    </tr>\n",
       "    <tr>\n",
       "      <th>2</th>\n",
       "      <td>1/2/2016 20:25</td>\n",
       "      <td>1/2/2016 20:38</td>\n",
       "      <td>Business</td>\n",
       "      <td>Fort Pierce</td>\n",
       "      <td>Fort Pierce</td>\n",
       "      <td>4.8</td>\n",
       "      <td>Errand/Supplies</td>\n",
       "    </tr>\n",
       "    <tr>\n",
       "      <th>3</th>\n",
       "      <td>1/5/2016 17:31</td>\n",
       "      <td>1/5/2016 17:45</td>\n",
       "      <td>Business</td>\n",
       "      <td>Fort Pierce</td>\n",
       "      <td>Fort Pierce</td>\n",
       "      <td>4.7</td>\n",
       "      <td>Meeting</td>\n",
       "    </tr>\n",
       "    <tr>\n",
       "      <th>4</th>\n",
       "      <td>1/6/2016 14:42</td>\n",
       "      <td>1/6/2016 15:49</td>\n",
       "      <td>Business</td>\n",
       "      <td>Fort Pierce</td>\n",
       "      <td>West Palm Beach</td>\n",
       "      <td>63.7</td>\n",
       "      <td>Customer Visit</td>\n",
       "    </tr>\n",
       "  </tbody>\n",
       "</table>\n",
       "</div>"
      ],
      "text/plain": [
       "       START_DATE        END_DATE       CAT        START             STOP  \\\n",
       "0  1/1/2016 21:11  1/1/2016 21:17  Business  Fort Pierce      Fort Pierce   \n",
       "1   1/2/2016 1:25   1/2/2016 1:37  Business  Fort Pierce      Fort Pierce   \n",
       "2  1/2/2016 20:25  1/2/2016 20:38  Business  Fort Pierce      Fort Pierce   \n",
       "3  1/5/2016 17:31  1/5/2016 17:45  Business  Fort Pierce      Fort Pierce   \n",
       "4  1/6/2016 14:42  1/6/2016 15:49  Business  Fort Pierce  West Palm Beach   \n",
       "\n",
       "   MILES          PURPOSE  \n",
       "0    5.1   Meal/Entertain  \n",
       "1    5.0              NaN  \n",
       "2    4.8  Errand/Supplies  \n",
       "3    4.7          Meeting  \n",
       "4   63.7   Customer Visit  "
      ]
     },
     "execution_count": 19,
     "metadata": {},
     "output_type": "execute_result"
    }
   ],
   "source": [
    "# Rename the columns to remove the * from the names\n",
    "# Why ? we can use df.START_DATE same way as  df['START_DATE*']\n",
    "col_names = ['START_DATE','END_DATE','CAT', 'START' , 'STOP' , 'MILES','PURPOSE']\n",
    "df.columns = col_names\n",
    "\n",
    "\n",
    "#or \n",
    "# Replace the * character from all the  columns .\n",
    "# ( in case you have many columns and cant manually write the column names )\n",
    "df.columns = df.columns.str.replace(\"*\", \"\")\n",
    "\n",
    "# You can also rename the specific column names \n",
    "df.rename( columns = {'CAT':'CATEGORY'})\n",
    "df.head()"
   ]
  },
  {
   "cell_type": "markdown",
   "metadata": {
    "colab_type": "text",
    "id": "Ebt8vpgH73u3"
   },
   "source": [
    "### <a id = \"link3\"></a>Filtering dataframes\n",
    "#### Using null values"
   ]
  },
  {
   "cell_type": "code",
   "execution_count": 20,
   "metadata": {
    "colab": {
     "base_uri": "https://localhost:8080/",
     "height": 419
    },
    "colab_type": "code",
    "id": "AA1Def0u73u3",
    "outputId": "06b8ba30-5d85-45d8-8bbb-fcacd907526b",
    "scrolled": false
   },
   "outputs": [
    {
     "data": {
      "text/html": [
       "<div>\n",
       "<style scoped>\n",
       "    .dataframe tbody tr th:only-of-type {\n",
       "        vertical-align: middle;\n",
       "    }\n",
       "\n",
       "    .dataframe tbody tr th {\n",
       "        vertical-align: top;\n",
       "    }\n",
       "\n",
       "    .dataframe thead th {\n",
       "        text-align: right;\n",
       "    }\n",
       "</style>\n",
       "<table border=\"1\" class=\"dataframe\">\n",
       "  <thead>\n",
       "    <tr style=\"text-align: right;\">\n",
       "      <th></th>\n",
       "      <th>START_DATE</th>\n",
       "      <th>END_DATE</th>\n",
       "      <th>CAT</th>\n",
       "      <th>START</th>\n",
       "      <th>STOP</th>\n",
       "      <th>MILES</th>\n",
       "      <th>PURPOSE</th>\n",
       "    </tr>\n",
       "  </thead>\n",
       "  <tbody>\n",
       "    <tr>\n",
       "      <th>1</th>\n",
       "      <td>1/2/2016 1:25</td>\n",
       "      <td>1/2/2016 1:37</td>\n",
       "      <td>Business</td>\n",
       "      <td>Fort Pierce</td>\n",
       "      <td>Fort Pierce</td>\n",
       "      <td>5.0</td>\n",
       "      <td>NaN</td>\n",
       "    </tr>\n",
       "    <tr>\n",
       "      <th>32</th>\n",
       "      <td>1/19/2016 9:09</td>\n",
       "      <td>1/19/2016 9:23</td>\n",
       "      <td>Business</td>\n",
       "      <td>Whitebridge</td>\n",
       "      <td>Lake Wellingborough</td>\n",
       "      <td>7.2</td>\n",
       "      <td>NaN</td>\n",
       "    </tr>\n",
       "    <tr>\n",
       "      <th>85</th>\n",
       "      <td>2/9/2016 10:54</td>\n",
       "      <td>2/9/2016 11:07</td>\n",
       "      <td>Personal</td>\n",
       "      <td>Whitebridge</td>\n",
       "      <td>Northwoods</td>\n",
       "      <td>5.3</td>\n",
       "      <td>NaN</td>\n",
       "    </tr>\n",
       "    <tr>\n",
       "      <th>86</th>\n",
       "      <td>2/9/2016 11:43</td>\n",
       "      <td>2/9/2016 11:50</td>\n",
       "      <td>Personal</td>\n",
       "      <td>Northwoods</td>\n",
       "      <td>Tanglewood</td>\n",
       "      <td>3.0</td>\n",
       "      <td>NaN</td>\n",
       "    </tr>\n",
       "    <tr>\n",
       "      <th>87</th>\n",
       "      <td>2/9/2016 13:36</td>\n",
       "      <td>2/9/2016 13:52</td>\n",
       "      <td>Personal</td>\n",
       "      <td>Tanglewood</td>\n",
       "      <td>Preston</td>\n",
       "      <td>5.1</td>\n",
       "      <td>NaN</td>\n",
       "    </tr>\n",
       "  </tbody>\n",
       "</table>\n",
       "</div>"
      ],
      "text/plain": [
       "        START_DATE        END_DATE       CAT        START  \\\n",
       "1    1/2/2016 1:25   1/2/2016 1:37  Business  Fort Pierce   \n",
       "32  1/19/2016 9:09  1/19/2016 9:23  Business  Whitebridge   \n",
       "85  2/9/2016 10:54  2/9/2016 11:07  Personal  Whitebridge   \n",
       "86  2/9/2016 11:43  2/9/2016 11:50  Personal   Northwoods   \n",
       "87  2/9/2016 13:36  2/9/2016 13:52  Personal   Tanglewood   \n",
       "\n",
       "                   STOP  MILES PURPOSE  \n",
       "1           Fort Pierce    5.0     NaN  \n",
       "32  Lake Wellingborough    7.2     NaN  \n",
       "85           Northwoods    5.3     NaN  \n",
       "86           Tanglewood    3.0     NaN  \n",
       "87              Preston    5.1     NaN  "
      ]
     },
     "execution_count": 20,
     "metadata": {},
     "output_type": "execute_result"
    }
   ],
   "source": [
    "# Operation 1\n",
    "# shows the top 5 entries where PURPOSE is null\n",
    "df[df.PURPOSE.isnull()].head(5)"
   ]
  },
  {
   "cell_type": "code",
   "execution_count": 21,
   "metadata": {
    "scrolled": true
   },
   "outputs": [
    {
     "data": {
      "text/html": [
       "<div>\n",
       "<style scoped>\n",
       "    .dataframe tbody tr th:only-of-type {\n",
       "        vertical-align: middle;\n",
       "    }\n",
       "\n",
       "    .dataframe tbody tr th {\n",
       "        vertical-align: top;\n",
       "    }\n",
       "\n",
       "    .dataframe thead th {\n",
       "        text-align: right;\n",
       "    }\n",
       "</style>\n",
       "<table border=\"1\" class=\"dataframe\">\n",
       "  <thead>\n",
       "    <tr style=\"text-align: right;\">\n",
       "      <th></th>\n",
       "      <th>START_DATE</th>\n",
       "      <th>END_DATE</th>\n",
       "      <th>CAT</th>\n",
       "      <th>START</th>\n",
       "      <th>STOP</th>\n",
       "      <th>MILES</th>\n",
       "      <th>PURPOSE</th>\n",
       "    </tr>\n",
       "  </thead>\n",
       "  <tbody>\n",
       "    <tr>\n",
       "      <th>1</th>\n",
       "      <td>1/2/2016 1:25</td>\n",
       "      <td>1/2/2016 1:37</td>\n",
       "      <td>Business</td>\n",
       "      <td>Fort Pierce</td>\n",
       "      <td>Fort Pierce</td>\n",
       "      <td>5.0</td>\n",
       "      <td>NaN</td>\n",
       "    </tr>\n",
       "    <tr>\n",
       "      <th>32</th>\n",
       "      <td>1/19/2016 9:09</td>\n",
       "      <td>1/19/2016 9:23</td>\n",
       "      <td>Business</td>\n",
       "      <td>Whitebridge</td>\n",
       "      <td>Lake Wellingborough</td>\n",
       "      <td>7.2</td>\n",
       "      <td>NaN</td>\n",
       "    </tr>\n",
       "    <tr>\n",
       "      <th>85</th>\n",
       "      <td>2/9/2016 10:54</td>\n",
       "      <td>2/9/2016 11:07</td>\n",
       "      <td>Personal</td>\n",
       "      <td>Whitebridge</td>\n",
       "      <td>Northwoods</td>\n",
       "      <td>5.3</td>\n",
       "      <td>NaN</td>\n",
       "    </tr>\n",
       "    <tr>\n",
       "      <th>86</th>\n",
       "      <td>2/9/2016 11:43</td>\n",
       "      <td>2/9/2016 11:50</td>\n",
       "      <td>Personal</td>\n",
       "      <td>Northwoods</td>\n",
       "      <td>Tanglewood</td>\n",
       "      <td>3.0</td>\n",
       "      <td>NaN</td>\n",
       "    </tr>\n",
       "    <tr>\n",
       "      <th>87</th>\n",
       "      <td>2/9/2016 13:36</td>\n",
       "      <td>2/9/2016 13:52</td>\n",
       "      <td>Personal</td>\n",
       "      <td>Tanglewood</td>\n",
       "      <td>Preston</td>\n",
       "      <td>5.1</td>\n",
       "      <td>NaN</td>\n",
       "    </tr>\n",
       "  </tbody>\n",
       "</table>\n",
       "</div>"
      ],
      "text/plain": [
       "        START_DATE        END_DATE       CAT        START  \\\n",
       "1    1/2/2016 1:25   1/2/2016 1:37  Business  Fort Pierce   \n",
       "32  1/19/2016 9:09  1/19/2016 9:23  Business  Whitebridge   \n",
       "85  2/9/2016 10:54  2/9/2016 11:07  Personal  Whitebridge   \n",
       "86  2/9/2016 11:43  2/9/2016 11:50  Personal   Northwoods   \n",
       "87  2/9/2016 13:36  2/9/2016 13:52  Personal   Tanglewood   \n",
       "\n",
       "                   STOP  MILES PURPOSE  \n",
       "1           Fort Pierce    5.0     NaN  \n",
       "32  Lake Wellingborough    7.2     NaN  \n",
       "85           Northwoods    5.3     NaN  \n",
       "86           Tanglewood    3.0     NaN  \n",
       "87              Preston    5.1     NaN  "
      ]
     },
     "execution_count": 21,
     "metadata": {},
     "output_type": "execute_result"
    }
   ],
   "source": [
    "# Operation 2\n",
    "# Here we have the rows that have atleast one null value. Note that since only PURPOSE column has the null value,\n",
    "# We will get all the records where purpose is null\n",
    "df[df.isnull().any(axis = 1)].head(5)"
   ]
  },
  {
   "cell_type": "code",
   "execution_count": 22,
   "metadata": {
    "colab": {
     "base_uri": "https://localhost:8080/",
     "height": 419
    },
    "colab_type": "code",
    "id": "kLcmzTuSAK1V",
    "outputId": "1eb2ab6d-02ad-4f6f-bcb3-32bf77414469",
    "scrolled": true
   },
   "outputs": [
    {
     "data": {
      "text/html": [
       "<div>\n",
       "<style scoped>\n",
       "    .dataframe tbody tr th:only-of-type {\n",
       "        vertical-align: middle;\n",
       "    }\n",
       "\n",
       "    .dataframe tbody tr th {\n",
       "        vertical-align: top;\n",
       "    }\n",
       "\n",
       "    .dataframe thead th {\n",
       "        text-align: right;\n",
       "    }\n",
       "</style>\n",
       "<table border=\"1\" class=\"dataframe\">\n",
       "  <thead>\n",
       "    <tr style=\"text-align: right;\">\n",
       "      <th></th>\n",
       "      <th>START_DATE</th>\n",
       "      <th>END_DATE</th>\n",
       "      <th>CAT</th>\n",
       "      <th>START</th>\n",
       "      <th>STOP</th>\n",
       "      <th>MILES</th>\n",
       "      <th>PURPOSE</th>\n",
       "    </tr>\n",
       "  </thead>\n",
       "  <tbody>\n",
       "    <tr>\n",
       "      <th>0</th>\n",
       "      <td>1/1/2016 21:11</td>\n",
       "      <td>1/1/2016 21:17</td>\n",
       "      <td>Business</td>\n",
       "      <td>Fort Pierce</td>\n",
       "      <td>Fort Pierce</td>\n",
       "      <td>5.1</td>\n",
       "      <td>Meal/Entertain</td>\n",
       "    </tr>\n",
       "    <tr>\n",
       "      <th>2</th>\n",
       "      <td>1/2/2016 20:25</td>\n",
       "      <td>1/2/2016 20:38</td>\n",
       "      <td>Business</td>\n",
       "      <td>Fort Pierce</td>\n",
       "      <td>Fort Pierce</td>\n",
       "      <td>4.8</td>\n",
       "      <td>Errand/Supplies</td>\n",
       "    </tr>\n",
       "    <tr>\n",
       "      <th>3</th>\n",
       "      <td>1/5/2016 17:31</td>\n",
       "      <td>1/5/2016 17:45</td>\n",
       "      <td>Business</td>\n",
       "      <td>Fort Pierce</td>\n",
       "      <td>Fort Pierce</td>\n",
       "      <td>4.7</td>\n",
       "      <td>Meeting</td>\n",
       "    </tr>\n",
       "    <tr>\n",
       "      <th>4</th>\n",
       "      <td>1/6/2016 14:42</td>\n",
       "      <td>1/6/2016 15:49</td>\n",
       "      <td>Business</td>\n",
       "      <td>Fort Pierce</td>\n",
       "      <td>West Palm Beach</td>\n",
       "      <td>63.7</td>\n",
       "      <td>Customer Visit</td>\n",
       "    </tr>\n",
       "    <tr>\n",
       "      <th>5</th>\n",
       "      <td>1/6/2016 17:15</td>\n",
       "      <td>1/6/2016 17:19</td>\n",
       "      <td>Business</td>\n",
       "      <td>West Palm Beach</td>\n",
       "      <td>West Palm Beach</td>\n",
       "      <td>4.3</td>\n",
       "      <td>Meal/Entertain</td>\n",
       "    </tr>\n",
       "    <tr>\n",
       "      <th>6</th>\n",
       "      <td>1/6/2016 17:30</td>\n",
       "      <td>1/6/2016 17:35</td>\n",
       "      <td>Business</td>\n",
       "      <td>West Palm Beach</td>\n",
       "      <td>Palm Beach</td>\n",
       "      <td>7.1</td>\n",
       "      <td>Meeting</td>\n",
       "    </tr>\n",
       "    <tr>\n",
       "      <th>7</th>\n",
       "      <td>1/7/2016 13:27</td>\n",
       "      <td>1/7/2016 13:33</td>\n",
       "      <td>Business</td>\n",
       "      <td>Cary</td>\n",
       "      <td>Cary</td>\n",
       "      <td>0.8</td>\n",
       "      <td>Meeting</td>\n",
       "    </tr>\n",
       "    <tr>\n",
       "      <th>8</th>\n",
       "      <td>1/10/2016 8:05</td>\n",
       "      <td>1/10/2016 8:25</td>\n",
       "      <td>Business</td>\n",
       "      <td>Cary</td>\n",
       "      <td>Morrisville</td>\n",
       "      <td>8.3</td>\n",
       "      <td>Meeting</td>\n",
       "    </tr>\n",
       "    <tr>\n",
       "      <th>9</th>\n",
       "      <td>1/10/2016 12:17</td>\n",
       "      <td>1/10/2016 12:44</td>\n",
       "      <td>Business</td>\n",
       "      <td>Jamaica</td>\n",
       "      <td>New York</td>\n",
       "      <td>16.5</td>\n",
       "      <td>Customer Visit</td>\n",
       "    </tr>\n",
       "    <tr>\n",
       "      <th>10</th>\n",
       "      <td>1/10/2016 15:08</td>\n",
       "      <td>1/10/2016 15:51</td>\n",
       "      <td>Business</td>\n",
       "      <td>New York</td>\n",
       "      <td>Queens</td>\n",
       "      <td>10.8</td>\n",
       "      <td>Meeting</td>\n",
       "    </tr>\n",
       "    <tr>\n",
       "      <th>11</th>\n",
       "      <td>1/10/2016 18:18</td>\n",
       "      <td>1/10/2016 18:53</td>\n",
       "      <td>Business</td>\n",
       "      <td>Elmhurst</td>\n",
       "      <td>New York</td>\n",
       "      <td>7.5</td>\n",
       "      <td>Meeting</td>\n",
       "    </tr>\n",
       "    <tr>\n",
       "      <th>12</th>\n",
       "      <td>1/10/2016 19:12</td>\n",
       "      <td>1/10/2016 19:32</td>\n",
       "      <td>Business</td>\n",
       "      <td>Midtown</td>\n",
       "      <td>East Harlem</td>\n",
       "      <td>6.2</td>\n",
       "      <td>Meeting</td>\n",
       "    </tr>\n",
       "    <tr>\n",
       "      <th>13</th>\n",
       "      <td>1/11/2016 8:55</td>\n",
       "      <td>1/11/2016 9:21</td>\n",
       "      <td>Business</td>\n",
       "      <td>East Harlem</td>\n",
       "      <td>NoMad</td>\n",
       "      <td>6.4</td>\n",
       "      <td>Temporary Site</td>\n",
       "    </tr>\n",
       "    <tr>\n",
       "      <th>14</th>\n",
       "      <td>1/11/2016 11:56</td>\n",
       "      <td>1/11/2016 12:03</td>\n",
       "      <td>Business</td>\n",
       "      <td>Flatiron District</td>\n",
       "      <td>Midtown</td>\n",
       "      <td>1.6</td>\n",
       "      <td>Errand/Supplies</td>\n",
       "    </tr>\n",
       "    <tr>\n",
       "      <th>15</th>\n",
       "      <td>1/11/2016 13:32</td>\n",
       "      <td>1/11/2016 13:46</td>\n",
       "      <td>Business</td>\n",
       "      <td>Midtown</td>\n",
       "      <td>Midtown East</td>\n",
       "      <td>1.7</td>\n",
       "      <td>Meal/Entertain</td>\n",
       "    </tr>\n",
       "    <tr>\n",
       "      <th>16</th>\n",
       "      <td>1/11/2016 14:30</td>\n",
       "      <td>1/11/2016 14:43</td>\n",
       "      <td>Business</td>\n",
       "      <td>Midtown East</td>\n",
       "      <td>Midtown</td>\n",
       "      <td>1.9</td>\n",
       "      <td>Meal/Entertain</td>\n",
       "    </tr>\n",
       "    <tr>\n",
       "      <th>17</th>\n",
       "      <td>1/12/2016 12:33</td>\n",
       "      <td>1/12/2016 12:49</td>\n",
       "      <td>Business</td>\n",
       "      <td>Midtown</td>\n",
       "      <td>Hudson Square</td>\n",
       "      <td>1.9</td>\n",
       "      <td>Meal/Entertain</td>\n",
       "    </tr>\n",
       "    <tr>\n",
       "      <th>18</th>\n",
       "      <td>1/12/2016 12:53</td>\n",
       "      <td>1/12/2016 13:09</td>\n",
       "      <td>Business</td>\n",
       "      <td>Hudson Square</td>\n",
       "      <td>Lower Manhattan</td>\n",
       "      <td>4.0</td>\n",
       "      <td>Meal/Entertain</td>\n",
       "    </tr>\n",
       "    <tr>\n",
       "      <th>19</th>\n",
       "      <td>1/12/2016 14:42</td>\n",
       "      <td>1/12/2016 14:56</td>\n",
       "      <td>Business</td>\n",
       "      <td>Lower Manhattan</td>\n",
       "      <td>Hudson Square</td>\n",
       "      <td>1.8</td>\n",
       "      <td>Errand/Supplies</td>\n",
       "    </tr>\n",
       "    <tr>\n",
       "      <th>20</th>\n",
       "      <td>1/12/2016 15:13</td>\n",
       "      <td>1/12/2016 15:28</td>\n",
       "      <td>Business</td>\n",
       "      <td>Hudson Square</td>\n",
       "      <td>Hell's Kitchen</td>\n",
       "      <td>2.4</td>\n",
       "      <td>Customer Visit</td>\n",
       "    </tr>\n",
       "    <tr>\n",
       "      <th>21</th>\n",
       "      <td>1/12/2016 15:42</td>\n",
       "      <td>1/12/2016 15:54</td>\n",
       "      <td>Business</td>\n",
       "      <td>Hell's Kitchen</td>\n",
       "      <td>Midtown</td>\n",
       "      <td>2.0</td>\n",
       "      <td>Errand/Supplies</td>\n",
       "    </tr>\n",
       "    <tr>\n",
       "      <th>22</th>\n",
       "      <td>1/12/2016 16:02</td>\n",
       "      <td>1/12/2016 17:00</td>\n",
       "      <td>Business</td>\n",
       "      <td>New York</td>\n",
       "      <td>Queens County</td>\n",
       "      <td>15.1</td>\n",
       "      <td>Meeting</td>\n",
       "    </tr>\n",
       "    <tr>\n",
       "      <th>23</th>\n",
       "      <td>1/13/2016 13:54</td>\n",
       "      <td>1/13/2016 14:07</td>\n",
       "      <td>Business</td>\n",
       "      <td>Downtown</td>\n",
       "      <td>Gulfton</td>\n",
       "      <td>11.2</td>\n",
       "      <td>Meeting</td>\n",
       "    </tr>\n",
       "    <tr>\n",
       "      <th>24</th>\n",
       "      <td>1/13/2016 15:00</td>\n",
       "      <td>1/13/2016 15:28</td>\n",
       "      <td>Business</td>\n",
       "      <td>Gulfton</td>\n",
       "      <td>Downtown</td>\n",
       "      <td>11.8</td>\n",
       "      <td>Meeting</td>\n",
       "    </tr>\n",
       "    <tr>\n",
       "      <th>25</th>\n",
       "      <td>1/14/2016 16:29</td>\n",
       "      <td>1/14/2016 17:05</td>\n",
       "      <td>Business</td>\n",
       "      <td>Houston</td>\n",
       "      <td>Houston</td>\n",
       "      <td>21.9</td>\n",
       "      <td>Customer Visit</td>\n",
       "    </tr>\n",
       "    <tr>\n",
       "      <th>26</th>\n",
       "      <td>1/14/2016 21:39</td>\n",
       "      <td>1/14/2016 21:45</td>\n",
       "      <td>Business</td>\n",
       "      <td>Eagan Park</td>\n",
       "      <td>Jamestown Court</td>\n",
       "      <td>3.9</td>\n",
       "      <td>Errand/Supplies</td>\n",
       "    </tr>\n",
       "    <tr>\n",
       "      <th>27</th>\n",
       "      <td>1/15/2016 0:41</td>\n",
       "      <td>1/15/2016 1:01</td>\n",
       "      <td>Business</td>\n",
       "      <td>Morrisville</td>\n",
       "      <td>Cary</td>\n",
       "      <td>8.0</td>\n",
       "      <td>Errand/Supplies</td>\n",
       "    </tr>\n",
       "    <tr>\n",
       "      <th>28</th>\n",
       "      <td>1/15/2016 11:43</td>\n",
       "      <td>1/15/2016 12:03</td>\n",
       "      <td>Business</td>\n",
       "      <td>Cary</td>\n",
       "      <td>Durham</td>\n",
       "      <td>10.4</td>\n",
       "      <td>Meal/Entertain</td>\n",
       "    </tr>\n",
       "    <tr>\n",
       "      <th>29</th>\n",
       "      <td>1/15/2016 13:26</td>\n",
       "      <td>1/15/2016 13:44</td>\n",
       "      <td>Business</td>\n",
       "      <td>Durham</td>\n",
       "      <td>Cary</td>\n",
       "      <td>10.4</td>\n",
       "      <td>Meal/Entertain</td>\n",
       "    </tr>\n",
       "    <tr>\n",
       "      <th>30</th>\n",
       "      <td>1/18/2016 14:55</td>\n",
       "      <td>1/18/2016 15:06</td>\n",
       "      <td>Business</td>\n",
       "      <td>Cary</td>\n",
       "      <td>Cary</td>\n",
       "      <td>4.8</td>\n",
       "      <td>Meal/Entertain</td>\n",
       "    </tr>\n",
       "    <tr>\n",
       "      <th>...</th>\n",
       "      <td>...</td>\n",
       "      <td>...</td>\n",
       "      <td>...</td>\n",
       "      <td>...</td>\n",
       "      <td>...</td>\n",
       "      <td>...</td>\n",
       "      <td>...</td>\n",
       "    </tr>\n",
       "    <tr>\n",
       "      <th>1124</th>\n",
       "      <td>12/27/2016 19:19</td>\n",
       "      <td>12/27/2016 19:50</td>\n",
       "      <td>Business</td>\n",
       "      <td>Kar?chi</td>\n",
       "      <td>Kar?chi</td>\n",
       "      <td>5.5</td>\n",
       "      <td>Customer Visit</td>\n",
       "    </tr>\n",
       "    <tr>\n",
       "      <th>1125</th>\n",
       "      <td>12/28/2016 8:34</td>\n",
       "      <td>12/28/2016 9:06</td>\n",
       "      <td>Business</td>\n",
       "      <td>Kar?chi</td>\n",
       "      <td>Unknown Location</td>\n",
       "      <td>10.3</td>\n",
       "      <td>Meal/Entertain</td>\n",
       "    </tr>\n",
       "    <tr>\n",
       "      <th>1126</th>\n",
       "      <td>12/28/2016 11:42</td>\n",
       "      <td>12/28/2016 12:12</td>\n",
       "      <td>Business</td>\n",
       "      <td>Unknown Location</td>\n",
       "      <td>Kar?chi</td>\n",
       "      <td>10.4</td>\n",
       "      <td>Errand/Supplies</td>\n",
       "    </tr>\n",
       "    <tr>\n",
       "      <th>1127</th>\n",
       "      <td>12/28/2016 13:53</td>\n",
       "      <td>12/28/2016 14:01</td>\n",
       "      <td>Business</td>\n",
       "      <td>Kar?chi</td>\n",
       "      <td>Kar?chi</td>\n",
       "      <td>2.0</td>\n",
       "      <td>Errand/Supplies</td>\n",
       "    </tr>\n",
       "    <tr>\n",
       "      <th>1128</th>\n",
       "      <td>12/28/2016 15:04</td>\n",
       "      <td>12/28/2016 15:39</td>\n",
       "      <td>Business</td>\n",
       "      <td>Kar?chi</td>\n",
       "      <td>Unknown Location</td>\n",
       "      <td>8.5</td>\n",
       "      <td>Meal/Entertain</td>\n",
       "    </tr>\n",
       "    <tr>\n",
       "      <th>1129</th>\n",
       "      <td>12/28/2016 17:02</td>\n",
       "      <td>12/28/2016 17:16</td>\n",
       "      <td>Business</td>\n",
       "      <td>Unknown Location</td>\n",
       "      <td>Kar?chi</td>\n",
       "      <td>4.4</td>\n",
       "      <td>Errand/Supplies</td>\n",
       "    </tr>\n",
       "    <tr>\n",
       "      <th>1130</th>\n",
       "      <td>12/28/2016 18:33</td>\n",
       "      <td>12/28/2016 18:56</td>\n",
       "      <td>Business</td>\n",
       "      <td>Kar?chi</td>\n",
       "      <td>Kar?chi</td>\n",
       "      <td>3.8</td>\n",
       "      <td>Errand/Supplies</td>\n",
       "    </tr>\n",
       "    <tr>\n",
       "      <th>1131</th>\n",
       "      <td>12/28/2016 22:44</td>\n",
       "      <td>12/28/2016 23:18</td>\n",
       "      <td>Business</td>\n",
       "      <td>Kar?chi</td>\n",
       "      <td>Kar?chi</td>\n",
       "      <td>5.1</td>\n",
       "      <td>Errand/Supplies</td>\n",
       "    </tr>\n",
       "    <tr>\n",
       "      <th>1132</th>\n",
       "      <td>12/29/2016 0:49</td>\n",
       "      <td>12/29/2016 1:06</td>\n",
       "      <td>Business</td>\n",
       "      <td>Kar?chi</td>\n",
       "      <td>Kar?chi</td>\n",
       "      <td>3.8</td>\n",
       "      <td>Errand/Supplies</td>\n",
       "    </tr>\n",
       "    <tr>\n",
       "      <th>1133</th>\n",
       "      <td>12/29/2016 9:44</td>\n",
       "      <td>12/29/2016 10:07</td>\n",
       "      <td>Business</td>\n",
       "      <td>Kar?chi</td>\n",
       "      <td>Unknown Location</td>\n",
       "      <td>11.6</td>\n",
       "      <td>Meal/Entertain</td>\n",
       "    </tr>\n",
       "    <tr>\n",
       "      <th>1134</th>\n",
       "      <td>12/29/2016 11:28</td>\n",
       "      <td>12/29/2016 12:00</td>\n",
       "      <td>Business</td>\n",
       "      <td>Unknown Location</td>\n",
       "      <td>Kar?chi</td>\n",
       "      <td>11.9</td>\n",
       "      <td>Meal/Entertain</td>\n",
       "    </tr>\n",
       "    <tr>\n",
       "      <th>1135</th>\n",
       "      <td>12/29/2016 12:25</td>\n",
       "      <td>12/29/2016 12:33</td>\n",
       "      <td>Business</td>\n",
       "      <td>Kar?chi</td>\n",
       "      <td>Kar?chi</td>\n",
       "      <td>1.4</td>\n",
       "      <td>Errand/Supplies</td>\n",
       "    </tr>\n",
       "    <tr>\n",
       "      <th>1136</th>\n",
       "      <td>12/29/2016 13:17</td>\n",
       "      <td>12/29/2016 13:24</td>\n",
       "      <td>Business</td>\n",
       "      <td>Kar?chi</td>\n",
       "      <td>Kar?chi</td>\n",
       "      <td>1.1</td>\n",
       "      <td>Errand/Supplies</td>\n",
       "    </tr>\n",
       "    <tr>\n",
       "      <th>1137</th>\n",
       "      <td>12/29/2016 13:56</td>\n",
       "      <td>12/29/2016 14:11</td>\n",
       "      <td>Business</td>\n",
       "      <td>Kar?chi</td>\n",
       "      <td>Kar?chi</td>\n",
       "      <td>4.1</td>\n",
       "      <td>Airport/Travel</td>\n",
       "    </tr>\n",
       "    <tr>\n",
       "      <th>1138</th>\n",
       "      <td>12/29/2016 14:42</td>\n",
       "      <td>12/29/2016 14:58</td>\n",
       "      <td>Business</td>\n",
       "      <td>Kar?chi</td>\n",
       "      <td>Kar?chi</td>\n",
       "      <td>6.1</td>\n",
       "      <td>Between Offices</td>\n",
       "    </tr>\n",
       "    <tr>\n",
       "      <th>1139</th>\n",
       "      <td>12/29/2016 15:05</td>\n",
       "      <td>12/29/2016 15:16</td>\n",
       "      <td>Business</td>\n",
       "      <td>Kar?chi</td>\n",
       "      <td>Kar?chi</td>\n",
       "      <td>1.3</td>\n",
       "      <td>Errand/Supplies</td>\n",
       "    </tr>\n",
       "    <tr>\n",
       "      <th>1140</th>\n",
       "      <td>12/29/2016 18:59</td>\n",
       "      <td>12/29/2016 19:14</td>\n",
       "      <td>Business</td>\n",
       "      <td>Kar?chi</td>\n",
       "      <td>Unknown Location</td>\n",
       "      <td>3.0</td>\n",
       "      <td>Meal/Entertain</td>\n",
       "    </tr>\n",
       "    <tr>\n",
       "      <th>1141</th>\n",
       "      <td>12/29/2016 19:50</td>\n",
       "      <td>12/29/2016 20:10</td>\n",
       "      <td>Business</td>\n",
       "      <td>Unknown Location</td>\n",
       "      <td>Kar?chi</td>\n",
       "      <td>4.1</td>\n",
       "      <td>Customer Visit</td>\n",
       "    </tr>\n",
       "    <tr>\n",
       "      <th>1142</th>\n",
       "      <td>12/29/2016 20:15</td>\n",
       "      <td>12/29/2016 20:45</td>\n",
       "      <td>Business</td>\n",
       "      <td>Kar?chi</td>\n",
       "      <td>Kar?chi</td>\n",
       "      <td>7.2</td>\n",
       "      <td>Meeting</td>\n",
       "    </tr>\n",
       "    <tr>\n",
       "      <th>1144</th>\n",
       "      <td>12/29/2016 23:14</td>\n",
       "      <td>12/29/2016 23:47</td>\n",
       "      <td>Business</td>\n",
       "      <td>Unknown Location</td>\n",
       "      <td>Kar?chi</td>\n",
       "      <td>12.9</td>\n",
       "      <td>Meeting</td>\n",
       "    </tr>\n",
       "    <tr>\n",
       "      <th>1145</th>\n",
       "      <td>12/30/2016 10:15</td>\n",
       "      <td>12/30/2016 10:33</td>\n",
       "      <td>Business</td>\n",
       "      <td>Kar?chi</td>\n",
       "      <td>Kar?chi</td>\n",
       "      <td>2.8</td>\n",
       "      <td>Errand/Supplies</td>\n",
       "    </tr>\n",
       "    <tr>\n",
       "      <th>1146</th>\n",
       "      <td>12/30/2016 11:31</td>\n",
       "      <td>12/30/2016 11:56</td>\n",
       "      <td>Business</td>\n",
       "      <td>Kar?chi</td>\n",
       "      <td>Kar?chi</td>\n",
       "      <td>2.9</td>\n",
       "      <td>Errand/Supplies</td>\n",
       "    </tr>\n",
       "    <tr>\n",
       "      <th>1147</th>\n",
       "      <td>12/30/2016 15:41</td>\n",
       "      <td>12/30/2016 16:03</td>\n",
       "      <td>Business</td>\n",
       "      <td>Kar?chi</td>\n",
       "      <td>Kar?chi</td>\n",
       "      <td>4.6</td>\n",
       "      <td>Errand/Supplies</td>\n",
       "    </tr>\n",
       "    <tr>\n",
       "      <th>1148</th>\n",
       "      <td>12/30/2016 16:45</td>\n",
       "      <td>12/30/2016 17:08</td>\n",
       "      <td>Business</td>\n",
       "      <td>Kar?chi</td>\n",
       "      <td>Kar?chi</td>\n",
       "      <td>4.6</td>\n",
       "      <td>Meeting</td>\n",
       "    </tr>\n",
       "    <tr>\n",
       "      <th>1149</th>\n",
       "      <td>12/30/2016 23:06</td>\n",
       "      <td>12/30/2016 23:10</td>\n",
       "      <td>Business</td>\n",
       "      <td>Kar?chi</td>\n",
       "      <td>Kar?chi</td>\n",
       "      <td>0.8</td>\n",
       "      <td>Customer Visit</td>\n",
       "    </tr>\n",
       "    <tr>\n",
       "      <th>1150</th>\n",
       "      <td>12/31/2016 1:07</td>\n",
       "      <td>12/31/2016 1:14</td>\n",
       "      <td>Business</td>\n",
       "      <td>Kar?chi</td>\n",
       "      <td>Kar?chi</td>\n",
       "      <td>0.7</td>\n",
       "      <td>Meeting</td>\n",
       "    </tr>\n",
       "    <tr>\n",
       "      <th>1151</th>\n",
       "      <td>12/31/2016 13:24</td>\n",
       "      <td>12/31/2016 13:42</td>\n",
       "      <td>Business</td>\n",
       "      <td>Kar?chi</td>\n",
       "      <td>Unknown Location</td>\n",
       "      <td>3.9</td>\n",
       "      <td>Temporary Site</td>\n",
       "    </tr>\n",
       "    <tr>\n",
       "      <th>1152</th>\n",
       "      <td>12/31/2016 15:03</td>\n",
       "      <td>12/31/2016 15:38</td>\n",
       "      <td>Business</td>\n",
       "      <td>Unknown Location</td>\n",
       "      <td>Unknown Location</td>\n",
       "      <td>16.2</td>\n",
       "      <td>Meeting</td>\n",
       "    </tr>\n",
       "    <tr>\n",
       "      <th>1153</th>\n",
       "      <td>12/31/2016 21:32</td>\n",
       "      <td>12/31/2016 21:50</td>\n",
       "      <td>Business</td>\n",
       "      <td>Katunayake</td>\n",
       "      <td>Gampaha</td>\n",
       "      <td>6.4</td>\n",
       "      <td>Temporary Site</td>\n",
       "    </tr>\n",
       "    <tr>\n",
       "      <th>1154</th>\n",
       "      <td>12/31/2016 22:08</td>\n",
       "      <td>12/31/2016 23:51</td>\n",
       "      <td>Business</td>\n",
       "      <td>Gampaha</td>\n",
       "      <td>Ilukwatta</td>\n",
       "      <td>48.2</td>\n",
       "      <td>Temporary Site</td>\n",
       "    </tr>\n",
       "  </tbody>\n",
       "</table>\n",
       "<p>653 rows × 7 columns</p>\n",
       "</div>"
      ],
      "text/plain": [
       "            START_DATE          END_DATE       CAT              START  \\\n",
       "0       1/1/2016 21:11    1/1/2016 21:17  Business        Fort Pierce   \n",
       "2       1/2/2016 20:25    1/2/2016 20:38  Business        Fort Pierce   \n",
       "3       1/5/2016 17:31    1/5/2016 17:45  Business        Fort Pierce   \n",
       "4       1/6/2016 14:42    1/6/2016 15:49  Business        Fort Pierce   \n",
       "5       1/6/2016 17:15    1/6/2016 17:19  Business    West Palm Beach   \n",
       "6       1/6/2016 17:30    1/6/2016 17:35  Business    West Palm Beach   \n",
       "7       1/7/2016 13:27    1/7/2016 13:33  Business               Cary   \n",
       "8       1/10/2016 8:05    1/10/2016 8:25  Business               Cary   \n",
       "9      1/10/2016 12:17   1/10/2016 12:44  Business            Jamaica   \n",
       "10     1/10/2016 15:08   1/10/2016 15:51  Business           New York   \n",
       "11     1/10/2016 18:18   1/10/2016 18:53  Business           Elmhurst   \n",
       "12     1/10/2016 19:12   1/10/2016 19:32  Business            Midtown   \n",
       "13      1/11/2016 8:55    1/11/2016 9:21  Business        East Harlem   \n",
       "14     1/11/2016 11:56   1/11/2016 12:03  Business  Flatiron District   \n",
       "15     1/11/2016 13:32   1/11/2016 13:46  Business            Midtown   \n",
       "16     1/11/2016 14:30   1/11/2016 14:43  Business       Midtown East   \n",
       "17     1/12/2016 12:33   1/12/2016 12:49  Business            Midtown   \n",
       "18     1/12/2016 12:53   1/12/2016 13:09  Business      Hudson Square   \n",
       "19     1/12/2016 14:42   1/12/2016 14:56  Business    Lower Manhattan   \n",
       "20     1/12/2016 15:13   1/12/2016 15:28  Business      Hudson Square   \n",
       "21     1/12/2016 15:42   1/12/2016 15:54  Business     Hell's Kitchen   \n",
       "22     1/12/2016 16:02   1/12/2016 17:00  Business           New York   \n",
       "23     1/13/2016 13:54   1/13/2016 14:07  Business           Downtown   \n",
       "24     1/13/2016 15:00   1/13/2016 15:28  Business            Gulfton   \n",
       "25     1/14/2016 16:29   1/14/2016 17:05  Business            Houston   \n",
       "26     1/14/2016 21:39   1/14/2016 21:45  Business         Eagan Park   \n",
       "27      1/15/2016 0:41    1/15/2016 1:01  Business        Morrisville   \n",
       "28     1/15/2016 11:43   1/15/2016 12:03  Business               Cary   \n",
       "29     1/15/2016 13:26   1/15/2016 13:44  Business             Durham   \n",
       "30     1/18/2016 14:55   1/18/2016 15:06  Business               Cary   \n",
       "...                ...               ...       ...                ...   \n",
       "1124  12/27/2016 19:19  12/27/2016 19:50  Business            Kar?chi   \n",
       "1125   12/28/2016 8:34   12/28/2016 9:06  Business            Kar?chi   \n",
       "1126  12/28/2016 11:42  12/28/2016 12:12  Business   Unknown Location   \n",
       "1127  12/28/2016 13:53  12/28/2016 14:01  Business            Kar?chi   \n",
       "1128  12/28/2016 15:04  12/28/2016 15:39  Business            Kar?chi   \n",
       "1129  12/28/2016 17:02  12/28/2016 17:16  Business   Unknown Location   \n",
       "1130  12/28/2016 18:33  12/28/2016 18:56  Business            Kar?chi   \n",
       "1131  12/28/2016 22:44  12/28/2016 23:18  Business            Kar?chi   \n",
       "1132   12/29/2016 0:49   12/29/2016 1:06  Business            Kar?chi   \n",
       "1133   12/29/2016 9:44  12/29/2016 10:07  Business            Kar?chi   \n",
       "1134  12/29/2016 11:28  12/29/2016 12:00  Business   Unknown Location   \n",
       "1135  12/29/2016 12:25  12/29/2016 12:33  Business            Kar?chi   \n",
       "1136  12/29/2016 13:17  12/29/2016 13:24  Business            Kar?chi   \n",
       "1137  12/29/2016 13:56  12/29/2016 14:11  Business            Kar?chi   \n",
       "1138  12/29/2016 14:42  12/29/2016 14:58  Business            Kar?chi   \n",
       "1139  12/29/2016 15:05  12/29/2016 15:16  Business            Kar?chi   \n",
       "1140  12/29/2016 18:59  12/29/2016 19:14  Business            Kar?chi   \n",
       "1141  12/29/2016 19:50  12/29/2016 20:10  Business   Unknown Location   \n",
       "1142  12/29/2016 20:15  12/29/2016 20:45  Business            Kar?chi   \n",
       "1144  12/29/2016 23:14  12/29/2016 23:47  Business   Unknown Location   \n",
       "1145  12/30/2016 10:15  12/30/2016 10:33  Business            Kar?chi   \n",
       "1146  12/30/2016 11:31  12/30/2016 11:56  Business            Kar?chi   \n",
       "1147  12/30/2016 15:41  12/30/2016 16:03  Business            Kar?chi   \n",
       "1148  12/30/2016 16:45  12/30/2016 17:08  Business            Kar?chi   \n",
       "1149  12/30/2016 23:06  12/30/2016 23:10  Business            Kar?chi   \n",
       "1150   12/31/2016 1:07   12/31/2016 1:14  Business            Kar?chi   \n",
       "1151  12/31/2016 13:24  12/31/2016 13:42  Business            Kar?chi   \n",
       "1152  12/31/2016 15:03  12/31/2016 15:38  Business   Unknown Location   \n",
       "1153  12/31/2016 21:32  12/31/2016 21:50  Business         Katunayake   \n",
       "1154  12/31/2016 22:08  12/31/2016 23:51  Business            Gampaha   \n",
       "\n",
       "                  STOP  MILES          PURPOSE  \n",
       "0          Fort Pierce    5.1   Meal/Entertain  \n",
       "2          Fort Pierce    4.8  Errand/Supplies  \n",
       "3          Fort Pierce    4.7          Meeting  \n",
       "4      West Palm Beach   63.7   Customer Visit  \n",
       "5      West Palm Beach    4.3   Meal/Entertain  \n",
       "6           Palm Beach    7.1          Meeting  \n",
       "7                 Cary    0.8          Meeting  \n",
       "8          Morrisville    8.3          Meeting  \n",
       "9             New York   16.5   Customer Visit  \n",
       "10              Queens   10.8          Meeting  \n",
       "11            New York    7.5          Meeting  \n",
       "12         East Harlem    6.2          Meeting  \n",
       "13               NoMad    6.4   Temporary Site  \n",
       "14             Midtown    1.6  Errand/Supplies  \n",
       "15        Midtown East    1.7   Meal/Entertain  \n",
       "16             Midtown    1.9   Meal/Entertain  \n",
       "17       Hudson Square    1.9   Meal/Entertain  \n",
       "18     Lower Manhattan    4.0   Meal/Entertain  \n",
       "19       Hudson Square    1.8  Errand/Supplies  \n",
       "20      Hell's Kitchen    2.4   Customer Visit  \n",
       "21             Midtown    2.0  Errand/Supplies  \n",
       "22       Queens County   15.1          Meeting  \n",
       "23             Gulfton   11.2          Meeting  \n",
       "24            Downtown   11.8          Meeting  \n",
       "25             Houston   21.9   Customer Visit  \n",
       "26     Jamestown Court    3.9  Errand/Supplies  \n",
       "27                Cary    8.0  Errand/Supplies  \n",
       "28              Durham   10.4   Meal/Entertain  \n",
       "29                Cary   10.4   Meal/Entertain  \n",
       "30                Cary    4.8   Meal/Entertain  \n",
       "...                ...    ...              ...  \n",
       "1124           Kar?chi    5.5   Customer Visit  \n",
       "1125  Unknown Location   10.3   Meal/Entertain  \n",
       "1126           Kar?chi   10.4  Errand/Supplies  \n",
       "1127           Kar?chi    2.0  Errand/Supplies  \n",
       "1128  Unknown Location    8.5   Meal/Entertain  \n",
       "1129           Kar?chi    4.4  Errand/Supplies  \n",
       "1130           Kar?chi    3.8  Errand/Supplies  \n",
       "1131           Kar?chi    5.1  Errand/Supplies  \n",
       "1132           Kar?chi    3.8  Errand/Supplies  \n",
       "1133  Unknown Location   11.6   Meal/Entertain  \n",
       "1134           Kar?chi   11.9   Meal/Entertain  \n",
       "1135           Kar?chi    1.4  Errand/Supplies  \n",
       "1136           Kar?chi    1.1  Errand/Supplies  \n",
       "1137           Kar?chi    4.1   Airport/Travel  \n",
       "1138           Kar?chi    6.1  Between Offices  \n",
       "1139           Kar?chi    1.3  Errand/Supplies  \n",
       "1140  Unknown Location    3.0   Meal/Entertain  \n",
       "1141           Kar?chi    4.1   Customer Visit  \n",
       "1142           Kar?chi    7.2          Meeting  \n",
       "1144           Kar?chi   12.9          Meeting  \n",
       "1145           Kar?chi    2.8  Errand/Supplies  \n",
       "1146           Kar?chi    2.9  Errand/Supplies  \n",
       "1147           Kar?chi    4.6  Errand/Supplies  \n",
       "1148           Kar?chi    4.6          Meeting  \n",
       "1149           Kar?chi    0.8   Customer Visit  \n",
       "1150           Kar?chi    0.7          Meeting  \n",
       "1151  Unknown Location    3.9   Temporary Site  \n",
       "1152  Unknown Location   16.2          Meeting  \n",
       "1153           Gampaha    6.4   Temporary Site  \n",
       "1154         Ilukwatta   48.2   Temporary Site  \n",
       "\n",
       "[653 rows x 7 columns]"
      ]
     },
     "execution_count": 22,
     "metadata": {},
     "output_type": "execute_result"
    }
   ],
   "source": [
    "# Operation 3\n",
    "# inverting the selection ( not null ) ( works for booleans cases)\n",
    "# using the ~, we invert the selection done in the above methods. \n",
    "# Here only the records where the purpose is not null will show up.\n",
    "df[~df.PURPOSE.isnull()]\n",
    "\n",
    "# you can also invert the operation 2 above"
   ]
  },
  {
   "cell_type": "markdown",
   "metadata": {
    "colab_type": "text",
    "id": "0mGILHvP73u5"
   },
   "source": [
    "\n",
    "#### Filtering out records based on conditions"
   ]
  },
  {
   "cell_type": "code",
   "execution_count": 23,
   "metadata": {
    "colab": {
     "base_uri": "https://localhost:8080/",
     "height": 1000
    },
    "colab_type": "code",
    "id": "x3eNeRib73u5",
    "outputId": "2f75e4e2-9c8f-4a10-bc9b-5dfad1b7a96a"
   },
   "outputs": [
    {
     "data": {
      "text/html": [
       "<div>\n",
       "<style scoped>\n",
       "    .dataframe tbody tr th:only-of-type {\n",
       "        vertical-align: middle;\n",
       "    }\n",
       "\n",
       "    .dataframe tbody tr th {\n",
       "        vertical-align: top;\n",
       "    }\n",
       "\n",
       "    .dataframe thead th {\n",
       "        text-align: right;\n",
       "    }\n",
       "</style>\n",
       "<table border=\"1\" class=\"dataframe\">\n",
       "  <thead>\n",
       "    <tr style=\"text-align: right;\">\n",
       "      <th></th>\n",
       "      <th>START_DATE</th>\n",
       "      <th>END_DATE</th>\n",
       "      <th>CAT</th>\n",
       "      <th>START</th>\n",
       "      <th>STOP</th>\n",
       "      <th>MILES</th>\n",
       "      <th>PURPOSE</th>\n",
       "    </tr>\n",
       "  </thead>\n",
       "  <tbody>\n",
       "    <tr>\n",
       "      <th>4</th>\n",
       "      <td>1/6/2016 14:42</td>\n",
       "      <td>1/6/2016 15:49</td>\n",
       "      <td>Business</td>\n",
       "      <td>Fort Pierce</td>\n",
       "      <td>West Palm Beach</td>\n",
       "      <td>63.7</td>\n",
       "      <td>Customer Visit</td>\n",
       "    </tr>\n",
       "    <tr>\n",
       "      <th>36</th>\n",
       "      <td>1/20/2016 13:25</td>\n",
       "      <td>1/20/2016 14:19</td>\n",
       "      <td>Business</td>\n",
       "      <td>Raleigh</td>\n",
       "      <td>Cary</td>\n",
       "      <td>40.2</td>\n",
       "      <td>Customer Visit</td>\n",
       "    </tr>\n",
       "    <tr>\n",
       "      <th>108</th>\n",
       "      <td>2/16/2016 3:21</td>\n",
       "      <td>2/16/2016 4:13</td>\n",
       "      <td>Business</td>\n",
       "      <td>Katunayaka</td>\n",
       "      <td>Unknown Location</td>\n",
       "      <td>43.7</td>\n",
       "      <td>Customer Visit</td>\n",
       "    </tr>\n",
       "    <tr>\n",
       "      <th>232</th>\n",
       "      <td>3/17/2016 12:52</td>\n",
       "      <td>3/17/2016 15:11</td>\n",
       "      <td>Business</td>\n",
       "      <td>Austin</td>\n",
       "      <td>Katy</td>\n",
       "      <td>136.0</td>\n",
       "      <td>Customer Visit</td>\n",
       "    </tr>\n",
       "    <tr>\n",
       "      <th>233</th>\n",
       "      <td>3/17/2016 15:16</td>\n",
       "      <td>3/17/2016 15:58</td>\n",
       "      <td>Business</td>\n",
       "      <td>Katy</td>\n",
       "      <td>Houston</td>\n",
       "      <td>30.2</td>\n",
       "      <td>Meeting</td>\n",
       "    </tr>\n",
       "  </tbody>\n",
       "</table>\n",
       "</div>"
      ],
      "text/plain": [
       "          START_DATE         END_DATE       CAT        START  \\\n",
       "4     1/6/2016 14:42   1/6/2016 15:49  Business  Fort Pierce   \n",
       "36   1/20/2016 13:25  1/20/2016 14:19  Business      Raleigh   \n",
       "108   2/16/2016 3:21   2/16/2016 4:13  Business   Katunayaka   \n",
       "232  3/17/2016 12:52  3/17/2016 15:11  Business       Austin   \n",
       "233  3/17/2016 15:16  3/17/2016 15:58  Business         Katy   \n",
       "\n",
       "                 STOP  MILES         PURPOSE  \n",
       "4     West Palm Beach   63.7  Customer Visit  \n",
       "36               Cary   40.2  Customer Visit  \n",
       "108  Unknown Location   43.7  Customer Visit  \n",
       "232              Katy  136.0  Customer Visit  \n",
       "233           Houston   30.2         Meeting  "
      ]
     },
     "execution_count": 23,
     "metadata": {},
     "output_type": "execute_result"
    }
   ],
   "source": [
    "#1. Conditions within dataframe \n",
    "df[df['MILES'] > 30].head()"
   ]
  },
  {
   "cell_type": "code",
   "execution_count": 24,
   "metadata": {
    "colab": {
     "base_uri": "https://localhost:8080/",
     "height": 1000
    },
    "colab_type": "code",
    "id": "-zGY5ulEARWK",
    "outputId": "1c830674-deb1-4298-b104-8628dc8dc069"
   },
   "outputs": [
    {
     "data": {
      "text/html": [
       "<div>\n",
       "<style scoped>\n",
       "    .dataframe tbody tr th:only-of-type {\n",
       "        vertical-align: middle;\n",
       "    }\n",
       "\n",
       "    .dataframe tbody tr th {\n",
       "        vertical-align: top;\n",
       "    }\n",
       "\n",
       "    .dataframe thead th {\n",
       "        text-align: right;\n",
       "    }\n",
       "</style>\n",
       "<table border=\"1\" class=\"dataframe\">\n",
       "  <thead>\n",
       "    <tr style=\"text-align: right;\">\n",
       "      <th></th>\n",
       "      <th>START_DATE</th>\n",
       "      <th>END_DATE</th>\n",
       "      <th>CAT</th>\n",
       "      <th>START</th>\n",
       "      <th>STOP</th>\n",
       "      <th>MILES</th>\n",
       "      <th>PURPOSE</th>\n",
       "    </tr>\n",
       "  </thead>\n",
       "  <tbody>\n",
       "    <tr>\n",
       "      <th>4</th>\n",
       "      <td>1/6/2016 14:42</td>\n",
       "      <td>1/6/2016 15:49</td>\n",
       "      <td>Business</td>\n",
       "      <td>Fort Pierce</td>\n",
       "      <td>West Palm Beach</td>\n",
       "      <td>63.7</td>\n",
       "      <td>Customer Visit</td>\n",
       "    </tr>\n",
       "    <tr>\n",
       "      <th>36</th>\n",
       "      <td>1/20/2016 13:25</td>\n",
       "      <td>1/20/2016 14:19</td>\n",
       "      <td>Business</td>\n",
       "      <td>Raleigh</td>\n",
       "      <td>Cary</td>\n",
       "      <td>40.2</td>\n",
       "      <td>Customer Visit</td>\n",
       "    </tr>\n",
       "    <tr>\n",
       "      <th>108</th>\n",
       "      <td>2/16/2016 3:21</td>\n",
       "      <td>2/16/2016 4:13</td>\n",
       "      <td>Business</td>\n",
       "      <td>Katunayaka</td>\n",
       "      <td>Unknown Location</td>\n",
       "      <td>43.7</td>\n",
       "      <td>Customer Visit</td>\n",
       "    </tr>\n",
       "    <tr>\n",
       "      <th>232</th>\n",
       "      <td>3/17/2016 12:52</td>\n",
       "      <td>3/17/2016 15:11</td>\n",
       "      <td>Business</td>\n",
       "      <td>Austin</td>\n",
       "      <td>Katy</td>\n",
       "      <td>136.0</td>\n",
       "      <td>Customer Visit</td>\n",
       "    </tr>\n",
       "    <tr>\n",
       "      <th>233</th>\n",
       "      <td>3/17/2016 15:16</td>\n",
       "      <td>3/17/2016 15:58</td>\n",
       "      <td>Business</td>\n",
       "      <td>Katy</td>\n",
       "      <td>Houston</td>\n",
       "      <td>30.2</td>\n",
       "      <td>Meeting</td>\n",
       "    </tr>\n",
       "  </tbody>\n",
       "</table>\n",
       "</div>"
      ],
      "text/plain": [
       "          START_DATE         END_DATE       CAT        START  \\\n",
       "4     1/6/2016 14:42   1/6/2016 15:49  Business  Fort Pierce   \n",
       "36   1/20/2016 13:25  1/20/2016 14:19  Business      Raleigh   \n",
       "108   2/16/2016 3:21   2/16/2016 4:13  Business   Katunayaka   \n",
       "232  3/17/2016 12:52  3/17/2016 15:11  Business       Austin   \n",
       "233  3/17/2016 15:16  3/17/2016 15:58  Business         Katy   \n",
       "\n",
       "                 STOP  MILES         PURPOSE  \n",
       "4     West Palm Beach   63.7  Customer Visit  \n",
       "36               Cary   40.2  Customer Visit  \n",
       "108  Unknown Location   43.7  Customer Visit  \n",
       "232              Katy  136.0  Customer Visit  \n",
       "233           Houston   30.2         Meeting  "
      ]
     },
     "execution_count": 24,
     "metadata": {},
     "output_type": "execute_result"
    }
   ],
   "source": [
    "#2. SQL-like query\n",
    "df.query('MILES > 30').head(5)"
   ]
  },
  {
   "cell_type": "markdown",
   "metadata": {},
   "source": [
    "### Exploring Columns"
   ]
  },
  {
   "cell_type": "markdown",
   "metadata": {
    "colab_type": "text",
    "id": "zSrCFFH973u7"
   },
   "source": [
    "#### Explore the details from the MILES column\n"
   ]
  },
  {
   "cell_type": "code",
   "execution_count": 25,
   "metadata": {
    "colab": {
     "base_uri": "https://localhost:8080/",
     "height": 476
    },
    "colab_type": "code",
    "id": "_kkV2tyo73u-",
    "outputId": "4aaa447e-da11-401b-f882-c240c3557f8a"
   },
   "outputs": [
    {
     "name": "stdout",
     "output_type": "stream",
     "text": [
      "310.3\n",
      "          START_DATE         END_DATE       CAT  START          STOP  MILES  \\\n",
      "269  3/25/2016 16:52  3/25/2016 22:22  Business  Latta  Jacksonville  310.3   \n",
      "\n",
      "            PURPOSE  \n",
      "269  Customer Visit  \n",
      "269    310.3\n",
      "270    201.0\n",
      "881    195.9\n",
      "776    195.6\n",
      "546    195.3\n",
      "559    180.2\n",
      "297    174.2\n",
      "299    159.3\n",
      "727    156.9\n",
      "298    144.0\n",
      "Name: MILES, dtype: float64\n",
      "           START_DATE          END_DATE       CAT             START  \\\n",
      "269   3/25/2016 16:52   3/25/2016 22:22  Business             Latta   \n",
      "270   3/25/2016 22:54    3/26/2016 1:39  Business      Jacksonville   \n",
      "881  10/30/2016 15:22  10/30/2016 18:23  Business         Asheville   \n",
      "776   9/27/2016 21:01    9/28/2016 2:37  Business  Unknown Location   \n",
      "546   7/14/2016 16:39   7/14/2016 20:05  Business       Morrisville   \n",
      "559   7/17/2016 12:20   7/17/2016 15:25  Personal             Boone   \n",
      "297    4/2/2016 19:38    4/2/2016 22:36  Business      Jacksonville   \n",
      "299     4/3/2016 2:00     4/3/2016 4:16  Business          Florence   \n",
      "727   8/27/2016 16:15   8/27/2016 19:13  Business  Unknown Location   \n",
      "268   3/25/2016 13:24   3/25/2016 16:22  Business              Cary   \n",
      "\n",
      "                 STOP  MILES         PURPOSE  \n",
      "269      Jacksonville  310.3  Customer Visit  \n",
      "270         Kissimmee  201.0         Meeting  \n",
      "881            Mebane  195.9             NaN  \n",
      "776  Unknown Location  195.6             NaN  \n",
      "546        Banner Elk  195.3             NaN  \n",
      "559              Cary  180.2         Commute  \n",
      "297         Ridgeland  174.2  Customer Visit  \n",
      "299              Cary  159.3         Meeting  \n",
      "727  Unknown Location  156.9             NaN  \n",
      "268             Latta  144.0  Customer Visit  \n"
     ]
    }
   ],
   "source": [
    "print(df.MILES.max())\n",
    "print(df[df.MILES == df.MILES.max()])                               # Show the row that has the max miles \n",
    "print(df.MILES.sort_values(ascending=False).head(10))               # Show the top 10 rides (in terms of distance driven)\n",
    "print(df.sort_values(by='MILES' , ascending=False).head(10))        # Shows the top 10 rows of MILES (decreasing value)"
   ]
  },
  {
   "cell_type": "code",
   "execution_count": 26,
   "metadata": {
    "colab": {
     "base_uri": "https://localhost:8080/",
     "height": 34
    },
    "colab_type": "code",
    "id": "B7CK1vnc73vF",
    "outputId": "3ef5c932-0136-46b7-fc68-45af0d09c8c6"
   },
   "outputs": [
    {
     "data": {
      "text/plain": [
       "1155"
      ]
     },
     "execution_count": 26,
     "metadata": {},
     "output_type": "execute_result"
    }
   ],
   "source": [
    "len(df)                             # Get the number of rows of dataframe."
   ]
  },
  {
   "cell_type": "markdown",
   "metadata": {
    "colab_type": "text",
    "id": "QusfvKTc73vM"
   },
   "source": [
    "#### Dropping rows  which have null values"
   ]
  },
  {
   "cell_type": "code",
   "execution_count": 27,
   "metadata": {
    "colab": {},
    "colab_type": "code",
    "id": "mddHcBMh73vN"
   },
   "outputs": [],
   "source": [
    "# Get the initial data with dropping the NA values\n",
    "df_dropped = df.dropna()  \n",
    "# Dont do the above step (df.dropna()) on the original dataframe, because you will lose good rows with values.\n",
    "# To avoid losing good rows with values, make a copy and do operations on that."
   ]
  },
  {
   "cell_type": "code",
   "execution_count": 28,
   "metadata": {
    "colab": {
     "base_uri": "https://localhost:8080/",
     "height": 34
    },
    "colab_type": "code",
    "id": "58Hx3VkIEB2J",
    "outputId": "ca6c075e-dd4f-4172-c697-82b7bc2d774f"
   },
   "outputs": [
    {
     "data": {
      "text/plain": [
       "(653, 7)"
      ]
     },
     "execution_count": 28,
     "metadata": {},
     "output_type": "execute_result"
    }
   ],
   "source": [
    "df_dropped.shape          # Get the shape of the dataframe after removing the null values"
   ]
  },
  {
   "cell_type": "markdown",
   "metadata": {
    "colab_type": "text",
    "id": "qLa3khBj73vO"
   },
   "source": [
    "The filtered dataset with no nulls ( in PURPOSE column )  contains 653 rows of non-null values"
   ]
  },
  {
   "cell_type": "markdown",
   "metadata": {
    "colab_type": "text",
    "id": "8jSvBLWi73vR"
   },
   "source": [
    "## <a id = \"link2\"></a>Lets explore the data parameter wise - \n",
    "\n",
    "- 1.Destination - (starting and stopping)\n",
    "\n",
    "- 2.Time - (hour of the day, day of week, month of year)\n",
    "\n",
    "- 3.Grouping two parameters to get more insights\n",
    "\n",
    "- 4.Category and Purpose"
   ]
  },
  {
   "cell_type": "markdown",
   "metadata": {
    "colab_type": "text",
    "id": "UAamyoph73vR"
   },
   "source": [
    "## 1. Destination\n",
    "### Understanding  the start and stop points \n",
    "###### We will explore the feature through the points below - \n",
    "- Name and number of all the unique start and stop points\n",
    "- find stations that are both in the stop and start points\n",
    "- Popular start and stop points\n",
    "- Rides with same start and stop points\n",
    "- Starting point from which most miles have been driven\n",
    "- Start- stop pairs that are most travelled in terms of distance and number of trips\n",
    "\n",
    "Also, we will have a peek into one of the visualisation techniques that we are going to learn in the upcoming week\n"
   ]
  },
  {
   "cell_type": "code",
   "execution_count": 29,
   "metadata": {
    "colab": {
     "base_uri": "https://localhost:8080/",
     "height": 629
    },
    "colab_type": "code",
    "id": "nmE7R0d473vS",
    "outputId": "f313f8be-54c5-42a8-eeb4-9ac3b254befe"
   },
   "outputs": [
    {
     "name": "stdout",
     "output_type": "stream",
     "text": [
      "['Fort Pierce' 'West Palm Beach' 'Cary' 'Jamaica' 'New York' 'Elmhurst'\n",
      " 'Midtown' 'East Harlem' 'Flatiron District' 'Midtown East'\n",
      " 'Hudson Square' 'Lower Manhattan' \"Hell's Kitchen\" 'Downtown' 'Gulfton'\n",
      " 'Houston' 'Eagan Park' 'Morrisville' 'Durham' 'Farmington Woods'\n",
      " 'Whitebridge' 'Lake Wellingborough' 'Fayetteville Street' 'Raleigh'\n",
      " 'Hazelwood' 'Fairmont' 'Meredith Townes' 'Apex' 'Chapel Hill'\n",
      " 'Northwoods' 'Edgehill Farms' 'Tanglewood' 'Preston' 'Eastgate'\n",
      " 'East Elmhurst' 'Jackson Heights' 'Long Island City' 'Katunayaka'\n",
      " 'Unknown Location' 'Colombo' 'Nugegoda' 'Islamabad' 'R?walpindi'\n",
      " 'Noorpur Shahan' 'Heritage Pines' 'Westpark Place' 'Waverly Place'\n",
      " 'Wayne Ridge' 'Weston' 'East Austin' 'West University' 'South Congress'\n",
      " 'The Drag' 'Congress Ave District' 'Red River District' 'Georgian Acres'\n",
      " 'North Austin' 'Coxville' 'Convention Center District' 'Austin' 'Katy'\n",
      " 'Sharpstown' 'Sugar Land' 'Galveston' 'Port Bolivar' 'Washington Avenue'\n",
      " 'Briar Meadow' 'Latta' 'Jacksonville' 'Couples Glen' 'Kissimmee'\n",
      " 'Lake Reams' 'Orlando' 'Sand Lake Commons' 'Sky Lake' 'Daytona Beach'\n",
      " 'Ridgeland' 'Florence' 'Meredith' 'Holly Springs' 'Chessington'\n",
      " 'Burtrose' 'Parkway' 'Mcvan' 'Capitol One' 'University District'\n",
      " 'Seattle' 'Redmond' 'Bellevue' 'San Francisco' 'Palo Alto' 'Sunnyvale'\n",
      " 'Newark' 'Menlo Park' 'Old City' 'Savon Height' 'Kilarney Woods'\n",
      " 'Townes at Everett Crossing' 'Huntington Woods' 'Seaport'\n",
      " 'Medical Centre' 'Rose Hill' 'Soho' 'Tribeca' 'Financial District'\n",
      " 'Oakland' 'Emeryville' 'Berkeley' 'Kenner' 'CBD' 'Lower Garden District'\n",
      " 'Lakeview' 'Storyville' 'New Orleans' 'Metairie' 'Chalmette' 'Arabi'\n",
      " 'Pontchartrain Shores' 'Marigny' 'Covington' 'Mandeville'\n",
      " 'Jamestown Court' 'Summerwinds' 'Parkwood' 'Pontchartrain Beach'\n",
      " 'St Thomas' 'Banner Elk' 'Elk Park' 'Newland' 'Boone' 'Stonewater'\n",
      " 'Lexington Park at Amberly' 'Arlington Park at Amberly' 'Arlington'\n",
      " 'Kalorama Triangle' 'K Street' 'West End' 'Connecticut Avenue'\n",
      " 'Columbia Heights' 'Washington' 'Wake Forest' 'Lahore' 'Karachi'\n",
      " 'SOMISSPO' 'West Berkeley' 'North Berkeley Hills' 'San Jose' 'Eagle Rock'\n",
      " 'Winston Salem' 'Asheville' 'Topton' 'Hayesville' 'Bryson City' 'Almond'\n",
      " 'Mebane' 'Agnew' 'Cory' 'Renaissance' 'Santa Clara' 'NOMA' 'Sunnyside'\n",
      " 'Ingleside' 'Central' 'Tenderloin' 'College Avenue' 'South' 'Southside'\n",
      " 'South Berkeley' 'Mountain View' 'El Cerrito' 'Krendle Woods' 'Wake Co.'\n",
      " 'Fuquay-Varina' 'Rawalpindi' 'Kar?chi' 'Katunayake' 'Gampaha']\n"
     ]
    }
   ],
   "source": [
    "# Get the unique starting point, unique destination\n",
    "# names of unique start points\n",
    "print(df['START'].unique())"
   ]
  },
  {
   "cell_type": "code",
   "execution_count": 30,
   "metadata": {
    "colab": {
     "base_uri": "https://localhost:8080/",
     "height": 34
    },
    "colab_type": "code",
    "id": "W_zTp-yp73vU",
    "outputId": "0b4f2821-7f53-4a0f-ecfb-2441ab7d983f"
   },
   "outputs": [
    {
     "data": {
      "text/plain": [
       "177"
      ]
     },
     "execution_count": 30,
     "metadata": {},
     "output_type": "execute_result"
    }
   ],
   "source": [
    "len(df['START'].unique())                              # Count of unique start points using  len()"
   ]
  },
  {
   "cell_type": "code",
   "execution_count": 31,
   "metadata": {
    "colab": {
     "base_uri": "https://localhost:8080/",
     "height": 34
    },
    "colab_type": "code",
    "id": "SFUlm5TW73vW",
    "outputId": "91b89857-4af6-4c68-b7e4-6a43decca54b"
   },
   "outputs": [
    {
     "name": "stdout",
     "output_type": "stream",
     "text": [
      "177\n"
     ]
    }
   ],
   "source": [
    "print(df['START'].nunique())                           # or use can use the nunique function"
   ]
  },
  {
   "cell_type": "code",
   "execution_count": 32,
   "metadata": {
    "colab": {
     "base_uri": "https://localhost:8080/",
     "height": 680
    },
    "colab_type": "code",
    "id": "MNH8DaQ773vY",
    "outputId": "5ca7c9ac-266d-4cd8-9016-b9bdc09dd4a7"
   },
   "outputs": [
    {
     "name": "stdout",
     "output_type": "stream",
     "text": [
      "['Fort Pierce' 'West Palm Beach' 'Palm Beach' 'Cary' 'Morrisville'\n",
      " 'New York' 'Queens' 'East Harlem' 'NoMad' 'Midtown' 'Midtown East'\n",
      " 'Hudson Square' 'Lower Manhattan' \"Hell's Kitchen\" 'Queens County'\n",
      " 'Gulfton' 'Downtown' 'Houston' 'Jamestown Court' 'Durham' 'Whitebridge'\n",
      " 'Lake Wellingborough' 'Raleigh' 'Umstead' 'Hazelwood' 'Westpark Place'\n",
      " 'Meredith Townes' 'Leesville Hollow' 'Apex' 'Chapel Hill'\n",
      " 'Williamsburg Manor' 'Macgregor Downs' 'Edgehill Farms' 'Northwoods'\n",
      " 'Tanglewood' 'Preston' 'Walnut Terrace' 'Jackson Heights' 'East Elmhurst'\n",
      " 'Midtown West' 'Long Island City' 'Jamaica' 'Unknown Location' 'Colombo'\n",
      " 'Nugegoda' 'Katunayaka' 'Islamabad' 'R?walpindi' 'Noorpur Shahan'\n",
      " 'Heritage Pines' 'Waverly Place' 'Wayne Ridge' 'Depot Historic District'\n",
      " 'Weston' 'West University' 'South Congress' 'Arts District'\n",
      " 'Congress Ave District' 'Red River District' 'The Drag'\n",
      " 'Convention Center District' 'North Austin' 'Coxville' 'Katy' 'Alief'\n",
      " 'Sharpstown' 'Sugar Land' 'Galveston' 'Port Bolivar' 'Washington Avenue'\n",
      " 'Briar Meadow' 'Greater Greenspoint' 'Latta' 'Jacksonville' 'Kissimmee'\n",
      " 'Isles of Buena Vista' 'Orlando' 'Lake Reams' 'Vista East' 'Sky Lake'\n",
      " 'Sand Lake Commons' 'Daytona Beach' 'Ridgeland' 'Florence' 'Cedar Hill'\n",
      " 'Holly Springs' 'Harden Place' 'Chessington' 'Burtrose' 'Parkway'\n",
      " 'Capitol One' 'University District' 'Redmond' 'Bellevue' 'Seattle'\n",
      " 'Mcvan' 'Palo Alto' 'Sunnyvale' 'Newark' 'Menlo Park' 'San Francisco'\n",
      " 'Parkway Museums' 'Hog Island' 'Savon Height' 'Kildaire Farms'\n",
      " 'Kilarney Woods' 'Gramercy-Flatiron' 'Tudor City' 'Soho' 'Tribeca'\n",
      " 'Financial District' 'Kips Bay' 'Emeryville' 'Berkeley' 'Oakland'\n",
      " 'Bay Farm Island' 'New Orleans' 'Lower Garden District' 'Lakeview'\n",
      " 'Storyville' 'Faubourg Marigny' 'Metairie' 'Kenner' 'Bywater' 'Chalmette'\n",
      " 'Arabi' 'Pontchartrain Shores' 'Marigny' 'Covington' 'Mandeville'\n",
      " 'Summerwinds' 'Parkwood' 'Pontchartrain Beach' 'CBD' 'St Thomas'\n",
      " 'Banner Elk' 'Elk Park' 'Newland' 'Boone' 'Stonewater'\n",
      " 'Lexington Park at Amberly' 'Arlington Park at Amberly' 'Washington'\n",
      " 'K Street' 'Kalorama Triangle' 'Northwest Rectangle' 'Columbia Heights'\n",
      " 'Arlington' 'Farmington Woods' 'Wake Forest' 'Lahore' 'Karachi'\n",
      " 'French Quarter' 'North Berkeley Hills' 'Southside' 'San Jose'\n",
      " 'Eagle Rock' 'Huntington Woods' 'Winston Salem' 'Asheville' 'Topton'\n",
      " 'Hayesville' 'Bryson City' 'Almond' 'Mebane' 'Santa Clara' 'Cory' 'Agnew'\n",
      " 'Renaissance' 'West Berkeley' 'Central' 'Sunnyside' 'Ingleside'\n",
      " 'Potrero Flats' 'SOMISSPO' 'Tenderloin' 'College Avenue' 'South'\n",
      " 'Southwest Berkeley' 'South Berkeley' 'Mountain View' 'El Cerrito'\n",
      " 'Wake Co.' 'Fuquay-Varina' 'Rawalpindi' 'Kar?chi' 'Gampaha' 'Ilukwatta']\n"
     ]
    }
   ],
   "source": [
    "# Get the names of stopping destinations, unique destinations\n",
    "# Names of unique stopping points\n",
    "print(df['STOP'].unique())"
   ]
  },
  {
   "cell_type": "code",
   "execution_count": 33,
   "metadata": {
    "colab": {
     "base_uri": "https://localhost:8080/",
     "height": 34
    },
    "colab_type": "code",
    "id": "3O2iTz9j73va",
    "outputId": "08f687f9-d25d-4f82-8393-3118a91c9474",
    "scrolled": true
   },
   "outputs": [
    {
     "name": "stdout",
     "output_type": "stream",
     "text": [
      "188\n"
     ]
    }
   ],
   "source": [
    "print(len(df['STOP'].unique()))            # count of unique stopping points"
   ]
  },
  {
   "cell_type": "markdown",
   "metadata": {},
   "source": [
    "#### Bonus: Using set"
   ]
  },
  {
   "cell_type": "code",
   "execution_count": 34,
   "metadata": {
    "colab": {
     "base_uri": "https://localhost:8080/",
     "height": 51
    },
    "colab_type": "code",
    "id": "vlu4Vd-g73vc",
    "outputId": "71443d6c-dc93-400b-9c43-219e3154e9fe"
   },
   "outputs": [
    {
     "name": "stdout",
     "output_type": "stream",
     "text": [
      "177\n",
      "188\n"
     ]
    }
   ],
   "source": [
    "# To take it one level up in the ease of comparing between two series/lists , use sets\n",
    "# Find details comparing (between) unique start and stop locations \n",
    "\n",
    "s_start = set(df['START'])                 # names of unique start points\n",
    "s_stop = set(df['STOP'])                   # names of unique stop points\n",
    "\n",
    "print(len(s_start))\n",
    "print(len(s_stop))"
   ]
  },
  {
   "cell_type": "code",
   "execution_count": 35,
   "metadata": {
    "colab": {
     "base_uri": "https://localhost:8080/",
     "height": 85
    },
    "colab_type": "code",
    "id": "nF86GHP873ve",
    "outputId": "452e15b8-6bd1-4261-974a-d6d40175375b"
   },
   "outputs": [
    {
     "name": "stdout",
     "output_type": "stream",
     "text": [
      "{5, 6}\n",
      "{1, 2}\n",
      "{1, 2, 3, 4, 5, 6}\n",
      "{3, 4}\n"
     ]
    }
   ],
   "source": [
    "#Example on how to use sets to do intersection , union and difference\n",
    "\n",
    "l1 = [1,2,3,4,4]\n",
    "l2 = [3,4,5,6]\n",
    "\n",
    "s1 = set(l1)\n",
    "s2 = set(l2)\n",
    "\n",
    "print(s2 - s1) # difference  (whats in l2 and not in l1)\n",
    "print(s1 - s2) # difference (whats in l1 and not in l2)\n",
    "print(s2 | s1) # union \n",
    "print(s2 & s1) # intersection"
   ]
  },
  {
   "cell_type": "markdown",
   "metadata": {
    "colab_type": "text",
    "id": "whfCWQeM73vg"
   },
   "source": [
    "#### Stations which appear in both the start and the stop locations"
   ]
  },
  {
   "cell_type": "code",
   "execution_count": 36,
   "metadata": {
    "colab": {
     "base_uri": "https://localhost:8080/",
     "height": 1000
    },
    "colab_type": "code",
    "id": "4DB98NTT73vh",
    "outputId": "75cf9a19-c0d1-4e4e-86ee-e7d436e2cb22"
   },
   "outputs": [
    {
     "data": {
      "text/plain": [
       "{'Agnew',\n",
       " 'Almond',\n",
       " 'Apex',\n",
       " 'Arabi',\n",
       " 'Arlington',\n",
       " 'Arlington Park at Amberly',\n",
       " 'Asheville',\n",
       " 'Banner Elk',\n",
       " 'Bellevue',\n",
       " 'Berkeley',\n",
       " 'Boone',\n",
       " 'Briar Meadow',\n",
       " 'Bryson City',\n",
       " 'Burtrose',\n",
       " 'CBD',\n",
       " 'Capitol One',\n",
       " 'Cary',\n",
       " 'Central',\n",
       " 'Chalmette',\n",
       " 'Chapel Hill',\n",
       " 'Chessington',\n",
       " 'College Avenue',\n",
       " 'Colombo',\n",
       " 'Columbia Heights',\n",
       " 'Congress Ave District',\n",
       " 'Convention Center District',\n",
       " 'Cory',\n",
       " 'Covington',\n",
       " 'Coxville',\n",
       " 'Daytona Beach',\n",
       " 'Downtown',\n",
       " 'Durham',\n",
       " 'Eagle Rock',\n",
       " 'East Elmhurst',\n",
       " 'East Harlem',\n",
       " 'Edgehill Farms',\n",
       " 'El Cerrito',\n",
       " 'Elk Park',\n",
       " 'Emeryville',\n",
       " 'Farmington Woods',\n",
       " 'Financial District',\n",
       " 'Florence',\n",
       " 'Fort Pierce',\n",
       " 'Fuquay-Varina',\n",
       " 'Galveston',\n",
       " 'Gampaha',\n",
       " 'Gulfton',\n",
       " 'Hayesville',\n",
       " 'Hazelwood',\n",
       " \"Hell's Kitchen\",\n",
       " 'Heritage Pines',\n",
       " 'Holly Springs',\n",
       " 'Houston',\n",
       " 'Hudson Square',\n",
       " 'Huntington Woods',\n",
       " 'Ingleside',\n",
       " 'Islamabad',\n",
       " 'Jackson Heights',\n",
       " 'Jacksonville',\n",
       " 'Jamaica',\n",
       " 'Jamestown Court',\n",
       " 'K Street',\n",
       " 'Kalorama Triangle',\n",
       " 'Kar?chi',\n",
       " 'Karachi',\n",
       " 'Katunayaka',\n",
       " 'Katy',\n",
       " 'Kenner',\n",
       " 'Kilarney Woods',\n",
       " 'Kissimmee',\n",
       " 'Lahore',\n",
       " 'Lake Reams',\n",
       " 'Lake Wellingborough',\n",
       " 'Lakeview',\n",
       " 'Latta',\n",
       " 'Lexington Park at Amberly',\n",
       " 'Long Island City',\n",
       " 'Lower Garden District',\n",
       " 'Lower Manhattan',\n",
       " 'Mandeville',\n",
       " 'Marigny',\n",
       " 'Mcvan',\n",
       " 'Mebane',\n",
       " 'Menlo Park',\n",
       " 'Meredith Townes',\n",
       " 'Metairie',\n",
       " 'Midtown',\n",
       " 'Midtown East',\n",
       " 'Morrisville',\n",
       " 'Mountain View',\n",
       " 'New Orleans',\n",
       " 'New York',\n",
       " 'Newark',\n",
       " 'Newland',\n",
       " 'Noorpur Shahan',\n",
       " 'North Austin',\n",
       " 'North Berkeley Hills',\n",
       " 'Northwoods',\n",
       " 'Nugegoda',\n",
       " 'Oakland',\n",
       " 'Orlando',\n",
       " 'Palo Alto',\n",
       " 'Parkway',\n",
       " 'Parkwood',\n",
       " 'Pontchartrain Beach',\n",
       " 'Pontchartrain Shores',\n",
       " 'Port Bolivar',\n",
       " 'Preston',\n",
       " 'R?walpindi',\n",
       " 'Raleigh',\n",
       " 'Rawalpindi',\n",
       " 'Red River District',\n",
       " 'Redmond',\n",
       " 'Renaissance',\n",
       " 'Ridgeland',\n",
       " 'SOMISSPO',\n",
       " 'San Francisco',\n",
       " 'San Jose',\n",
       " 'Sand Lake Commons',\n",
       " 'Santa Clara',\n",
       " 'Savon Height',\n",
       " 'Seattle',\n",
       " 'Sharpstown',\n",
       " 'Sky Lake',\n",
       " 'Soho',\n",
       " 'South',\n",
       " 'South Berkeley',\n",
       " 'South Congress',\n",
       " 'Southside',\n",
       " 'St Thomas',\n",
       " 'Stonewater',\n",
       " 'Storyville',\n",
       " 'Sugar Land',\n",
       " 'Summerwinds',\n",
       " 'Sunnyside',\n",
       " 'Sunnyvale',\n",
       " 'Tanglewood',\n",
       " 'Tenderloin',\n",
       " 'The Drag',\n",
       " 'Topton',\n",
       " 'Tribeca',\n",
       " 'University District',\n",
       " 'Unknown Location',\n",
       " 'Wake Co.',\n",
       " 'Wake Forest',\n",
       " 'Washington',\n",
       " 'Washington Avenue',\n",
       " 'Waverly Place',\n",
       " 'Wayne Ridge',\n",
       " 'West Berkeley',\n",
       " 'West Palm Beach',\n",
       " 'West University',\n",
       " 'Weston',\n",
       " 'Westpark Place',\n",
       " 'Whitebridge',\n",
       " 'Winston Salem'}"
      ]
     },
     "execution_count": 36,
     "metadata": {},
     "output_type": "execute_result"
    }
   ],
   "source": [
    "s_stop & s_start"
   ]
  },
  {
   "cell_type": "code",
   "execution_count": 37,
   "metadata": {
    "colab": {
     "base_uri": "https://localhost:8080/",
     "height": 204
    },
    "colab_type": "code",
    "id": "IdfGWVrR73vj",
    "outputId": "b201847d-212d-40dc-8d23-ffd5df88d4f1"
   },
   "outputs": [
    {
     "data": {
      "text/plain": [
       "Cary                201\n",
       "Unknown Location    148\n",
       "Morrisville          85\n",
       "Whitebridge          68\n",
       "Islamabad            57\n",
       "Durham               37\n",
       "Lahore               36\n",
       "Raleigh              28\n",
       "Kar?chi              27\n",
       "Apex                 17\n",
       "Name: START, dtype: int64"
      ]
     },
     "execution_count": 37,
     "metadata": {},
     "output_type": "execute_result"
    }
   ],
   "source": [
    "#Identify popular start points - top 10\n",
    "df['START'].value_counts().head(10)"
   ]
  },
  {
   "cell_type": "code",
   "execution_count": 38,
   "metadata": {
    "colab": {
     "base_uri": "https://localhost:8080/",
     "height": 204
    },
    "colab_type": "code",
    "id": "0_VAzZd573vl",
    "outputId": "44fe8603-afb2-448c-884d-661ff9e150e4"
   },
   "outputs": [
    {
     "data": {
      "text/plain": [
       "Cary                203\n",
       "Unknown Location    149\n",
       "Morrisville          84\n",
       "Whitebridge          65\n",
       "Islamabad            58\n",
       "Lahore               36\n",
       "Durham               36\n",
       "Raleigh              29\n",
       "Kar?chi              26\n",
       "Apex                 17\n",
       "Name: STOP, dtype: int64"
      ]
     },
     "execution_count": 38,
     "metadata": {},
     "output_type": "execute_result"
    }
   ],
   "source": [
    "#Identify popular stop destinations - top 10\n",
    "df['STOP'].value_counts().head(10)"
   ]
  },
  {
   "cell_type": "code",
   "execution_count": 39,
   "metadata": {
    "colab": {
     "base_uri": "https://localhost:8080/",
     "height": 419
    },
    "colab_type": "code",
    "id": "ax8JSeaj73vn",
    "outputId": "eee25698-a344-45da-fd11-7297c3b0219c",
    "scrolled": true
   },
   "outputs": [
    {
     "data": {
      "text/html": [
       "<div>\n",
       "<style scoped>\n",
       "    .dataframe tbody tr th:only-of-type {\n",
       "        vertical-align: middle;\n",
       "    }\n",
       "\n",
       "    .dataframe tbody tr th {\n",
       "        vertical-align: top;\n",
       "    }\n",
       "\n",
       "    .dataframe thead th {\n",
       "        text-align: right;\n",
       "    }\n",
       "</style>\n",
       "<table border=\"1\" class=\"dataframe\">\n",
       "  <thead>\n",
       "    <tr style=\"text-align: right;\">\n",
       "      <th></th>\n",
       "      <th>START_DATE</th>\n",
       "      <th>END_DATE</th>\n",
       "      <th>CAT</th>\n",
       "      <th>START</th>\n",
       "      <th>STOP</th>\n",
       "      <th>MILES</th>\n",
       "      <th>PURPOSE</th>\n",
       "    </tr>\n",
       "  </thead>\n",
       "  <tbody>\n",
       "    <tr>\n",
       "      <th>0</th>\n",
       "      <td>1/1/2016 21:11</td>\n",
       "      <td>1/1/2016 21:17</td>\n",
       "      <td>Business</td>\n",
       "      <td>Fort Pierce</td>\n",
       "      <td>Fort Pierce</td>\n",
       "      <td>5.1</td>\n",
       "      <td>Meal/Entertain</td>\n",
       "    </tr>\n",
       "    <tr>\n",
       "      <th>1</th>\n",
       "      <td>1/2/2016 1:25</td>\n",
       "      <td>1/2/2016 1:37</td>\n",
       "      <td>Business</td>\n",
       "      <td>Fort Pierce</td>\n",
       "      <td>Fort Pierce</td>\n",
       "      <td>5.0</td>\n",
       "      <td>NaN</td>\n",
       "    </tr>\n",
       "    <tr>\n",
       "      <th>2</th>\n",
       "      <td>1/2/2016 20:25</td>\n",
       "      <td>1/2/2016 20:38</td>\n",
       "      <td>Business</td>\n",
       "      <td>Fort Pierce</td>\n",
       "      <td>Fort Pierce</td>\n",
       "      <td>4.8</td>\n",
       "      <td>Errand/Supplies</td>\n",
       "    </tr>\n",
       "    <tr>\n",
       "      <th>3</th>\n",
       "      <td>1/5/2016 17:31</td>\n",
       "      <td>1/5/2016 17:45</td>\n",
       "      <td>Business</td>\n",
       "      <td>Fort Pierce</td>\n",
       "      <td>Fort Pierce</td>\n",
       "      <td>4.7</td>\n",
       "      <td>Meeting</td>\n",
       "    </tr>\n",
       "    <tr>\n",
       "      <th>5</th>\n",
       "      <td>1/6/2016 17:15</td>\n",
       "      <td>1/6/2016 17:19</td>\n",
       "      <td>Business</td>\n",
       "      <td>West Palm Beach</td>\n",
       "      <td>West Palm Beach</td>\n",
       "      <td>4.3</td>\n",
       "      <td>Meal/Entertain</td>\n",
       "    </tr>\n",
       "    <tr>\n",
       "      <th>7</th>\n",
       "      <td>1/7/2016 13:27</td>\n",
       "      <td>1/7/2016 13:33</td>\n",
       "      <td>Business</td>\n",
       "      <td>Cary</td>\n",
       "      <td>Cary</td>\n",
       "      <td>0.8</td>\n",
       "      <td>Meeting</td>\n",
       "    </tr>\n",
       "    <tr>\n",
       "      <th>25</th>\n",
       "      <td>1/14/2016 16:29</td>\n",
       "      <td>1/14/2016 17:05</td>\n",
       "      <td>Business</td>\n",
       "      <td>Houston</td>\n",
       "      <td>Houston</td>\n",
       "      <td>21.9</td>\n",
       "      <td>Customer Visit</td>\n",
       "    </tr>\n",
       "    <tr>\n",
       "      <th>30</th>\n",
       "      <td>1/18/2016 14:55</td>\n",
       "      <td>1/18/2016 15:06</td>\n",
       "      <td>Business</td>\n",
       "      <td>Cary</td>\n",
       "      <td>Cary</td>\n",
       "      <td>4.8</td>\n",
       "      <td>Meal/Entertain</td>\n",
       "    </tr>\n",
       "    <tr>\n",
       "      <th>37</th>\n",
       "      <td>1/21/2016 14:25</td>\n",
       "      <td>1/21/2016 14:29</td>\n",
       "      <td>Business</td>\n",
       "      <td>Cary</td>\n",
       "      <td>Cary</td>\n",
       "      <td>1.6</td>\n",
       "      <td>Errand/Supplies</td>\n",
       "    </tr>\n",
       "    <tr>\n",
       "      <th>38</th>\n",
       "      <td>1/21/2016 14:43</td>\n",
       "      <td>1/21/2016 14:51</td>\n",
       "      <td>Business</td>\n",
       "      <td>Cary</td>\n",
       "      <td>Cary</td>\n",
       "      <td>2.4</td>\n",
       "      <td>Meal/Entertain</td>\n",
       "    </tr>\n",
       "    <tr>\n",
       "      <th>39</th>\n",
       "      <td>1/21/2016 16:01</td>\n",
       "      <td>1/21/2016 16:06</td>\n",
       "      <td>Business</td>\n",
       "      <td>Cary</td>\n",
       "      <td>Cary</td>\n",
       "      <td>1.0</td>\n",
       "      <td>Meal/Entertain</td>\n",
       "    </tr>\n",
       "    <tr>\n",
       "      <th>43</th>\n",
       "      <td>1/26/2016 17:17</td>\n",
       "      <td>1/26/2016 17:22</td>\n",
       "      <td>Business</td>\n",
       "      <td>Cary</td>\n",
       "      <td>Cary</td>\n",
       "      <td>1.4</td>\n",
       "      <td>Errand/Supplies</td>\n",
       "    </tr>\n",
       "    <tr>\n",
       "      <th>44</th>\n",
       "      <td>1/26/2016 17:27</td>\n",
       "      <td>1/26/2016 17:29</td>\n",
       "      <td>Business</td>\n",
       "      <td>Cary</td>\n",
       "      <td>Cary</td>\n",
       "      <td>0.5</td>\n",
       "      <td>Errand/Supplies</td>\n",
       "    </tr>\n",
       "    <tr>\n",
       "      <th>45</th>\n",
       "      <td>1/27/2016 9:24</td>\n",
       "      <td>1/27/2016 9:31</td>\n",
       "      <td>Business</td>\n",
       "      <td>Cary</td>\n",
       "      <td>Cary</td>\n",
       "      <td>1.8</td>\n",
       "      <td>Meeting</td>\n",
       "    </tr>\n",
       "    <tr>\n",
       "      <th>48</th>\n",
       "      <td>1/27/2016 14:05</td>\n",
       "      <td>1/27/2016 14:13</td>\n",
       "      <td>Business</td>\n",
       "      <td>Raleigh</td>\n",
       "      <td>Raleigh</td>\n",
       "      <td>2.7</td>\n",
       "      <td>Customer Visit</td>\n",
       "    </tr>\n",
       "    <tr>\n",
       "      <th>53</th>\n",
       "      <td>1/29/2016 9:31</td>\n",
       "      <td>1/29/2016 9:45</td>\n",
       "      <td>Business</td>\n",
       "      <td>Cary</td>\n",
       "      <td>Cary</td>\n",
       "      <td>4.6</td>\n",
       "      <td>Customer Visit</td>\n",
       "    </tr>\n",
       "    <tr>\n",
       "      <th>54</th>\n",
       "      <td>1/29/2016 10:56</td>\n",
       "      <td>1/29/2016 11:07</td>\n",
       "      <td>Business</td>\n",
       "      <td>Cary</td>\n",
       "      <td>Cary</td>\n",
       "      <td>5.2</td>\n",
       "      <td>Meeting</td>\n",
       "    </tr>\n",
       "    <tr>\n",
       "      <th>65</th>\n",
       "      <td>2/2/2016 13:51</td>\n",
       "      <td>2/2/2016 14:06</td>\n",
       "      <td>Business</td>\n",
       "      <td>Cary</td>\n",
       "      <td>Cary</td>\n",
       "      <td>6.0</td>\n",
       "      <td>Errand/Supplies</td>\n",
       "    </tr>\n",
       "    <tr>\n",
       "      <th>66</th>\n",
       "      <td>2/2/2016 14:38</td>\n",
       "      <td>2/2/2016 14:42</td>\n",
       "      <td>Business</td>\n",
       "      <td>Cary</td>\n",
       "      <td>Cary</td>\n",
       "      <td>1.6</td>\n",
       "      <td>Errand/Supplies</td>\n",
       "    </tr>\n",
       "    <tr>\n",
       "      <th>69</th>\n",
       "      <td>2/4/2016 10:26</td>\n",
       "      <td>2/4/2016 10:32</td>\n",
       "      <td>Business</td>\n",
       "      <td>Cary</td>\n",
       "      <td>Cary</td>\n",
       "      <td>1.6</td>\n",
       "      <td>Meal/Entertain</td>\n",
       "    </tr>\n",
       "    <tr>\n",
       "      <th>70</th>\n",
       "      <td>2/4/2016 15:59</td>\n",
       "      <td>2/4/2016 16:03</td>\n",
       "      <td>Business</td>\n",
       "      <td>Cary</td>\n",
       "      <td>Cary</td>\n",
       "      <td>1.1</td>\n",
       "      <td>Meal/Entertain</td>\n",
       "    </tr>\n",
       "    <tr>\n",
       "      <th>71</th>\n",
       "      <td>2/4/2016 16:35</td>\n",
       "      <td>2/4/2016 16:39</td>\n",
       "      <td>Business</td>\n",
       "      <td>Cary</td>\n",
       "      <td>Cary</td>\n",
       "      <td>1.6</td>\n",
       "      <td>Meal/Entertain</td>\n",
       "    </tr>\n",
       "    <tr>\n",
       "      <th>73</th>\n",
       "      <td>2/4/2016 20:36</td>\n",
       "      <td>2/4/2016 20:55</td>\n",
       "      <td>Business</td>\n",
       "      <td>Cary</td>\n",
       "      <td>Cary</td>\n",
       "      <td>7.7</td>\n",
       "      <td>Meeting</td>\n",
       "    </tr>\n",
       "    <tr>\n",
       "      <th>110</th>\n",
       "      <td>2/16/2016 10:31</td>\n",
       "      <td>2/16/2016 10:41</td>\n",
       "      <td>Business</td>\n",
       "      <td>Colombo</td>\n",
       "      <td>Colombo</td>\n",
       "      <td>2.6</td>\n",
       "      <td>NaN</td>\n",
       "    </tr>\n",
       "    <tr>\n",
       "      <th>111</th>\n",
       "      <td>2/16/2016 11:32</td>\n",
       "      <td>2/16/2016 12:02</td>\n",
       "      <td>Business</td>\n",
       "      <td>Colombo</td>\n",
       "      <td>Colombo</td>\n",
       "      <td>4.5</td>\n",
       "      <td>NaN</td>\n",
       "    </tr>\n",
       "    <tr>\n",
       "      <th>112</th>\n",
       "      <td>2/16/2016 12:39</td>\n",
       "      <td>2/16/2016 12:42</td>\n",
       "      <td>Business</td>\n",
       "      <td>Colombo</td>\n",
       "      <td>Colombo</td>\n",
       "      <td>1.7</td>\n",
       "      <td>NaN</td>\n",
       "    </tr>\n",
       "    <tr>\n",
       "      <th>113</th>\n",
       "      <td>2/16/2016 13:43</td>\n",
       "      <td>2/16/2016 13:55</td>\n",
       "      <td>Business</td>\n",
       "      <td>Colombo</td>\n",
       "      <td>Colombo</td>\n",
       "      <td>1.8</td>\n",
       "      <td>Temporary Site</td>\n",
       "    </tr>\n",
       "    <tr>\n",
       "      <th>114</th>\n",
       "      <td>2/16/2016 16:34</td>\n",
       "      <td>2/16/2016 17:10</td>\n",
       "      <td>Business</td>\n",
       "      <td>Colombo</td>\n",
       "      <td>Colombo</td>\n",
       "      <td>6.0</td>\n",
       "      <td>NaN</td>\n",
       "    </tr>\n",
       "    <tr>\n",
       "      <th>118</th>\n",
       "      <td>2/17/2016 15:17</td>\n",
       "      <td>2/17/2016 15:22</td>\n",
       "      <td>Business</td>\n",
       "      <td>Colombo</td>\n",
       "      <td>Colombo</td>\n",
       "      <td>1.7</td>\n",
       "      <td>Meal/Entertain</td>\n",
       "    </tr>\n",
       "    <tr>\n",
       "      <th>120</th>\n",
       "      <td>2/17/2016 16:38</td>\n",
       "      <td>2/17/2016 16:43</td>\n",
       "      <td>Business</td>\n",
       "      <td>Katunayaka</td>\n",
       "      <td>Katunayaka</td>\n",
       "      <td>0.5</td>\n",
       "      <td>Errand/Supplies</td>\n",
       "    </tr>\n",
       "    <tr>\n",
       "      <th>...</th>\n",
       "      <td>...</td>\n",
       "      <td>...</td>\n",
       "      <td>...</td>\n",
       "      <td>...</td>\n",
       "      <td>...</td>\n",
       "      <td>...</td>\n",
       "      <td>...</td>\n",
       "    </tr>\n",
       "    <tr>\n",
       "      <th>1109</th>\n",
       "      <td>12/24/2016 19:12</td>\n",
       "      <td>12/24/2016 19:27</td>\n",
       "      <td>Business</td>\n",
       "      <td>Lahore</td>\n",
       "      <td>Lahore</td>\n",
       "      <td>2.9</td>\n",
       "      <td>Meal/Entertain</td>\n",
       "    </tr>\n",
       "    <tr>\n",
       "      <th>1110</th>\n",
       "      <td>12/24/2016 22:04</td>\n",
       "      <td>12/24/2016 22:09</td>\n",
       "      <td>Business</td>\n",
       "      <td>Lahore</td>\n",
       "      <td>Lahore</td>\n",
       "      <td>0.6</td>\n",
       "      <td>Errand/Supplies</td>\n",
       "    </tr>\n",
       "    <tr>\n",
       "      <th>1111</th>\n",
       "      <td>12/25/2016 0:10</td>\n",
       "      <td>12/25/2016 0:14</td>\n",
       "      <td>Business</td>\n",
       "      <td>Lahore</td>\n",
       "      <td>Lahore</td>\n",
       "      <td>0.6</td>\n",
       "      <td>Errand/Supplies</td>\n",
       "    </tr>\n",
       "    <tr>\n",
       "      <th>1112</th>\n",
       "      <td>12/25/2016 19:15</td>\n",
       "      <td>12/25/2016 19:26</td>\n",
       "      <td>Business</td>\n",
       "      <td>Lahore</td>\n",
       "      <td>Lahore</td>\n",
       "      <td>2.3</td>\n",
       "      <td>Meal/Entertain</td>\n",
       "    </tr>\n",
       "    <tr>\n",
       "      <th>1113</th>\n",
       "      <td>12/25/2016 21:58</td>\n",
       "      <td>12/25/2016 22:04</td>\n",
       "      <td>Business</td>\n",
       "      <td>Lahore</td>\n",
       "      <td>Lahore</td>\n",
       "      <td>2.3</td>\n",
       "      <td>Meal/Entertain</td>\n",
       "    </tr>\n",
       "    <tr>\n",
       "      <th>1114</th>\n",
       "      <td>12/26/2016 8:30</td>\n",
       "      <td>12/26/2016 8:41</td>\n",
       "      <td>Business</td>\n",
       "      <td>Lahore</td>\n",
       "      <td>Lahore</td>\n",
       "      <td>3.2</td>\n",
       "      <td>Meal/Entertain</td>\n",
       "    </tr>\n",
       "    <tr>\n",
       "      <th>1115</th>\n",
       "      <td>12/26/2016 9:05</td>\n",
       "      <td>12/26/2016 9:19</td>\n",
       "      <td>Business</td>\n",
       "      <td>Lahore</td>\n",
       "      <td>Lahore</td>\n",
       "      <td>6.2</td>\n",
       "      <td>Customer Visit</td>\n",
       "    </tr>\n",
       "    <tr>\n",
       "      <th>1116</th>\n",
       "      <td>12/26/2016 10:15</td>\n",
       "      <td>12/26/2016 10:36</td>\n",
       "      <td>Business</td>\n",
       "      <td>Lahore</td>\n",
       "      <td>Lahore</td>\n",
       "      <td>7.7</td>\n",
       "      <td>Customer Visit</td>\n",
       "    </tr>\n",
       "    <tr>\n",
       "      <th>1117</th>\n",
       "      <td>12/26/2016 11:29</td>\n",
       "      <td>12/26/2016 11:42</td>\n",
       "      <td>Business</td>\n",
       "      <td>Lahore</td>\n",
       "      <td>Lahore</td>\n",
       "      <td>3.8</td>\n",
       "      <td>Customer Visit</td>\n",
       "    </tr>\n",
       "    <tr>\n",
       "      <th>1119</th>\n",
       "      <td>12/27/2016 7:02</td>\n",
       "      <td>12/27/2016 7:14</td>\n",
       "      <td>Business</td>\n",
       "      <td>Kar?chi</td>\n",
       "      <td>Kar?chi</td>\n",
       "      <td>4.9</td>\n",
       "      <td>Temporary Site</td>\n",
       "    </tr>\n",
       "    <tr>\n",
       "      <th>1120</th>\n",
       "      <td>12/27/2016 8:37</td>\n",
       "      <td>12/27/2016 8:59</td>\n",
       "      <td>Business</td>\n",
       "      <td>Kar?chi</td>\n",
       "      <td>Kar?chi</td>\n",
       "      <td>5.0</td>\n",
       "      <td>Meal/Entertain</td>\n",
       "    </tr>\n",
       "    <tr>\n",
       "      <th>1121</th>\n",
       "      <td>12/27/2016 12:53</td>\n",
       "      <td>12/27/2016 12:57</td>\n",
       "      <td>Business</td>\n",
       "      <td>Kar?chi</td>\n",
       "      <td>Kar?chi</td>\n",
       "      <td>0.6</td>\n",
       "      <td>Meal/Entertain</td>\n",
       "    </tr>\n",
       "    <tr>\n",
       "      <th>1124</th>\n",
       "      <td>12/27/2016 19:19</td>\n",
       "      <td>12/27/2016 19:50</td>\n",
       "      <td>Business</td>\n",
       "      <td>Kar?chi</td>\n",
       "      <td>Kar?chi</td>\n",
       "      <td>5.5</td>\n",
       "      <td>Customer Visit</td>\n",
       "    </tr>\n",
       "    <tr>\n",
       "      <th>1127</th>\n",
       "      <td>12/28/2016 13:53</td>\n",
       "      <td>12/28/2016 14:01</td>\n",
       "      <td>Business</td>\n",
       "      <td>Kar?chi</td>\n",
       "      <td>Kar?chi</td>\n",
       "      <td>2.0</td>\n",
       "      <td>Errand/Supplies</td>\n",
       "    </tr>\n",
       "    <tr>\n",
       "      <th>1130</th>\n",
       "      <td>12/28/2016 18:33</td>\n",
       "      <td>12/28/2016 18:56</td>\n",
       "      <td>Business</td>\n",
       "      <td>Kar?chi</td>\n",
       "      <td>Kar?chi</td>\n",
       "      <td>3.8</td>\n",
       "      <td>Errand/Supplies</td>\n",
       "    </tr>\n",
       "    <tr>\n",
       "      <th>1131</th>\n",
       "      <td>12/28/2016 22:44</td>\n",
       "      <td>12/28/2016 23:18</td>\n",
       "      <td>Business</td>\n",
       "      <td>Kar?chi</td>\n",
       "      <td>Kar?chi</td>\n",
       "      <td>5.1</td>\n",
       "      <td>Errand/Supplies</td>\n",
       "    </tr>\n",
       "    <tr>\n",
       "      <th>1132</th>\n",
       "      <td>12/29/2016 0:49</td>\n",
       "      <td>12/29/2016 1:06</td>\n",
       "      <td>Business</td>\n",
       "      <td>Kar?chi</td>\n",
       "      <td>Kar?chi</td>\n",
       "      <td>3.8</td>\n",
       "      <td>Errand/Supplies</td>\n",
       "    </tr>\n",
       "    <tr>\n",
       "      <th>1135</th>\n",
       "      <td>12/29/2016 12:25</td>\n",
       "      <td>12/29/2016 12:33</td>\n",
       "      <td>Business</td>\n",
       "      <td>Kar?chi</td>\n",
       "      <td>Kar?chi</td>\n",
       "      <td>1.4</td>\n",
       "      <td>Errand/Supplies</td>\n",
       "    </tr>\n",
       "    <tr>\n",
       "      <th>1136</th>\n",
       "      <td>12/29/2016 13:17</td>\n",
       "      <td>12/29/2016 13:24</td>\n",
       "      <td>Business</td>\n",
       "      <td>Kar?chi</td>\n",
       "      <td>Kar?chi</td>\n",
       "      <td>1.1</td>\n",
       "      <td>Errand/Supplies</td>\n",
       "    </tr>\n",
       "    <tr>\n",
       "      <th>1137</th>\n",
       "      <td>12/29/2016 13:56</td>\n",
       "      <td>12/29/2016 14:11</td>\n",
       "      <td>Business</td>\n",
       "      <td>Kar?chi</td>\n",
       "      <td>Kar?chi</td>\n",
       "      <td>4.1</td>\n",
       "      <td>Airport/Travel</td>\n",
       "    </tr>\n",
       "    <tr>\n",
       "      <th>1138</th>\n",
       "      <td>12/29/2016 14:42</td>\n",
       "      <td>12/29/2016 14:58</td>\n",
       "      <td>Business</td>\n",
       "      <td>Kar?chi</td>\n",
       "      <td>Kar?chi</td>\n",
       "      <td>6.1</td>\n",
       "      <td>Between Offices</td>\n",
       "    </tr>\n",
       "    <tr>\n",
       "      <th>1139</th>\n",
       "      <td>12/29/2016 15:05</td>\n",
       "      <td>12/29/2016 15:16</td>\n",
       "      <td>Business</td>\n",
       "      <td>Kar?chi</td>\n",
       "      <td>Kar?chi</td>\n",
       "      <td>1.3</td>\n",
       "      <td>Errand/Supplies</td>\n",
       "    </tr>\n",
       "    <tr>\n",
       "      <th>1142</th>\n",
       "      <td>12/29/2016 20:15</td>\n",
       "      <td>12/29/2016 20:45</td>\n",
       "      <td>Business</td>\n",
       "      <td>Kar?chi</td>\n",
       "      <td>Kar?chi</td>\n",
       "      <td>7.2</td>\n",
       "      <td>Meeting</td>\n",
       "    </tr>\n",
       "    <tr>\n",
       "      <th>1145</th>\n",
       "      <td>12/30/2016 10:15</td>\n",
       "      <td>12/30/2016 10:33</td>\n",
       "      <td>Business</td>\n",
       "      <td>Kar?chi</td>\n",
       "      <td>Kar?chi</td>\n",
       "      <td>2.8</td>\n",
       "      <td>Errand/Supplies</td>\n",
       "    </tr>\n",
       "    <tr>\n",
       "      <th>1146</th>\n",
       "      <td>12/30/2016 11:31</td>\n",
       "      <td>12/30/2016 11:56</td>\n",
       "      <td>Business</td>\n",
       "      <td>Kar?chi</td>\n",
       "      <td>Kar?chi</td>\n",
       "      <td>2.9</td>\n",
       "      <td>Errand/Supplies</td>\n",
       "    </tr>\n",
       "    <tr>\n",
       "      <th>1147</th>\n",
       "      <td>12/30/2016 15:41</td>\n",
       "      <td>12/30/2016 16:03</td>\n",
       "      <td>Business</td>\n",
       "      <td>Kar?chi</td>\n",
       "      <td>Kar?chi</td>\n",
       "      <td>4.6</td>\n",
       "      <td>Errand/Supplies</td>\n",
       "    </tr>\n",
       "    <tr>\n",
       "      <th>1148</th>\n",
       "      <td>12/30/2016 16:45</td>\n",
       "      <td>12/30/2016 17:08</td>\n",
       "      <td>Business</td>\n",
       "      <td>Kar?chi</td>\n",
       "      <td>Kar?chi</td>\n",
       "      <td>4.6</td>\n",
       "      <td>Meeting</td>\n",
       "    </tr>\n",
       "    <tr>\n",
       "      <th>1149</th>\n",
       "      <td>12/30/2016 23:06</td>\n",
       "      <td>12/30/2016 23:10</td>\n",
       "      <td>Business</td>\n",
       "      <td>Kar?chi</td>\n",
       "      <td>Kar?chi</td>\n",
       "      <td>0.8</td>\n",
       "      <td>Customer Visit</td>\n",
       "    </tr>\n",
       "    <tr>\n",
       "      <th>1150</th>\n",
       "      <td>12/31/2016 1:07</td>\n",
       "      <td>12/31/2016 1:14</td>\n",
       "      <td>Business</td>\n",
       "      <td>Kar?chi</td>\n",
       "      <td>Kar?chi</td>\n",
       "      <td>0.7</td>\n",
       "      <td>Meeting</td>\n",
       "    </tr>\n",
       "    <tr>\n",
       "      <th>1152</th>\n",
       "      <td>12/31/2016 15:03</td>\n",
       "      <td>12/31/2016 15:38</td>\n",
       "      <td>Business</td>\n",
       "      <td>Unknown Location</td>\n",
       "      <td>Unknown Location</td>\n",
       "      <td>16.2</td>\n",
       "      <td>Meeting</td>\n",
       "    </tr>\n",
       "  </tbody>\n",
       "</table>\n",
       "<p>288 rows × 7 columns</p>\n",
       "</div>"
      ],
      "text/plain": [
       "            START_DATE          END_DATE       CAT             START  \\\n",
       "0       1/1/2016 21:11    1/1/2016 21:17  Business       Fort Pierce   \n",
       "1        1/2/2016 1:25     1/2/2016 1:37  Business       Fort Pierce   \n",
       "2       1/2/2016 20:25    1/2/2016 20:38  Business       Fort Pierce   \n",
       "3       1/5/2016 17:31    1/5/2016 17:45  Business       Fort Pierce   \n",
       "5       1/6/2016 17:15    1/6/2016 17:19  Business   West Palm Beach   \n",
       "7       1/7/2016 13:27    1/7/2016 13:33  Business              Cary   \n",
       "25     1/14/2016 16:29   1/14/2016 17:05  Business           Houston   \n",
       "30     1/18/2016 14:55   1/18/2016 15:06  Business              Cary   \n",
       "37     1/21/2016 14:25   1/21/2016 14:29  Business              Cary   \n",
       "38     1/21/2016 14:43   1/21/2016 14:51  Business              Cary   \n",
       "39     1/21/2016 16:01   1/21/2016 16:06  Business              Cary   \n",
       "43     1/26/2016 17:17   1/26/2016 17:22  Business              Cary   \n",
       "44     1/26/2016 17:27   1/26/2016 17:29  Business              Cary   \n",
       "45      1/27/2016 9:24    1/27/2016 9:31  Business              Cary   \n",
       "48     1/27/2016 14:05   1/27/2016 14:13  Business           Raleigh   \n",
       "53      1/29/2016 9:31    1/29/2016 9:45  Business              Cary   \n",
       "54     1/29/2016 10:56   1/29/2016 11:07  Business              Cary   \n",
       "65      2/2/2016 13:51    2/2/2016 14:06  Business              Cary   \n",
       "66      2/2/2016 14:38    2/2/2016 14:42  Business              Cary   \n",
       "69      2/4/2016 10:26    2/4/2016 10:32  Business              Cary   \n",
       "70      2/4/2016 15:59    2/4/2016 16:03  Business              Cary   \n",
       "71      2/4/2016 16:35    2/4/2016 16:39  Business              Cary   \n",
       "73      2/4/2016 20:36    2/4/2016 20:55  Business              Cary   \n",
       "110    2/16/2016 10:31   2/16/2016 10:41  Business           Colombo   \n",
       "111    2/16/2016 11:32   2/16/2016 12:02  Business           Colombo   \n",
       "112    2/16/2016 12:39   2/16/2016 12:42  Business           Colombo   \n",
       "113    2/16/2016 13:43   2/16/2016 13:55  Business           Colombo   \n",
       "114    2/16/2016 16:34   2/16/2016 17:10  Business           Colombo   \n",
       "118    2/17/2016 15:17   2/17/2016 15:22  Business           Colombo   \n",
       "120    2/17/2016 16:38   2/17/2016 16:43  Business        Katunayaka   \n",
       "...                ...               ...       ...               ...   \n",
       "1109  12/24/2016 19:12  12/24/2016 19:27  Business            Lahore   \n",
       "1110  12/24/2016 22:04  12/24/2016 22:09  Business            Lahore   \n",
       "1111   12/25/2016 0:10   12/25/2016 0:14  Business            Lahore   \n",
       "1112  12/25/2016 19:15  12/25/2016 19:26  Business            Lahore   \n",
       "1113  12/25/2016 21:58  12/25/2016 22:04  Business            Lahore   \n",
       "1114   12/26/2016 8:30   12/26/2016 8:41  Business            Lahore   \n",
       "1115   12/26/2016 9:05   12/26/2016 9:19  Business            Lahore   \n",
       "1116  12/26/2016 10:15  12/26/2016 10:36  Business            Lahore   \n",
       "1117  12/26/2016 11:29  12/26/2016 11:42  Business            Lahore   \n",
       "1119   12/27/2016 7:02   12/27/2016 7:14  Business           Kar?chi   \n",
       "1120   12/27/2016 8:37   12/27/2016 8:59  Business           Kar?chi   \n",
       "1121  12/27/2016 12:53  12/27/2016 12:57  Business           Kar?chi   \n",
       "1124  12/27/2016 19:19  12/27/2016 19:50  Business           Kar?chi   \n",
       "1127  12/28/2016 13:53  12/28/2016 14:01  Business           Kar?chi   \n",
       "1130  12/28/2016 18:33  12/28/2016 18:56  Business           Kar?chi   \n",
       "1131  12/28/2016 22:44  12/28/2016 23:18  Business           Kar?chi   \n",
       "1132   12/29/2016 0:49   12/29/2016 1:06  Business           Kar?chi   \n",
       "1135  12/29/2016 12:25  12/29/2016 12:33  Business           Kar?chi   \n",
       "1136  12/29/2016 13:17  12/29/2016 13:24  Business           Kar?chi   \n",
       "1137  12/29/2016 13:56  12/29/2016 14:11  Business           Kar?chi   \n",
       "1138  12/29/2016 14:42  12/29/2016 14:58  Business           Kar?chi   \n",
       "1139  12/29/2016 15:05  12/29/2016 15:16  Business           Kar?chi   \n",
       "1142  12/29/2016 20:15  12/29/2016 20:45  Business           Kar?chi   \n",
       "1145  12/30/2016 10:15  12/30/2016 10:33  Business           Kar?chi   \n",
       "1146  12/30/2016 11:31  12/30/2016 11:56  Business           Kar?chi   \n",
       "1147  12/30/2016 15:41  12/30/2016 16:03  Business           Kar?chi   \n",
       "1148  12/30/2016 16:45  12/30/2016 17:08  Business           Kar?chi   \n",
       "1149  12/30/2016 23:06  12/30/2016 23:10  Business           Kar?chi   \n",
       "1150   12/31/2016 1:07   12/31/2016 1:14  Business           Kar?chi   \n",
       "1152  12/31/2016 15:03  12/31/2016 15:38  Business  Unknown Location   \n",
       "\n",
       "                  STOP  MILES          PURPOSE  \n",
       "0          Fort Pierce    5.1   Meal/Entertain  \n",
       "1          Fort Pierce    5.0              NaN  \n",
       "2          Fort Pierce    4.8  Errand/Supplies  \n",
       "3          Fort Pierce    4.7          Meeting  \n",
       "5      West Palm Beach    4.3   Meal/Entertain  \n",
       "7                 Cary    0.8          Meeting  \n",
       "25             Houston   21.9   Customer Visit  \n",
       "30                Cary    4.8   Meal/Entertain  \n",
       "37                Cary    1.6  Errand/Supplies  \n",
       "38                Cary    2.4   Meal/Entertain  \n",
       "39                Cary    1.0   Meal/Entertain  \n",
       "43                Cary    1.4  Errand/Supplies  \n",
       "44                Cary    0.5  Errand/Supplies  \n",
       "45                Cary    1.8          Meeting  \n",
       "48             Raleigh    2.7   Customer Visit  \n",
       "53                Cary    4.6   Customer Visit  \n",
       "54                Cary    5.2          Meeting  \n",
       "65                Cary    6.0  Errand/Supplies  \n",
       "66                Cary    1.6  Errand/Supplies  \n",
       "69                Cary    1.6   Meal/Entertain  \n",
       "70                Cary    1.1   Meal/Entertain  \n",
       "71                Cary    1.6   Meal/Entertain  \n",
       "73                Cary    7.7          Meeting  \n",
       "110            Colombo    2.6              NaN  \n",
       "111            Colombo    4.5              NaN  \n",
       "112            Colombo    1.7              NaN  \n",
       "113            Colombo    1.8   Temporary Site  \n",
       "114            Colombo    6.0              NaN  \n",
       "118            Colombo    1.7   Meal/Entertain  \n",
       "120         Katunayaka    0.5  Errand/Supplies  \n",
       "...                ...    ...              ...  \n",
       "1109            Lahore    2.9   Meal/Entertain  \n",
       "1110            Lahore    0.6  Errand/Supplies  \n",
       "1111            Lahore    0.6  Errand/Supplies  \n",
       "1112            Lahore    2.3   Meal/Entertain  \n",
       "1113            Lahore    2.3   Meal/Entertain  \n",
       "1114            Lahore    3.2   Meal/Entertain  \n",
       "1115            Lahore    6.2   Customer Visit  \n",
       "1116            Lahore    7.7   Customer Visit  \n",
       "1117            Lahore    3.8   Customer Visit  \n",
       "1119           Kar?chi    4.9   Temporary Site  \n",
       "1120           Kar?chi    5.0   Meal/Entertain  \n",
       "1121           Kar?chi    0.6   Meal/Entertain  \n",
       "1124           Kar?chi    5.5   Customer Visit  \n",
       "1127           Kar?chi    2.0  Errand/Supplies  \n",
       "1130           Kar?chi    3.8  Errand/Supplies  \n",
       "1131           Kar?chi    5.1  Errand/Supplies  \n",
       "1132           Kar?chi    3.8  Errand/Supplies  \n",
       "1135           Kar?chi    1.4  Errand/Supplies  \n",
       "1136           Kar?chi    1.1  Errand/Supplies  \n",
       "1137           Kar?chi    4.1   Airport/Travel  \n",
       "1138           Kar?chi    6.1  Between Offices  \n",
       "1139           Kar?chi    1.3  Errand/Supplies  \n",
       "1142           Kar?chi    7.2          Meeting  \n",
       "1145           Kar?chi    2.8  Errand/Supplies  \n",
       "1146           Kar?chi    2.9  Errand/Supplies  \n",
       "1147           Kar?chi    4.6  Errand/Supplies  \n",
       "1148           Kar?chi    4.6          Meeting  \n",
       "1149           Kar?chi    0.8   Customer Visit  \n",
       "1150           Kar?chi    0.7          Meeting  \n",
       "1152  Unknown Location   16.2          Meeting  \n",
       "\n",
       "[288 rows x 7 columns]"
      ]
     },
     "execution_count": 39,
     "metadata": {},
     "output_type": "execute_result"
    }
   ],
   "source": [
    "# Are there cases where the start and the stop location are the same  ? \n",
    "df[df['START'] == df['STOP']]"
   ]
  },
  {
   "cell_type": "markdown",
   "metadata": {},
   "source": [
    "Favorite starting point w.r.t. the total miles covered."
   ]
  },
  {
   "cell_type": "code",
   "execution_count": 40,
   "metadata": {
    "colab": {
     "base_uri": "https://localhost:8080/",
     "height": 221
    },
    "colab_type": "code",
    "id": "I1oDU0J-73vr",
    "outputId": "3794aca1-8d5a-4e1b-f17c-53155cd90bdd",
    "scrolled": true
   },
   "outputs": [
    {
     "data": {
      "text/plain": [
       "START\n",
       "Unknown Location    1976.5\n",
       "Cary                1791.3\n",
       "Morrisville          671.7\n",
       "Raleigh              433.0\n",
       "Islamabad            401.2\n",
       "Durham               384.4\n",
       "Jacksonville         375.2\n",
       "Latta                310.3\n",
       "Asheville            287.7\n",
       "Whitebridge          273.4\n",
       "Name: MILES, dtype: float64"
      ]
     },
     "execution_count": 40,
     "metadata": {},
     "output_type": "execute_result"
    }
   ],
   "source": [
    "df.groupby('START')['MILES'].sum().sort_values(ascending = False ).head(10)"
   ]
  },
  {
   "cell_type": "markdown",
   "metadata": {},
   "source": [
    "Find the top10 start stop pair that have the most miles covered between them ever."
   ]
  },
  {
   "cell_type": "code",
   "execution_count": 41,
   "metadata": {
    "colab_type": "text",
    "id": "sN8WmJMa73vu"
   },
   "outputs": [],
   "source": [
    "# Let us drop the unknown locations\n",
    "df2 = df[df['START'] != 'Unknown Location']             # Makes a new dataframe, which don't have \"Unknown Location\" as starting point\n",
    "df2 = df2[df2['STOP'] != 'Unknown Location']            # Further updates the df2 dataframe, by removing \"Unknown Location\" as stopping point"
   ]
  },
  {
   "cell_type": "code",
   "execution_count": 42,
   "metadata": {
    "colab": {
     "base_uri": "https://localhost:8080/",
     "height": 300
    },
    "colab_type": "code",
    "id": "Qzix_S2V73vu",
    "outputId": "639a15f5-bdf7-4dbf-8dc7-35a0db4e718e",
    "scrolled": true
   },
   "outputs": [
    {
     "data": {
      "text/html": [
       "<div>\n",
       "<style scoped>\n",
       "    .dataframe tbody tr th:only-of-type {\n",
       "        vertical-align: middle;\n",
       "    }\n",
       "\n",
       "    .dataframe tbody tr th {\n",
       "        vertical-align: top;\n",
       "    }\n",
       "\n",
       "    .dataframe thead th {\n",
       "        text-align: right;\n",
       "    }\n",
       "</style>\n",
       "<table border=\"1\" class=\"dataframe\">\n",
       "  <thead>\n",
       "    <tr style=\"text-align: right;\">\n",
       "      <th></th>\n",
       "      <th>START</th>\n",
       "      <th>STOP</th>\n",
       "      <th>MILES</th>\n",
       "      <th>Start-Stop</th>\n",
       "    </tr>\n",
       "  </thead>\n",
       "  <tbody>\n",
       "    <tr>\n",
       "      <th>0</th>\n",
       "      <td>Morrisville</td>\n",
       "      <td>Cary</td>\n",
       "      <td>395.7</td>\n",
       "      <td>Morrisville - Cary</td>\n",
       "    </tr>\n",
       "    <tr>\n",
       "      <th>1</th>\n",
       "      <td>Cary</td>\n",
       "      <td>Durham</td>\n",
       "      <td>390.0</td>\n",
       "      <td>Cary - Durham</td>\n",
       "    </tr>\n",
       "    <tr>\n",
       "      <th>2</th>\n",
       "      <td>Cary</td>\n",
       "      <td>Morrisville</td>\n",
       "      <td>380.0</td>\n",
       "      <td>Cary - Morrisville</td>\n",
       "    </tr>\n",
       "    <tr>\n",
       "      <th>3</th>\n",
       "      <td>Raleigh</td>\n",
       "      <td>Cary</td>\n",
       "      <td>365.7</td>\n",
       "      <td>Raleigh - Cary</td>\n",
       "    </tr>\n",
       "    <tr>\n",
       "      <th>4</th>\n",
       "      <td>Cary</td>\n",
       "      <td>Raleigh</td>\n",
       "      <td>336.5</td>\n",
       "      <td>Cary - Raleigh</td>\n",
       "    </tr>\n",
       "    <tr>\n",
       "      <th>5</th>\n",
       "      <td>Durham</td>\n",
       "      <td>Cary</td>\n",
       "      <td>334.4</td>\n",
       "      <td>Durham - Cary</td>\n",
       "    </tr>\n",
       "    <tr>\n",
       "      <th>6</th>\n",
       "      <td>Latta</td>\n",
       "      <td>Jacksonville</td>\n",
       "      <td>310.3</td>\n",
       "      <td>Latta - Jacksonville</td>\n",
       "    </tr>\n",
       "    <tr>\n",
       "      <th>7</th>\n",
       "      <td>Cary</td>\n",
       "      <td>Cary</td>\n",
       "      <td>255.9</td>\n",
       "      <td>Cary - Cary</td>\n",
       "    </tr>\n",
       "    <tr>\n",
       "      <th>8</th>\n",
       "      <td>Jacksonville</td>\n",
       "      <td>Kissimmee</td>\n",
       "      <td>201.0</td>\n",
       "      <td>Jacksonville - Kissimmee</td>\n",
       "    </tr>\n",
       "    <tr>\n",
       "      <th>9</th>\n",
       "      <td>Asheville</td>\n",
       "      <td>Mebane</td>\n",
       "      <td>195.9</td>\n",
       "      <td>Asheville - Mebane</td>\n",
       "    </tr>\n",
       "  </tbody>\n",
       "</table>\n",
       "</div>"
      ],
      "text/plain": [
       "          START          STOP  MILES                Start-Stop\n",
       "0   Morrisville          Cary  395.7        Morrisville - Cary\n",
       "1          Cary        Durham  390.0             Cary - Durham\n",
       "2          Cary   Morrisville  380.0        Cary - Morrisville\n",
       "3       Raleigh          Cary  365.7            Raleigh - Cary\n",
       "4          Cary       Raleigh  336.5            Cary - Raleigh\n",
       "5        Durham          Cary  334.4             Durham - Cary\n",
       "6         Latta  Jacksonville  310.3      Latta - Jacksonville\n",
       "7          Cary          Cary  255.9               Cary - Cary\n",
       "8  Jacksonville     Kissimmee  201.0  Jacksonville - Kissimmee\n",
       "9     Asheville        Mebane  195.9        Asheville - Mebane"
      ]
     },
     "execution_count": 42,
     "metadata": {},
     "output_type": "execute_result"
    }
   ],
   "source": [
    "# Creating a dataframe with the top 10 most miles covered between a start stop pair\n",
    "\n",
    "k3 = df2.groupby(['START','STOP'])['MILES'].sum().sort_values(ascending=False).head(10) \n",
    "k3= k3.reset_index() # flatten the dataframe \n",
    "k3['Start-Stop'] = k3['START'] + ' - ' + k3['STOP']\n",
    "k3 = df2.groupby(['START','STOP'])['MILES'].sum().sort_values(ascending=False).head(10) \n",
    "k3= k3.reset_index() # flatten the dataframe \n",
    "k3['Start-Stop'] = k3['START'] + ' - ' + k3['STOP']\n",
    "k3"
   ]
  },
  {
   "cell_type": "code",
   "execution_count": 43,
   "metadata": {},
   "outputs": [
    {
     "data": {
      "text/plain": [
       "<matplotlib.axes._subplots.AxesSubplot at 0x1beda9526d8>"
      ]
     },
     "execution_count": 43,
     "metadata": {},
     "output_type": "execute_result"
    },
    {
     "data": {
      "image/png": "[encoded data removed]",
      "text/plain": [
       "<Figure size 1152x576 with 1 Axes>"
      ]
     },
     "metadata": {
      "needs_background": "light"
     },
     "output_type": "display_data"
    }
   ],
   "source": [
    "# just a peek into the visualisation module which you are going to learn in the upcoming weeek. \n",
    "%matplotlib inline \n",
    "import matplotlib.pyplot as plt\n",
    "import seaborn as sns\n",
    "plt.figure(figsize=(16,8))\n",
    "sns.barplot(data= k3 , x= 'Start-Stop' , y ='MILES')"
   ]
  },
  {
   "cell_type": "markdown",
   "metadata": {
    "colab_type": "text",
    "id": "ZeYVvHB373v5"
   },
   "source": [
    "The most popular start and stop pair - ( BY COUNT of travels! )"
   ]
  },
  {
   "cell_type": "code",
   "execution_count": 44,
   "metadata": {
    "colab": {
     "base_uri": "https://localhost:8080/",
     "height": 221
    },
    "colab_type": "code",
    "id": "RgqZfjxm73v6",
    "outputId": "5a0a72da-4e80-4162-93c5-409f2a4d5398",
    "scrolled": true
   },
   "outputs": [
    {
     "data": {
      "text/plain": [
       "START        STOP       \n",
       "Morrisville  Cary           75\n",
       "Cary         Morrisville    67\n",
       "             Cary           53\n",
       "             Durham         36\n",
       "Durham       Cary           32\n",
       "Lahore       Lahore         27\n",
       "Islamabad    Islamabad      25\n",
       "Cary         Raleigh        23\n",
       "Raleigh      Cary           21\n",
       "Kar?chi      Kar?chi        20\n",
       "Name: MILES, dtype: int64"
      ]
     },
     "execution_count": 44,
     "metadata": {},
     "output_type": "execute_result"
    }
   ],
   "source": [
    "df2.groupby(['START','STOP'])['MILES'].size().sort_values(ascending=False).head(10)"
   ]
  },
  {
   "cell_type": "markdown",
   "metadata": {
    "colab_type": "text",
    "id": "12S-vpsk73v8"
   },
   "source": [
    "**The most popular start to destination pair is Morrisville-Cary**"
   ]
  },
  {
   "cell_type": "markdown",
   "metadata": {
    "colab_type": "text",
    "id": "AEuPLlqK73v8"
   },
   "source": [
    "<a id = \"link4\"></a>\n",
    "## 2. Start Date - End Date \n",
    "### Manipulating date & time objects\n",
    "#### Lets explore the variables using the below points-\n",
    "- create new start_date and end_date column by converting them into datetime objects\n",
    "- create columns for day, hour, month and the day of the week\n",
    "- busiest month in terms of number of drives and miles driven\n",
    "- busiest day of the week and preferred start hour \n",
    "- peak hours\n",
    "- create features for trip duration data "
   ]
  },
  {
   "cell_type": "code",
   "execution_count": 45,
   "metadata": {
    "colab": {
     "base_uri": "https://localhost:8080/",
     "height": 204
    },
    "colab_type": "code",
    "id": "aMvHdBEA73v9",
    "outputId": "c19995a9-3de5-4626-eb2f-b3e176900b48"
   },
   "outputs": [
    {
     "data": {
      "text/html": [
       "<div>\n",
       "<style scoped>\n",
       "    .dataframe tbody tr th:only-of-type {\n",
       "        vertical-align: middle;\n",
       "    }\n",
       "\n",
       "    .dataframe tbody tr th {\n",
       "        vertical-align: top;\n",
       "    }\n",
       "\n",
       "    .dataframe thead th {\n",
       "        text-align: right;\n",
       "    }\n",
       "</style>\n",
       "<table border=\"1\" class=\"dataframe\">\n",
       "  <thead>\n",
       "    <tr style=\"text-align: right;\">\n",
       "      <th></th>\n",
       "      <th>START_DATE</th>\n",
       "      <th>END_DATE</th>\n",
       "      <th>CAT</th>\n",
       "      <th>START</th>\n",
       "      <th>STOP</th>\n",
       "      <th>MILES</th>\n",
       "      <th>PURPOSE</th>\n",
       "    </tr>\n",
       "  </thead>\n",
       "  <tbody>\n",
       "    <tr>\n",
       "      <th>0</th>\n",
       "      <td>1/1/2016 21:11</td>\n",
       "      <td>1/1/2016 21:17</td>\n",
       "      <td>Business</td>\n",
       "      <td>Fort Pierce</td>\n",
       "      <td>Fort Pierce</td>\n",
       "      <td>5.1</td>\n",
       "      <td>Meal/Entertain</td>\n",
       "    </tr>\n",
       "    <tr>\n",
       "      <th>1</th>\n",
       "      <td>1/2/2016 1:25</td>\n",
       "      <td>1/2/2016 1:37</td>\n",
       "      <td>Business</td>\n",
       "      <td>Fort Pierce</td>\n",
       "      <td>Fort Pierce</td>\n",
       "      <td>5.0</td>\n",
       "      <td>NaN</td>\n",
       "    </tr>\n",
       "    <tr>\n",
       "      <th>2</th>\n",
       "      <td>1/2/2016 20:25</td>\n",
       "      <td>1/2/2016 20:38</td>\n",
       "      <td>Business</td>\n",
       "      <td>Fort Pierce</td>\n",
       "      <td>Fort Pierce</td>\n",
       "      <td>4.8</td>\n",
       "      <td>Errand/Supplies</td>\n",
       "    </tr>\n",
       "  </tbody>\n",
       "</table>\n",
       "</div>"
      ],
      "text/plain": [
       "       START_DATE        END_DATE       CAT        START         STOP  MILES  \\\n",
       "0  1/1/2016 21:11  1/1/2016 21:17  Business  Fort Pierce  Fort Pierce    5.1   \n",
       "1   1/2/2016 1:25   1/2/2016 1:37  Business  Fort Pierce  Fort Pierce    5.0   \n",
       "2  1/2/2016 20:25  1/2/2016 20:38  Business  Fort Pierce  Fort Pierce    4.8   \n",
       "\n",
       "           PURPOSE  \n",
       "0   Meal/Entertain  \n",
       "1              NaN  \n",
       "2  Errand/Supplies  "
      ]
     },
     "execution_count": 45,
     "metadata": {},
     "output_type": "execute_result"
    }
   ],
   "source": [
    "df.head(3)"
   ]
  },
  {
   "cell_type": "markdown",
   "metadata": {
    "colab_type": "text",
    "id": "CjhnJToS73v-"
   },
   "source": [
    "We will be using the datetime module (  https://docs.python.org/3/library/datetime.html  )\n",
    "\n",
    "Search for \"strftime() and strptime() Format Codes\" in the documentation page"
   ]
  },
  {
   "cell_type": "code",
   "execution_count": 46,
   "metadata": {
    "colab": {
     "base_uri": "https://localhost:8080/",
     "height": 153
    },
    "colab_type": "code",
    "id": "x73FrX-C73v_",
    "outputId": "7b0313d5-db44-4770-bb5d-328d79608930"
   },
   "outputs": [
    {
     "data": {
      "text/plain": [
       "START_DATE     object\n",
       "END_DATE       object\n",
       "CAT            object\n",
       "START          object\n",
       "STOP           object\n",
       "MILES         float64\n",
       "PURPOSE        object\n",
       "dtype: object"
      ]
     },
     "execution_count": 46,
     "metadata": {},
     "output_type": "execute_result"
    }
   ],
   "source": [
    "df.dtypes"
   ]
  },
  {
   "cell_type": "code",
   "execution_count": 47,
   "metadata": {
    "colab": {},
    "colab_type": "code",
    "id": "0wu_rDvC73wB"
   },
   "outputs": [],
   "source": [
    "# Create columns by converting the start and end date into a datatime format\n",
    "# You can also over write the same column - but for the sake of understanding the difference in formats, we create new columns\n",
    "\n",
    "from datetime import datetime                             # Import datetime library\n",
    "df['start_dt'] = df['START_DATE'].apply(lambda x : datetime.strptime(x, '%m/%d/%Y %H:%M'))\n",
    "df['end_dt'] = df['END_DATE'].apply(lambda x : datetime.strptime(x, '%m/%d/%Y %H:%M'))"
   ]
  },
  {
   "cell_type": "code",
   "execution_count": 48,
   "metadata": {
    "colab": {
     "base_uri": "https://localhost:8080/",
     "height": 204
    },
    "colab_type": "code",
    "id": "mzEZTrdZ73wD",
    "outputId": "2b1424da-4c94-42c6-a5b1-4d89bc851c69"
   },
   "outputs": [
    {
     "data": {
      "text/html": [
       "<div>\n",
       "<style scoped>\n",
       "    .dataframe tbody tr th:only-of-type {\n",
       "        vertical-align: middle;\n",
       "    }\n",
       "\n",
       "    .dataframe tbody tr th {\n",
       "        vertical-align: top;\n",
       "    }\n",
       "\n",
       "    .dataframe thead th {\n",
       "        text-align: right;\n",
       "    }\n",
       "</style>\n",
       "<table border=\"1\" class=\"dataframe\">\n",
       "  <thead>\n",
       "    <tr style=\"text-align: right;\">\n",
       "      <th></th>\n",
       "      <th>START_DATE</th>\n",
       "      <th>END_DATE</th>\n",
       "      <th>CAT</th>\n",
       "      <th>START</th>\n",
       "      <th>STOP</th>\n",
       "      <th>MILES</th>\n",
       "      <th>PURPOSE</th>\n",
       "      <th>start_dt</th>\n",
       "      <th>end_dt</th>\n",
       "    </tr>\n",
       "  </thead>\n",
       "  <tbody>\n",
       "    <tr>\n",
       "      <th>0</th>\n",
       "      <td>1/1/2016 21:11</td>\n",
       "      <td>1/1/2016 21:17</td>\n",
       "      <td>Business</td>\n",
       "      <td>Fort Pierce</td>\n",
       "      <td>Fort Pierce</td>\n",
       "      <td>5.1</td>\n",
       "      <td>Meal/Entertain</td>\n",
       "      <td>2016-01-01 21:11:00</td>\n",
       "      <td>2016-01-01 21:17:00</td>\n",
       "    </tr>\n",
       "    <tr>\n",
       "      <th>1</th>\n",
       "      <td>1/2/2016 1:25</td>\n",
       "      <td>1/2/2016 1:37</td>\n",
       "      <td>Business</td>\n",
       "      <td>Fort Pierce</td>\n",
       "      <td>Fort Pierce</td>\n",
       "      <td>5.0</td>\n",
       "      <td>NaN</td>\n",
       "      <td>2016-01-02 01:25:00</td>\n",
       "      <td>2016-01-02 01:37:00</td>\n",
       "    </tr>\n",
       "    <tr>\n",
       "      <th>2</th>\n",
       "      <td>1/2/2016 20:25</td>\n",
       "      <td>1/2/2016 20:38</td>\n",
       "      <td>Business</td>\n",
       "      <td>Fort Pierce</td>\n",
       "      <td>Fort Pierce</td>\n",
       "      <td>4.8</td>\n",
       "      <td>Errand/Supplies</td>\n",
       "      <td>2016-01-02 20:25:00</td>\n",
       "      <td>2016-01-02 20:38:00</td>\n",
       "    </tr>\n",
       "    <tr>\n",
       "      <th>3</th>\n",
       "      <td>1/5/2016 17:31</td>\n",
       "      <td>1/5/2016 17:45</td>\n",
       "      <td>Business</td>\n",
       "      <td>Fort Pierce</td>\n",
       "      <td>Fort Pierce</td>\n",
       "      <td>4.7</td>\n",
       "      <td>Meeting</td>\n",
       "      <td>2016-01-05 17:31:00</td>\n",
       "      <td>2016-01-05 17:45:00</td>\n",
       "    </tr>\n",
       "    <tr>\n",
       "      <th>4</th>\n",
       "      <td>1/6/2016 14:42</td>\n",
       "      <td>1/6/2016 15:49</td>\n",
       "      <td>Business</td>\n",
       "      <td>Fort Pierce</td>\n",
       "      <td>West Palm Beach</td>\n",
       "      <td>63.7</td>\n",
       "      <td>Customer Visit</td>\n",
       "      <td>2016-01-06 14:42:00</td>\n",
       "      <td>2016-01-06 15:49:00</td>\n",
       "    </tr>\n",
       "  </tbody>\n",
       "</table>\n",
       "</div>"
      ],
      "text/plain": [
       "       START_DATE        END_DATE       CAT        START             STOP  \\\n",
       "0  1/1/2016 21:11  1/1/2016 21:17  Business  Fort Pierce      Fort Pierce   \n",
       "1   1/2/2016 1:25   1/2/2016 1:37  Business  Fort Pierce      Fort Pierce   \n",
       "2  1/2/2016 20:25  1/2/2016 20:38  Business  Fort Pierce      Fort Pierce   \n",
       "3  1/5/2016 17:31  1/5/2016 17:45  Business  Fort Pierce      Fort Pierce   \n",
       "4  1/6/2016 14:42  1/6/2016 15:49  Business  Fort Pierce  West Palm Beach   \n",
       "\n",
       "   MILES          PURPOSE            start_dt              end_dt  \n",
       "0    5.1   Meal/Entertain 2016-01-01 21:11:00 2016-01-01 21:17:00  \n",
       "1    5.0              NaN 2016-01-02 01:25:00 2016-01-02 01:37:00  \n",
       "2    4.8  Errand/Supplies 2016-01-02 20:25:00 2016-01-02 20:38:00  \n",
       "3    4.7          Meeting 2016-01-05 17:31:00 2016-01-05 17:45:00  \n",
       "4   63.7   Customer Visit 2016-01-06 14:42:00 2016-01-06 15:49:00  "
      ]
     },
     "execution_count": 48,
     "metadata": {},
     "output_type": "execute_result"
    }
   ],
   "source": [
    "df.head()             # Print first 5 rows of data."
   ]
  },
  {
   "cell_type": "code",
   "execution_count": 49,
   "metadata": {
    "colab": {
     "base_uri": "https://localhost:8080/",
     "height": 187
    },
    "colab_type": "code",
    "id": "-ViyTibxKhM-",
    "outputId": "4a2a4e57-c58a-491d-dc6d-16c083d29cda"
   },
   "outputs": [
    {
     "data": {
      "text/plain": [
       "START_DATE            object\n",
       "END_DATE              object\n",
       "CAT                   object\n",
       "START                 object\n",
       "STOP                  object\n",
       "MILES                float64\n",
       "PURPOSE               object\n",
       "start_dt      datetime64[ns]\n",
       "end_dt        datetime64[ns]\n",
       "dtype: object"
      ]
     },
     "execution_count": 49,
     "metadata": {},
     "output_type": "execute_result"
    }
   ],
   "source": [
    "df.dtypes             # See how the dtype is different"
   ]
  },
  {
   "cell_type": "code",
   "execution_count": 50,
   "metadata": {
    "colab": {},
    "colab_type": "code",
    "id": "BUjYhgB173wH"
   },
   "outputs": [],
   "source": [
    "#Create more columns by using the inbuilt functionalities of datatime module\n",
    "\n",
    "df['start_day'] = df['start_dt'].dt.day\n",
    "df['start_hour'] = df['start_dt'].dt.hour\n",
    "df['start_month'] = df['start_dt'].dt.month\n",
    "df['d_of_wk'] = df['start_dt'].dt.dayofweek   # Days encoded as 0-6  ( monday =0, Tue =1 .... )"
   ]
  },
  {
   "cell_type": "code",
   "execution_count": 51,
   "metadata": {
    "colab": {},
    "colab_type": "code",
    "id": "ZPsOvrKm73wL"
   },
   "outputs": [],
   "source": [
    "# You can convert the numeric encoding of weekdays into short form by manually writing the mapping \n",
    "# days = {0:'Mon',1:'Tue',2:'Wed',3:'Thur',4:'Fri',5:'Sat',6:'Sun'}\n",
    "# df['day_of_week'] = df['day_of_week'].apply(lambda x: days[x])\n",
    "\n",
    "#or use the builtin functions \n",
    "\n",
    "df['weekday'] = df['start_dt'].apply(lambda x : datetime.strftime(x,'%a'))  # ( or directly convert into the short form)"
   ]
  },
  {
   "cell_type": "code",
   "execution_count": 52,
   "metadata": {
    "colab": {},
    "colab_type": "code",
    "id": "L-Ehy-L873wM"
   },
   "outputs": [],
   "source": [
    "# Similarly you can use the calendar library to get the month abbreviation \n",
    "\n",
    "#import calendar\n",
    "#df['start_month_cal'] = df['start_month'].apply(lambda x: calendar.month_abbr[x])\n",
    "\n",
    "# or \n",
    "# use the built in functions in datatime module\n",
    "df['cal_month'] =  df['start_dt'].apply(lambda x : datetime.strftime(x,'%b'))"
   ]
  },
  {
   "cell_type": "code",
   "execution_count": 53,
   "metadata": {
    "colab": {
     "base_uri": "https://localhost:8080/",
     "height": 306
    },
    "colab_type": "code",
    "id": "iCotg9pf73wQ",
    "outputId": "8ae77514-2d3c-4124-e4c6-35adf66c6aee"
   },
   "outputs": [
    {
     "data": {
      "text/html": [
       "<div>\n",
       "<style scoped>\n",
       "    .dataframe tbody tr th:only-of-type {\n",
       "        vertical-align: middle;\n",
       "    }\n",
       "\n",
       "    .dataframe tbody tr th {\n",
       "        vertical-align: top;\n",
       "    }\n",
       "\n",
       "    .dataframe thead th {\n",
       "        text-align: right;\n",
       "    }\n",
       "</style>\n",
       "<table border=\"1\" class=\"dataframe\">\n",
       "  <thead>\n",
       "    <tr style=\"text-align: right;\">\n",
       "      <th></th>\n",
       "      <th>START_DATE</th>\n",
       "      <th>END_DATE</th>\n",
       "      <th>CAT</th>\n",
       "      <th>START</th>\n",
       "      <th>STOP</th>\n",
       "      <th>MILES</th>\n",
       "      <th>PURPOSE</th>\n",
       "      <th>start_dt</th>\n",
       "      <th>end_dt</th>\n",
       "      <th>start_day</th>\n",
       "      <th>start_hour</th>\n",
       "      <th>start_month</th>\n",
       "      <th>d_of_wk</th>\n",
       "      <th>weekday</th>\n",
       "      <th>cal_month</th>\n",
       "    </tr>\n",
       "  </thead>\n",
       "  <tbody>\n",
       "    <tr>\n",
       "      <th>0</th>\n",
       "      <td>1/1/2016 21:11</td>\n",
       "      <td>1/1/2016 21:17</td>\n",
       "      <td>Business</td>\n",
       "      <td>Fort Pierce</td>\n",
       "      <td>Fort Pierce</td>\n",
       "      <td>5.1</td>\n",
       "      <td>Meal/Entertain</td>\n",
       "      <td>2016-01-01 21:11:00</td>\n",
       "      <td>2016-01-01 21:17:00</td>\n",
       "      <td>1</td>\n",
       "      <td>21</td>\n",
       "      <td>1</td>\n",
       "      <td>4</td>\n",
       "      <td>Fri</td>\n",
       "      <td>Jan</td>\n",
       "    </tr>\n",
       "    <tr>\n",
       "      <th>1</th>\n",
       "      <td>1/2/2016 1:25</td>\n",
       "      <td>1/2/2016 1:37</td>\n",
       "      <td>Business</td>\n",
       "      <td>Fort Pierce</td>\n",
       "      <td>Fort Pierce</td>\n",
       "      <td>5.0</td>\n",
       "      <td>NaN</td>\n",
       "      <td>2016-01-02 01:25:00</td>\n",
       "      <td>2016-01-02 01:37:00</td>\n",
       "      <td>2</td>\n",
       "      <td>1</td>\n",
       "      <td>1</td>\n",
       "      <td>5</td>\n",
       "      <td>Sat</td>\n",
       "      <td>Jan</td>\n",
       "    </tr>\n",
       "    <tr>\n",
       "      <th>2</th>\n",
       "      <td>1/2/2016 20:25</td>\n",
       "      <td>1/2/2016 20:38</td>\n",
       "      <td>Business</td>\n",
       "      <td>Fort Pierce</td>\n",
       "      <td>Fort Pierce</td>\n",
       "      <td>4.8</td>\n",
       "      <td>Errand/Supplies</td>\n",
       "      <td>2016-01-02 20:25:00</td>\n",
       "      <td>2016-01-02 20:38:00</td>\n",
       "      <td>2</td>\n",
       "      <td>20</td>\n",
       "      <td>1</td>\n",
       "      <td>5</td>\n",
       "      <td>Sat</td>\n",
       "      <td>Jan</td>\n",
       "    </tr>\n",
       "    <tr>\n",
       "      <th>3</th>\n",
       "      <td>1/5/2016 17:31</td>\n",
       "      <td>1/5/2016 17:45</td>\n",
       "      <td>Business</td>\n",
       "      <td>Fort Pierce</td>\n",
       "      <td>Fort Pierce</td>\n",
       "      <td>4.7</td>\n",
       "      <td>Meeting</td>\n",
       "      <td>2016-01-05 17:31:00</td>\n",
       "      <td>2016-01-05 17:45:00</td>\n",
       "      <td>5</td>\n",
       "      <td>17</td>\n",
       "      <td>1</td>\n",
       "      <td>1</td>\n",
       "      <td>Tue</td>\n",
       "      <td>Jan</td>\n",
       "    </tr>\n",
       "    <tr>\n",
       "      <th>4</th>\n",
       "      <td>1/6/2016 14:42</td>\n",
       "      <td>1/6/2016 15:49</td>\n",
       "      <td>Business</td>\n",
       "      <td>Fort Pierce</td>\n",
       "      <td>West Palm Beach</td>\n",
       "      <td>63.7</td>\n",
       "      <td>Customer Visit</td>\n",
       "      <td>2016-01-06 14:42:00</td>\n",
       "      <td>2016-01-06 15:49:00</td>\n",
       "      <td>6</td>\n",
       "      <td>14</td>\n",
       "      <td>1</td>\n",
       "      <td>2</td>\n",
       "      <td>Wed</td>\n",
       "      <td>Jan</td>\n",
       "    </tr>\n",
       "  </tbody>\n",
       "</table>\n",
       "</div>"
      ],
      "text/plain": [
       "       START_DATE        END_DATE       CAT        START             STOP  \\\n",
       "0  1/1/2016 21:11  1/1/2016 21:17  Business  Fort Pierce      Fort Pierce   \n",
       "1   1/2/2016 1:25   1/2/2016 1:37  Business  Fort Pierce      Fort Pierce   \n",
       "2  1/2/2016 20:25  1/2/2016 20:38  Business  Fort Pierce      Fort Pierce   \n",
       "3  1/5/2016 17:31  1/5/2016 17:45  Business  Fort Pierce      Fort Pierce   \n",
       "4  1/6/2016 14:42  1/6/2016 15:49  Business  Fort Pierce  West Palm Beach   \n",
       "\n",
       "   MILES          PURPOSE            start_dt              end_dt  start_day  \\\n",
       "0    5.1   Meal/Entertain 2016-01-01 21:11:00 2016-01-01 21:17:00          1   \n",
       "1    5.0              NaN 2016-01-02 01:25:00 2016-01-02 01:37:00          2   \n",
       "2    4.8  Errand/Supplies 2016-01-02 20:25:00 2016-01-02 20:38:00          2   \n",
       "3    4.7          Meeting 2016-01-05 17:31:00 2016-01-05 17:45:00          5   \n",
       "4   63.7   Customer Visit 2016-01-06 14:42:00 2016-01-06 15:49:00          6   \n",
       "\n",
       "   start_hour  start_month  d_of_wk weekday cal_month  \n",
       "0          21            1        4     Fri       Jan  \n",
       "1           1            1        5     Sat       Jan  \n",
       "2          20            1        5     Sat       Jan  \n",
       "3          17            1        1     Tue       Jan  \n",
       "4          14            1        2     Wed       Jan  "
      ]
     },
     "execution_count": 53,
     "metadata": {},
     "output_type": "execute_result"
    }
   ],
   "source": [
    "df.head()"
   ]
  },
  {
   "cell_type": "code",
   "execution_count": 54,
   "metadata": {
    "colab": {
     "base_uri": "https://localhost:8080/",
     "height": 255
    },
    "colab_type": "code",
    "id": "m7RjxMzs73wT",
    "outputId": "87b2f6c4-a052-4f1f-9c14-da2f3082a346"
   },
   "outputs": [
    {
     "data": {
      "text/plain": [
       "start_month\n",
       "1      61\n",
       "2     115\n",
       "3     113\n",
       "4      54\n",
       "5      49\n",
       "6     108\n",
       "7     112\n",
       "8     133\n",
       "9      36\n",
       "10    106\n",
       "11    122\n",
       "12    146\n",
       "dtype: int64"
      ]
     },
     "execution_count": 54,
     "metadata": {},
     "output_type": "execute_result"
    }
   ],
   "source": [
    "# Which month did he get most drives? \n",
    "df.groupby(['start_month']).size()             # Group by the month"
   ]
  },
  {
   "cell_type": "code",
   "execution_count": 55,
   "metadata": {
    "colab": {
     "base_uri": "https://localhost:8080/",
     "height": 255
    },
    "colab_type": "code",
    "id": "GRUKjqys73wW",
    "outputId": "14007238-5e80-4163-d1d2-4fa15af65a78"
   },
   "outputs": [
    {
     "data": {
      "text/plain": [
       "cal_month\n",
       "Oct    1810.0\n",
       "Mar    1693.9\n",
       "Aug    1335.5\n",
       "Jul    1224.6\n",
       "Apr    1113.0\n",
       "Dec     981.3\n",
       "Feb     908.2\n",
       "Jun     842.8\n",
       "Nov     816.9\n",
       "Sep     601.8\n",
       "Jan     512.9\n",
       "May     363.8\n",
       "Name: MILES, dtype: float64"
      ]
     },
     "execution_count": 55,
     "metadata": {},
     "output_type": "execute_result"
    }
   ],
   "source": [
    "df.groupby('cal_month').sum()['MILES'].sort_values(ascending = False)           "
   ]
  },
  {
   "cell_type": "code",
   "execution_count": 56,
   "metadata": {
    "colab": {
     "base_uri": "https://localhost:8080/",
     "height": 255
    },
    "colab_type": "code",
    "id": "gJ1DZpbE73wY",
    "outputId": "add57063-ef63-4e8f-9816-fe876ee1551a"
   },
   "outputs": [
    {
     "data": {
      "text/plain": [
       "cal_month\n",
       "Apr    20.611111\n",
       "Oct    17.075472\n",
       "Sep    16.716667\n",
       "Mar    14.990265\n",
       "Jul    10.933929\n",
       "Aug    10.041353\n",
       "Jan     8.408197\n",
       "Feb     7.897391\n",
       "Jun     7.803704\n",
       "May     7.424490\n",
       "Dec     6.721233\n",
       "Nov     6.695902\n",
       "Name: MILES, dtype: float64"
      ]
     },
     "execution_count": 56,
     "metadata": {},
     "output_type": "execute_result"
    }
   ],
   "source": [
    "# Getting the average distance covered each month\n",
    "df.groupby('cal_month').mean()['MILES'].sort_values(ascending = False)"
   ]
  },
  {
   "cell_type": "code",
   "execution_count": 57,
   "metadata": {
    "colab": {},
    "colab_type": "code",
    "id": "IVrC73Ki73wa"
   },
   "outputs": [],
   "source": [
    "# Write your inferences here based on the last 3 outputs "
   ]
  },
  {
   "cell_type": "code",
   "execution_count": 58,
   "metadata": {
    "colab": {
     "base_uri": "https://localhost:8080/",
     "height": 170
    },
    "colab_type": "code",
    "id": "UHWuwGBw73wb",
    "outputId": "d91d9d1e-32b6-4f91-ff68-13642d5ef10b"
   },
   "outputs": [
    {
     "data": {
      "text/plain": [
       "weekday\n",
       "Fri    206\n",
       "Mon    174\n",
       "Sat    150\n",
       "Sun    148\n",
       "Thu    154\n",
       "Tue    176\n",
       "Wed    147\n",
       "dtype: int64"
      ]
     },
     "execution_count": 58,
     "metadata": {},
     "output_type": "execute_result"
    }
   ],
   "source": [
    "# Which day did he get most drives? \n",
    "df.groupby(['weekday']).size()  "
   ]
  },
  {
   "cell_type": "markdown",
   "metadata": {
    "colab_type": "text",
    "id": "myRVUvO073we"
   },
   "source": [
    "**When does he usually start the trip ?**"
   ]
  },
  {
   "cell_type": "code",
   "execution_count": 59,
   "metadata": {
    "colab": {
     "base_uri": "https://localhost:8080/",
     "height": 442
    },
    "colab_type": "code",
    "id": "rkesjjDV73we",
    "outputId": "bb940da3-1050-4c6e-c1ad-6af72e6fa2cf"
   },
   "outputs": [
    {
     "data": {
      "text/plain": [
       "start_hour\n",
       "0     19\n",
       "1      5\n",
       "2      2\n",
       "3      3\n",
       "5      4\n",
       "6      4\n",
       "7     13\n",
       "8     35\n",
       "9     51\n",
       "10    65\n",
       "11    72\n",
       "12    77\n",
       "13    94\n",
       "14    89\n",
       "15    98\n",
       "16    88\n",
       "17    95\n",
       "18    94\n",
       "19    68\n",
       "20    71\n",
       "21    51\n",
       "22    31\n",
       "23    26\n",
       "dtype: int64"
      ]
     },
     "execution_count": 59,
     "metadata": {},
     "output_type": "execute_result"
    }
   ],
   "source": [
    "df.groupby('start_hour').size()              # The number of trips started for each hour."
   ]
  },
  {
   "cell_type": "markdown",
   "metadata": {
    "colab_type": "text",
    "id": "iY9t7tHK73wg"
   },
   "source": [
    "This looks like an interesting data \n",
    "\n",
    "Does he have a prefered time of start ?"
   ]
  },
  {
   "cell_type": "code",
   "execution_count": 60,
   "metadata": {
    "colab": {},
    "colab_type": "code",
    "id": "Bg85_O0R73wg"
   },
   "outputs": [],
   "source": [
    "df['start_hour'] = df['start_dt'].dt.hour"
   ]
  },
  {
   "cell_type": "code",
   "execution_count": 61,
   "metadata": {
    "colab": {
     "base_uri": "https://localhost:8080/",
     "height": 301
    },
    "colab_type": "code",
    "id": "vAdlHvax73wj",
    "outputId": "9a4025bd-b9a6-4c79-a145-e06b343a7685"
   },
   "outputs": [
    {
     "data": {
      "text/plain": [
       "<matplotlib.axes._subplots.AxesSubplot at 0x1beda5aa160>"
      ]
     },
     "execution_count": 61,
     "metadata": {},
     "output_type": "execute_result"
    },
    {
     "data": {
      "image/png": "[encoded data removed]",
      "text/plain": [
       "<Figure size 432x288 with 1 Axes>"
      ]
     },
     "metadata": {
      "needs_background": "light"
     },
     "output_type": "display_data"
    }
   ],
   "source": [
    "df_hrs = df.groupby('start_hour').size()\n",
    "df_hrs = df_hrs.reset_index()\n",
    "df_hrs.columns = ['start_hour' ,'count']\n",
    "sns.barplot(data= df_hrs , x ='start_hour' , y = 'count')"
   ]
  },
  {
   "cell_type": "markdown",
   "metadata": {
    "colab_type": "text",
    "id": "7PbJ6UPj73wo"
   },
   "source": [
    "Looks like the driver mostly starts the trip around 9-10 and the peak hours seem to be between 12- 5 PM "
   ]
  },
  {
   "cell_type": "markdown",
   "metadata": {
    "colab_type": "text",
    "id": "P8KaeCCv73wo"
   },
   "source": [
    "Duration of the trips "
   ]
  },
  {
   "cell_type": "code",
   "execution_count": 62,
   "metadata": {
    "colab": {},
    "colab_type": "code",
    "id": "w9f_7Toz73wp"
   },
   "outputs": [],
   "source": [
    "df['diff'] = (df['end_dt'] - df['start_dt'])"
   ]
  },
  {
   "cell_type": "code",
   "execution_count": 63,
   "metadata": {
    "colab": {
     "base_uri": "https://localhost:8080/",
     "height": 306
    },
    "colab_type": "code",
    "id": "YWD97hZ173wr",
    "outputId": "8b5786e5-57f3-4348-997d-b84be5dad9e2"
   },
   "outputs": [
    {
     "data": {
      "text/plain": [
       "START_DATE              object\n",
       "END_DATE                object\n",
       "CAT                     object\n",
       "START                   object\n",
       "STOP                    object\n",
       "MILES                  float64\n",
       "PURPOSE                 object\n",
       "start_dt        datetime64[ns]\n",
       "end_dt          datetime64[ns]\n",
       "start_day                int64\n",
       "start_hour               int64\n",
       "start_month              int64\n",
       "d_of_wk                  int64\n",
       "weekday                 object\n",
       "cal_month               object\n",
       "diff           timedelta64[ns]\n",
       "dtype: object"
      ]
     },
     "execution_count": 63,
     "metadata": {},
     "output_type": "execute_result"
    }
   ],
   "source": [
    "df.dtypes"
   ]
  },
  {
   "cell_type": "markdown",
   "metadata": {
    "colab_type": "text",
    "id": "KRW20r1S73wt"
   },
   "source": [
    "This creates a timedelta datatype"
   ]
  },
  {
   "cell_type": "markdown",
   "metadata": {
    "colab_type": "text",
    "id": "2k5fjAge73wt"
   },
   "source": [
    "How long did the trips last "
   ]
  },
  {
   "cell_type": "code",
   "execution_count": 64,
   "metadata": {
    "colab": {},
    "colab_type": "code",
    "id": "5Wud4jp673wu"
   },
   "outputs": [],
   "source": [
    "df['diff_hr'] = df['diff'].astype('timedelta64[h]')"
   ]
  },
  {
   "cell_type": "markdown",
   "metadata": {
    "colab_type": "text",
    "id": "WLH7zHmN73wv"
   },
   "source": [
    "Find the date time units in  https://docs.scipy.org/doc/numpy/reference/arrays.datetime.html\n",
    "\n",
    "search for 'Datetime Units'"
   ]
  },
  {
   "cell_type": "code",
   "execution_count": 65,
   "metadata": {
    "colab": {
     "base_uri": "https://localhost:8080/",
     "height": 170
    },
    "colab_type": "code",
    "id": "0XYaEBII73wv",
    "outputId": "1312552a-a9ee-4f82-b6b3-96f9a7639a65"
   },
   "outputs": [
    {
     "data": {
      "text/plain": [
       "count                      1155\n",
       "mean     0 days 00:23:14.597402\n",
       "std      0 days 00:27:19.096606\n",
       "min             0 days 00:00:00\n",
       "25%             0 days 00:10:00\n",
       "50%             0 days 00:16:00\n",
       "75%             0 days 00:27:30\n",
       "max             0 days 05:36:00\n",
       "Name: diff, dtype: object"
      ]
     },
     "execution_count": 65,
     "metadata": {},
     "output_type": "execute_result"
    }
   ],
   "source": [
    "df['diff'].describe()"
   ]
  },
  {
   "cell_type": "code",
   "execution_count": 66,
   "metadata": {
    "colab": {},
    "colab_type": "code",
    "id": "8iZm0geM73wx"
   },
   "outputs": [],
   "source": [
    "# View in terms of minutes \n",
    "df['diff_mins'] = df['diff'].astype('timedelta64[m]')"
   ]
  },
  {
   "cell_type": "code",
   "execution_count": 67,
   "metadata": {
    "colab": {
     "base_uri": "https://localhost:8080/",
     "height": 170
    },
    "colab_type": "code",
    "id": "f_pAQrIN73wy",
    "outputId": "3a4bd88f-88a7-4fa7-9e0b-a7fae80caaa4"
   },
   "outputs": [
    {
     "data": {
      "text/plain": [
       "count    1155.000000\n",
       "mean       23.243290\n",
       "std        27.318277\n",
       "min         0.000000\n",
       "25%        10.000000\n",
       "50%        16.000000\n",
       "75%        27.500000\n",
       "max       336.000000\n",
       "Name: diff_mins, dtype: float64"
      ]
     },
     "execution_count": 67,
     "metadata": {},
     "output_type": "execute_result"
    }
   ],
   "source": [
    "df['diff_mins'].describe()"
   ]
  },
  {
   "cell_type": "markdown",
   "metadata": {
    "colab_type": "text",
    "id": "aag6csW273w1"
   },
   "source": [
    "There seems to be somethin strange with the minumum time ( in minutes ) - it is 0 "
   ]
  },
  {
   "cell_type": "code",
   "execution_count": 68,
   "metadata": {
    "colab": {
     "base_uri": "https://localhost:8080/",
     "height": 329
    },
    "colab_type": "code",
    "id": "e4fzVtcY73w1",
    "outputId": "3085e0e8-a370-4128-ccd7-55392a38ef00"
   },
   "outputs": [
    {
     "data": {
      "text/html": [
       "<div>\n",
       "<style scoped>\n",
       "    .dataframe tbody tr th:only-of-type {\n",
       "        vertical-align: middle;\n",
       "    }\n",
       "\n",
       "    .dataframe tbody tr th {\n",
       "        vertical-align: top;\n",
       "    }\n",
       "\n",
       "    .dataframe thead th {\n",
       "        text-align: right;\n",
       "    }\n",
       "</style>\n",
       "<table border=\"1\" class=\"dataframe\">\n",
       "  <thead>\n",
       "    <tr style=\"text-align: right;\">\n",
       "      <th></th>\n",
       "      <th>START_DATE</th>\n",
       "      <th>END_DATE</th>\n",
       "      <th>CAT</th>\n",
       "      <th>START</th>\n",
       "      <th>STOP</th>\n",
       "      <th>MILES</th>\n",
       "      <th>PURPOSE</th>\n",
       "      <th>start_dt</th>\n",
       "      <th>end_dt</th>\n",
       "      <th>start_day</th>\n",
       "      <th>start_hour</th>\n",
       "      <th>start_month</th>\n",
       "      <th>d_of_wk</th>\n",
       "      <th>weekday</th>\n",
       "      <th>cal_month</th>\n",
       "      <th>diff</th>\n",
       "      <th>diff_hr</th>\n",
       "      <th>diff_mins</th>\n",
       "    </tr>\n",
       "  </thead>\n",
       "  <tbody>\n",
       "    <tr>\n",
       "      <th>751</th>\n",
       "      <td>9/6/2016 17:49</td>\n",
       "      <td>9/6/2016 17:49</td>\n",
       "      <td>Business</td>\n",
       "      <td>Unknown Location</td>\n",
       "      <td>Unknown Location</td>\n",
       "      <td>69.1</td>\n",
       "      <td>NaN</td>\n",
       "      <td>2016-09-06 17:49:00</td>\n",
       "      <td>2016-09-06 17:49:00</td>\n",
       "      <td>6</td>\n",
       "      <td>17</td>\n",
       "      <td>9</td>\n",
       "      <td>1</td>\n",
       "      <td>Tue</td>\n",
       "      <td>Sep</td>\n",
       "      <td>0 days</td>\n",
       "      <td>0.0</td>\n",
       "      <td>0.0</td>\n",
       "    </tr>\n",
       "    <tr>\n",
       "      <th>761</th>\n",
       "      <td>9/16/2016 7:08</td>\n",
       "      <td>9/16/2016 7:08</td>\n",
       "      <td>Business</td>\n",
       "      <td>Unknown Location</td>\n",
       "      <td>Unknown Location</td>\n",
       "      <td>1.6</td>\n",
       "      <td>NaN</td>\n",
       "      <td>2016-09-16 07:08:00</td>\n",
       "      <td>2016-09-16 07:08:00</td>\n",
       "      <td>16</td>\n",
       "      <td>7</td>\n",
       "      <td>9</td>\n",
       "      <td>4</td>\n",
       "      <td>Fri</td>\n",
       "      <td>Sep</td>\n",
       "      <td>0 days</td>\n",
       "      <td>0.0</td>\n",
       "      <td>0.0</td>\n",
       "    </tr>\n",
       "    <tr>\n",
       "      <th>798</th>\n",
       "      <td>10/8/2016 15:03</td>\n",
       "      <td>10/8/2016 15:03</td>\n",
       "      <td>Business</td>\n",
       "      <td>Karachi</td>\n",
       "      <td>Karachi</td>\n",
       "      <td>3.6</td>\n",
       "      <td>NaN</td>\n",
       "      <td>2016-10-08 15:03:00</td>\n",
       "      <td>2016-10-08 15:03:00</td>\n",
       "      <td>8</td>\n",
       "      <td>15</td>\n",
       "      <td>10</td>\n",
       "      <td>5</td>\n",
       "      <td>Sat</td>\n",
       "      <td>Oct</td>\n",
       "      <td>0 days</td>\n",
       "      <td>0.0</td>\n",
       "      <td>0.0</td>\n",
       "    </tr>\n",
       "    <tr>\n",
       "      <th>807</th>\n",
       "      <td>10/13/2016 13:02</td>\n",
       "      <td>10/13/2016 13:02</td>\n",
       "      <td>Business</td>\n",
       "      <td>Islamabad</td>\n",
       "      <td>Islamabad</td>\n",
       "      <td>0.7</td>\n",
       "      <td>NaN</td>\n",
       "      <td>2016-10-13 13:02:00</td>\n",
       "      <td>2016-10-13 13:02:00</td>\n",
       "      <td>13</td>\n",
       "      <td>13</td>\n",
       "      <td>10</td>\n",
       "      <td>3</td>\n",
       "      <td>Thu</td>\n",
       "      <td>Oct</td>\n",
       "      <td>0 days</td>\n",
       "      <td>0.0</td>\n",
       "      <td>0.0</td>\n",
       "    </tr>\n",
       "  </tbody>\n",
       "</table>\n",
       "</div>"
      ],
      "text/plain": [
       "           START_DATE          END_DATE       CAT             START  \\\n",
       "751    9/6/2016 17:49    9/6/2016 17:49  Business  Unknown Location   \n",
       "761    9/16/2016 7:08    9/16/2016 7:08  Business  Unknown Location   \n",
       "798   10/8/2016 15:03   10/8/2016 15:03  Business           Karachi   \n",
       "807  10/13/2016 13:02  10/13/2016 13:02  Business         Islamabad   \n",
       "\n",
       "                 STOP  MILES PURPOSE            start_dt              end_dt  \\\n",
       "751  Unknown Location   69.1     NaN 2016-09-06 17:49:00 2016-09-06 17:49:00   \n",
       "761  Unknown Location    1.6     NaN 2016-09-16 07:08:00 2016-09-16 07:08:00   \n",
       "798           Karachi    3.6     NaN 2016-10-08 15:03:00 2016-10-08 15:03:00   \n",
       "807         Islamabad    0.7     NaN 2016-10-13 13:02:00 2016-10-13 13:02:00   \n",
       "\n",
       "     start_day  start_hour  start_month  d_of_wk weekday cal_month   diff  \\\n",
       "751          6          17            9        1     Tue       Sep 0 days   \n",
       "761         16           7            9        4     Fri       Sep 0 days   \n",
       "798          8          15           10        5     Sat       Oct 0 days   \n",
       "807         13          13           10        3     Thu       Oct 0 days   \n",
       "\n",
       "     diff_hr  diff_mins  \n",
       "751      0.0        0.0  \n",
       "761      0.0        0.0  \n",
       "798      0.0        0.0  \n",
       "807      0.0        0.0  "
      ]
     },
     "execution_count": 68,
     "metadata": {},
     "output_type": "execute_result"
    }
   ],
   "source": [
    "len(df[df['START_DATE'] == df['END_DATE']])\n",
    "\n",
    "df[df['START_DATE'] == df['END_DATE']]"
   ]
  },
  {
   "cell_type": "markdown",
   "metadata": {
    "colab_type": "text",
    "id": "XcCiFFAp73w3"
   },
   "source": [
    "There are some values where the start and end times are the same - remove them ?"
   ]
  },
  {
   "cell_type": "code",
   "execution_count": 69,
   "metadata": {
    "colab": {
     "base_uri": "https://localhost:8080/",
     "height": 34
    },
    "colab_type": "code",
    "id": "6ELd5QKu73w3",
    "outputId": "897737b8-6d29-4e61-de39-e66fab75c85a"
   },
   "outputs": [
    {
     "data": {
      "text/plain": [
       "944"
      ]
     },
     "execution_count": 69,
     "metadata": {},
     "output_type": "execute_result"
    }
   ],
   "source": [
    "len(df2)"
   ]
  },
  {
   "cell_type": "markdown",
   "metadata": {
    "colab_type": "text",
    "id": "rw4cx0F873w6"
   },
   "source": [
    "## 3. Exploring existing features to create new ones - Speed \n",
    "- Open for all of you to explore and figure out what all can be understood and derived from this feature"
   ]
  },
  {
   "cell_type": "code",
   "execution_count": 70,
   "metadata": {
    "colab": {
     "base_uri": "https://localhost:8080/",
     "height": 170
    },
    "colab_type": "code",
    "id": "zJ99UCa-73w6",
    "outputId": "0a6c49d1-561f-4260-8369-25a68043da7c"
   },
   "outputs": [
    {
     "data": {
      "text/plain": [
       "count    1155.000000\n",
       "mean             inf\n",
       "std              NaN\n",
       "min         3.917355\n",
       "25%        14.888276\n",
       "50%        21.000000\n",
       "75%        28.569805\n",
       "max              inf\n",
       "Name: Speed, dtype: float64"
      ]
     },
     "execution_count": 70,
     "metadata": {},
     "output_type": "execute_result"
    }
   ],
   "source": [
    "# calculate trip speed for each trip\n",
    "df['Duration_hours'] = df['diff_mins'] / 60\n",
    "df['Speed'] = df['MILES'] / df['Duration_hours']\n",
    "df['Speed'].describe()"
   ]
  },
  {
   "cell_type": "markdown",
   "metadata": {
    "colab_type": "text",
    "id": "EbwMhPiE73w7"
   },
   "source": [
    "Remove the ones with unknown location"
   ]
  },
  {
   "cell_type": "code",
   "execution_count": 71,
   "metadata": {
    "colab": {
     "base_uri": "https://localhost:8080/",
     "height": 394
    },
    "colab_type": "code",
    "id": "I1if4eJ973w9",
    "outputId": "7af45dd8-2a97-40a3-b04c-89a779eb0f19"
   },
   "outputs": [
    {
     "data": {
      "text/html": [
       "<div>\n",
       "<style scoped>\n",
       "    .dataframe tbody tr th:only-of-type {\n",
       "        vertical-align: middle;\n",
       "    }\n",
       "\n",
       "    .dataframe tbody tr th {\n",
       "        vertical-align: top;\n",
       "    }\n",
       "\n",
       "    .dataframe thead th {\n",
       "        text-align: right;\n",
       "    }\n",
       "</style>\n",
       "<table border=\"1\" class=\"dataframe\">\n",
       "  <thead>\n",
       "    <tr style=\"text-align: right;\">\n",
       "      <th></th>\n",
       "      <th>START_DATE</th>\n",
       "      <th>END_DATE</th>\n",
       "      <th>CAT</th>\n",
       "      <th>START</th>\n",
       "      <th>STOP</th>\n",
       "      <th>MILES</th>\n",
       "      <th>PURPOSE</th>\n",
       "      <th>start_dt</th>\n",
       "      <th>end_dt</th>\n",
       "      <th>start_day</th>\n",
       "      <th>start_hour</th>\n",
       "      <th>start_month</th>\n",
       "      <th>d_of_wk</th>\n",
       "      <th>weekday</th>\n",
       "      <th>cal_month</th>\n",
       "      <th>diff</th>\n",
       "      <th>diff_hr</th>\n",
       "      <th>diff_mins</th>\n",
       "      <th>Duration_hours</th>\n",
       "      <th>Speed</th>\n",
       "    </tr>\n",
       "  </thead>\n",
       "  <tbody>\n",
       "    <tr>\n",
       "      <th>646</th>\n",
       "      <td>8/10/2016 18:49</td>\n",
       "      <td>8/10/2016 18:50</td>\n",
       "      <td>Business</td>\n",
       "      <td>Apex</td>\n",
       "      <td>Apex</td>\n",
       "      <td>1.0</td>\n",
       "      <td>NaN</td>\n",
       "      <td>2016-08-10 18:49:00</td>\n",
       "      <td>2016-08-10 18:50:00</td>\n",
       "      <td>10</td>\n",
       "      <td>18</td>\n",
       "      <td>8</td>\n",
       "      <td>2</td>\n",
       "      <td>Wed</td>\n",
       "      <td>Aug</td>\n",
       "      <td>00:01:00</td>\n",
       "      <td>0.0</td>\n",
       "      <td>1.0</td>\n",
       "      <td>0.016667</td>\n",
       "      <td>60.0</td>\n",
       "    </tr>\n",
       "    <tr>\n",
       "      <th>786</th>\n",
       "      <td>10/4/2016 12:17</td>\n",
       "      <td>10/4/2016 12:18</td>\n",
       "      <td>Business</td>\n",
       "      <td>Unknown Location</td>\n",
       "      <td>Unknown Location</td>\n",
       "      <td>15.1</td>\n",
       "      <td>NaN</td>\n",
       "      <td>2016-10-04 12:17:00</td>\n",
       "      <td>2016-10-04 12:18:00</td>\n",
       "      <td>4</td>\n",
       "      <td>12</td>\n",
       "      <td>10</td>\n",
       "      <td>1</td>\n",
       "      <td>Tue</td>\n",
       "      <td>Oct</td>\n",
       "      <td>00:01:00</td>\n",
       "      <td>0.0</td>\n",
       "      <td>1.0</td>\n",
       "      <td>0.016667</td>\n",
       "      <td>906.0</td>\n",
       "    </tr>\n",
       "    <tr>\n",
       "      <th>789</th>\n",
       "      <td>10/6/2016 18:37</td>\n",
       "      <td>10/6/2016 18:39</td>\n",
       "      <td>Business</td>\n",
       "      <td>Unknown Location</td>\n",
       "      <td>Unknown Location</td>\n",
       "      <td>18.4</td>\n",
       "      <td>NaN</td>\n",
       "      <td>2016-10-06 18:37:00</td>\n",
       "      <td>2016-10-06 18:39:00</td>\n",
       "      <td>6</td>\n",
       "      <td>18</td>\n",
       "      <td>10</td>\n",
       "      <td>3</td>\n",
       "      <td>Thu</td>\n",
       "      <td>Oct</td>\n",
       "      <td>00:02:00</td>\n",
       "      <td>0.0</td>\n",
       "      <td>2.0</td>\n",
       "      <td>0.033333</td>\n",
       "      <td>552.0</td>\n",
       "    </tr>\n",
       "    <tr>\n",
       "      <th>607</th>\n",
       "      <td>7/29/2016 15:45</td>\n",
       "      <td>7/29/2016 15:47</td>\n",
       "      <td>Business</td>\n",
       "      <td>Whitebridge</td>\n",
       "      <td>Westpark Place</td>\n",
       "      <td>2.2</td>\n",
       "      <td>NaN</td>\n",
       "      <td>2016-07-29 15:45:00</td>\n",
       "      <td>2016-07-29 15:47:00</td>\n",
       "      <td>29</td>\n",
       "      <td>15</td>\n",
       "      <td>7</td>\n",
       "      <td>4</td>\n",
       "      <td>Fri</td>\n",
       "      <td>Jul</td>\n",
       "      <td>00:02:00</td>\n",
       "      <td>0.0</td>\n",
       "      <td>2.0</td>\n",
       "      <td>0.033333</td>\n",
       "      <td>66.0</td>\n",
       "    </tr>\n",
       "    <tr>\n",
       "      <th>44</th>\n",
       "      <td>1/26/2016 17:27</td>\n",
       "      <td>1/26/2016 17:29</td>\n",
       "      <td>Business</td>\n",
       "      <td>Cary</td>\n",
       "      <td>Cary</td>\n",
       "      <td>0.5</td>\n",
       "      <td>Errand/Supplies</td>\n",
       "      <td>2016-01-26 17:27:00</td>\n",
       "      <td>2016-01-26 17:29:00</td>\n",
       "      <td>26</td>\n",
       "      <td>17</td>\n",
       "      <td>1</td>\n",
       "      <td>1</td>\n",
       "      <td>Tue</td>\n",
       "      <td>Jan</td>\n",
       "      <td>00:02:00</td>\n",
       "      <td>0.0</td>\n",
       "      <td>2.0</td>\n",
       "      <td>0.033333</td>\n",
       "      <td>15.0</td>\n",
       "    </tr>\n",
       "  </tbody>\n",
       "</table>\n",
       "</div>"
      ],
      "text/plain": [
       "          START_DATE         END_DATE       CAT             START  \\\n",
       "646  8/10/2016 18:49  8/10/2016 18:50  Business              Apex   \n",
       "786  10/4/2016 12:17  10/4/2016 12:18  Business  Unknown Location   \n",
       "789  10/6/2016 18:37  10/6/2016 18:39  Business  Unknown Location   \n",
       "607  7/29/2016 15:45  7/29/2016 15:47  Business       Whitebridge   \n",
       "44   1/26/2016 17:27  1/26/2016 17:29  Business              Cary   \n",
       "\n",
       "                 STOP  MILES          PURPOSE            start_dt  \\\n",
       "646              Apex    1.0              NaN 2016-08-10 18:49:00   \n",
       "786  Unknown Location   15.1              NaN 2016-10-04 12:17:00   \n",
       "789  Unknown Location   18.4              NaN 2016-10-06 18:37:00   \n",
       "607    Westpark Place    2.2              NaN 2016-07-29 15:45:00   \n",
       "44               Cary    0.5  Errand/Supplies 2016-01-26 17:27:00   \n",
       "\n",
       "                 end_dt  start_day  start_hour  start_month  d_of_wk weekday  \\\n",
       "646 2016-08-10 18:50:00         10          18            8        2     Wed   \n",
       "786 2016-10-04 12:18:00          4          12           10        1     Tue   \n",
       "789 2016-10-06 18:39:00          6          18           10        3     Thu   \n",
       "607 2016-07-29 15:47:00         29          15            7        4     Fri   \n",
       "44  2016-01-26 17:29:00         26          17            1        1     Tue   \n",
       "\n",
       "    cal_month     diff  diff_hr  diff_mins  Duration_hours  Speed  \n",
       "646       Aug 00:01:00      0.0        1.0        0.016667   60.0  \n",
       "786       Oct 00:01:00      0.0        1.0        0.016667  906.0  \n",
       "789       Oct 00:02:00      0.0        2.0        0.033333  552.0  \n",
       "607       Jul 00:02:00      0.0        2.0        0.033333   66.0  \n",
       "44        Jan 00:02:00      0.0        2.0        0.033333   15.0  "
      ]
     },
     "execution_count": 71,
     "metadata": {},
     "output_type": "execute_result"
    }
   ],
   "source": [
    "# Remove the ones that have the same start and end time (and redo the analysis)\n",
    "df2 = df[df.start_dt != df.end_dt]\n",
    "\n",
    "# we still see some really fast driving !!\n",
    "df2.sort_values(by ='diff_mins', ascending = True).head(5)\n",
    "\n",
    "# To do \n",
    "# Take a cut off for the time taken to drive to  do the speed analysis again \n",
    "# something like (df.diff_mins > 5)\n",
    "# analyse only the trips that lasted atleast 5 mins "
   ]
  },
  {
   "cell_type": "markdown",
   "metadata": {
    "colab_type": "text",
    "id": "Ll5jdpAf73xA"
   },
   "source": [
    "## 4. Category & Purpose\n",
    "#### Explore the category and the purpose of the trips through\n",
    "- Most frequent business category\n",
    "- Most frequent trip purpose\n",
    "- Miles driven per category and purpose\n",
    "- Percent composition of business miles vs personal miles\n",
    "- time spent per category and purpose"
   ]
  },
  {
   "cell_type": "code",
   "execution_count": 72,
   "metadata": {
    "colab": {
     "base_uri": "https://localhost:8080/",
     "height": 68
    },
    "colab_type": "code",
    "id": "gquL3BUv73xA",
    "outputId": "a24986ba-fb5c-4d00-ce7f-8882193af7e0"
   },
   "outputs": [
    {
     "data": {
      "text/plain": [
       "Business    1078\n",
       "Personal      77\n",
       "Name: CAT, dtype: int64"
      ]
     },
     "execution_count": 72,
     "metadata": {},
     "output_type": "execute_result"
    }
   ],
   "source": [
    "df['CAT'].value_counts()"
   ]
  },
  {
   "cell_type": "markdown",
   "metadata": {
    "colab_type": "text",
    "id": "P1avZc0473xD"
   },
   "source": [
    "**Most trips are in the business category**"
   ]
  },
  {
   "cell_type": "code",
   "execution_count": 73,
   "metadata": {
    "colab": {
     "base_uri": "https://localhost:8080/",
     "height": 204
    },
    "colab_type": "code",
    "id": "1i1t_EpJ73xD",
    "outputId": "d94f57e6-7ef6-492f-9403-e3a600330a44"
   },
   "outputs": [
    {
     "data": {
      "text/plain": [
       "Meeting            187\n",
       "Meal/Entertain     160\n",
       "Errand/Supplies    128\n",
       "Customer Visit     101\n",
       "Temporary Site      50\n",
       "Between Offices     18\n",
       "Moving               4\n",
       "Airport/Travel       3\n",
       "Charity ($)          1\n",
       "Commute              1\n",
       "Name: PURPOSE, dtype: int64"
      ]
     },
     "execution_count": 73,
     "metadata": {},
     "output_type": "execute_result"
    }
   ],
   "source": [
    "#Purpose\n",
    "df['PURPOSE'].value_counts()"
   ]
  },
  {
   "cell_type": "markdown",
   "metadata": {
    "colab_type": "text",
    "id": "I4ninmDJ73xG"
   },
   "source": [
    "**Most trips are for meetings**"
   ]
  },
  {
   "cell_type": "code",
   "execution_count": 74,
   "metadata": {
    "colab": {
     "base_uri": "https://localhost:8080/",
     "height": 221
    },
    "colab_type": "code",
    "id": "g8PeGQyn73xH",
    "outputId": "dd785412-1a8d-4288-8008-0ecc65eb9633"
   },
   "outputs": [
    {
     "data": {
      "text/plain": [
       "PURPOSE\n",
       "Commute            180.200000\n",
       "Customer Visit      20.688119\n",
       "Meeting             15.247594\n",
       "Charity ($)         15.100000\n",
       "Between Offices     10.944444\n",
       "Temporary Site      10.474000\n",
       "Meal/Entertain       5.698125\n",
       "Airport/Travel       5.500000\n",
       "Moving               4.550000\n",
       "Errand/Supplies      3.968750\n",
       "Name: MILES, dtype: float64"
      ]
     },
     "execution_count": 74,
     "metadata": {},
     "output_type": "execute_result"
    }
   ],
   "source": [
    "#Average distance traveled for each activity\n",
    "df.groupby('PURPOSE').mean()['MILES'].sort_values(ascending = False)"
   ]
  },
  {
   "cell_type": "markdown",
   "metadata": {
    "colab_type": "text",
    "id": "Or6uXGAv73xI"
   },
   "source": [
    "Now lets try to answer some questions from this data.\n",
    "\n",
    "Question1: How many miles was earned per category and purpose ?\n",
    "\n",
    "Question2: What is percentage of business miles vs personal?\n",
    "\n",
    "Question3: How much time was spend for drives per category and purpose? \n"
   ]
  },
  {
   "cell_type": "code",
   "execution_count": 75,
   "metadata": {
    "colab": {
     "base_uri": "https://localhost:8080/",
     "height": 221
    },
    "colab_type": "code",
    "id": "rLz2LvBk73xJ",
    "outputId": "a79af4c4-f50a-4768-8978-34426fe41a2a"
   },
   "outputs": [
    {
     "data": {
      "text/plain": [
       "PURPOSE\n",
       "Meeting            2851.3\n",
       "Customer Visit     2089.5\n",
       "Meal/Entertain      911.7\n",
       "Temporary Site      523.7\n",
       "Errand/Supplies     508.0\n",
       "Between Offices     197.0\n",
       "Commute             180.2\n",
       "Moving               18.2\n",
       "Airport/Travel       16.5\n",
       "Charity ($)          15.1\n",
       "Name: MILES, dtype: float64"
      ]
     },
     "execution_count": 75,
     "metadata": {},
     "output_type": "execute_result"
    }
   ],
   "source": [
    "#Question1: How many miles was earned per category and purpose ?\n",
    "df.groupby('PURPOSE').sum()['MILES'].sort_values(ascending = False)"
   ]
  },
  {
   "cell_type": "code",
   "execution_count": 76,
   "metadata": {
    "colab": {
     "base_uri": "https://localhost:8080/",
     "height": 85
    },
    "colab_type": "code",
    "id": "XpIICZl773xK",
    "outputId": "fa82427b-a87a-45ea-9a25-45a054d6f105"
   },
   "outputs": [
    {
     "data": {
      "text/plain": [
       "CAT\n",
       "Business    11487.0\n",
       "Personal      717.7\n",
       "Name: MILES, dtype: float64"
      ]
     },
     "execution_count": 76,
     "metadata": {},
     "output_type": "execute_result"
    }
   ],
   "source": [
    "#Question1: How many miles was earned per category and purpose ?\n",
    "df.groupby('CAT').sum()['MILES'].sort_values(ascending = False)"
   ]
  },
  {
   "cell_type": "code",
   "execution_count": 77,
   "metadata": {
    "colab": {
     "base_uri": "https://localhost:8080/",
     "height": 142
    },
    "colab_type": "code",
    "id": "b_snpubb73xM",
    "outputId": "bd25cf6e-b90a-453b-cbe6-9dfa871132a5"
   },
   "outputs": [
    {
     "data": {
      "text/html": [
       "<div>\n",
       "<style scoped>\n",
       "    .dataframe tbody tr th:only-of-type {\n",
       "        vertical-align: middle;\n",
       "    }\n",
       "\n",
       "    .dataframe tbody tr th {\n",
       "        vertical-align: top;\n",
       "    }\n",
       "\n",
       "    .dataframe thead th {\n",
       "        text-align: right;\n",
       "    }\n",
       "</style>\n",
       "<table border=\"1\" class=\"dataframe\">\n",
       "  <thead>\n",
       "    <tr style=\"text-align: right;\">\n",
       "      <th></th>\n",
       "      <th>% of Miles</th>\n",
       "    </tr>\n",
       "    <tr>\n",
       "      <th>CAT</th>\n",
       "      <th></th>\n",
       "    </tr>\n",
       "  </thead>\n",
       "  <tbody>\n",
       "    <tr>\n",
       "      <th>Business</th>\n",
       "      <td>94.119479</td>\n",
       "    </tr>\n",
       "    <tr>\n",
       "      <th>Personal</th>\n",
       "      <td>5.880521</td>\n",
       "    </tr>\n",
       "  </tbody>\n",
       "</table>\n",
       "</div>"
      ],
      "text/plain": [
       "          % of Miles\n",
       "CAT                 \n",
       "Business   94.119479\n",
       "Personal    5.880521"
      ]
     },
     "execution_count": 77,
     "metadata": {},
     "output_type": "execute_result"
    }
   ],
   "source": [
    "#Question2: What is percentage of business miles vs personal?\n",
    "df1 = df.groupby('CAT').agg({'MILES':'sum'})\n",
    "df1\n",
    "df1.apply(lambda x: x/x.sum()*100).rename(columns = {'MILES':'% of Miles'})"
   ]
  },
  {
   "cell_type": "code",
   "execution_count": 78,
   "metadata": {
    "colab": {
     "base_uri": "https://localhost:8080/",
     "height": 85
    },
    "colab_type": "code",
    "id": "H0G-aWkB73xO",
    "outputId": "1d3c4036-2134-4d7d-9c4e-d4e9b355cbab",
    "scrolled": true
   },
   "outputs": [
    {
     "data": {
      "text/plain": [
       "CAT\n",
       "Business    421.183333\n",
       "Personal     26.250000\n",
       "Name: diff_mins, dtype: float64"
      ]
     },
     "execution_count": 78,
     "metadata": {},
     "output_type": "execute_result"
    }
   ],
   "source": [
    "#Question3: How much time was spend for drives per category and purpose?\n",
    "dfk= df.groupby('CAT').sum()['diff_mins'].sort_values(ascending = False)\n",
    "dfk.apply(lambda x: x/60)"
   ]
  },
  {
   "cell_type": "code",
   "execution_count": 79,
   "metadata": {
    "colab": {
     "base_uri": "https://localhost:8080/",
     "height": 221
    },
    "colab_type": "code",
    "id": "X89fe1QT73xQ",
    "outputId": "64051a62-0edb-4e02-ed8d-e9186a4532be",
    "scrolled": true
   },
   "outputs": [
    {
     "data": {
      "text/plain": [
       "PURPOSE\n",
       "Meeting            5561.0\n",
       "Customer Visit     3375.0\n",
       "Meal/Entertain     2580.0\n",
       "Errand/Supplies    1661.0\n",
       "Temporary Site     1293.0\n",
       "Between Offices     459.0\n",
       "Commute             185.0\n",
       "Airport/Travel       78.0\n",
       "Moving               60.0\n",
       "Charity ($)          27.0\n",
       "Name: diff_mins, dtype: float64"
      ]
     },
     "execution_count": 79,
     "metadata": {},
     "output_type": "execute_result"
    }
   ],
   "source": [
    "#Question3: How much time was spend for drives per category and purpose? \n",
    "df.groupby('PURPOSE').sum()['diff_mins'].sort_values(ascending = False)"
   ]
  },
  {
   "cell_type": "markdown",
   "metadata": {},
   "source": [
    "## Summary  -\n",
    "Through this exercise, we tried to check out the data analysis toolkit offered by pandas. We went to explore variables at hand, use groupby, implement datatime manipulation, create new features and various other operations on pandas dataframe.\n",
    "We also had a sneak peek into the upcoming week's topic of visualization.\n",
    "\n",
    "Learners are recommended to explore further on this building on the points discussed in the notebook.\n",
    "Happy Learning!"
   ]
  },
  {
   "cell_type": "code",
   "execution_count": null,
   "metadata": {},
   "outputs": [],
   "source": []
  }
 ],
 "metadata": {
  "colab": {
   "collapsed_sections": [
    "8jSvBLWi73vR"
   ],
   "name": "Uber Data Analysis_.ipynb",
   "provenance": []
  },
  "kernelspec": {
   "display_name": "Python 3",
   "language": "python",
   "name": "python3"
  },
  "language_info": {
   "codemirror_mode": {
    "name": "ipython",
    "version": 3
   },
   "file_extension": ".py",
   "mimetype": "text/x-python",
   "name": "python",
   "nbconvert_exporter": "python",
   "pygments_lexer": "ipython3",
   "version": "3.7.6"
  },
  "widgets": {
   "application/vnd.jupyter.widget-state+json": {
    "066ef01d1d364c1580142f705a559fe9": {
     "model_module": "@jupyter-widgets/controls",
     "model_name": "ProgressStyleModel",
     "state": {
      "_model_module": "@jupyter-widgets/controls",
      "_model_module_version": "1.5.0",
      "_model_name": "ProgressStyleModel",
      "_view_count": null,
      "_view_module": "@jupyter-widgets/base",
      "_view_module_version": "1.2.0",
      "_view_name": "StyleView",
      "bar_color": null,
      "description_width": "initial"
     }
    },
    "118335e46ea94d4c9a101a6eec32a77b": {
     "model_module": "@jupyter-widgets/controls",
     "model_name": "DescriptionStyleModel",
     "state": {
      "_model_module": "@jupyter-widgets/controls",
      "_model_module_version": "1.5.0",
      "_model_name": "DescriptionStyleModel",
      "_view_count": null,
      "_view_module": "@jupyter-widgets/base",
      "_view_module_version": "1.2.0",
      "_view_name": "StyleView",
      "description_width": ""
     }
    },
    "1922659150cd427d8689868f4dce6b02": {
     "model_module": "@jupyter-widgets/controls",
     "model_name": "HBoxModel",
     "state": {
      "_dom_classes": [],
      "_model_module": "@jupyter-widgets/controls",
      "_model_module_version": "1.5.0",
      "_model_name": "HBoxModel",
      "_view_count": null,
      "_view_module": "@jupyter-widgets/controls",
      "_view_module_version": "1.5.0",
      "_view_name": "HBoxView",
      "box_style": "",
      "children": [
       "IPY_MODEL_db18f08eec74473495074ada24bc89fc",
       "IPY_MODEL_d91a955076314f15a06ec8a5c8093461"
      ],
      "layout": "IPY_MODEL_2cbcc7ac8d1c4c108e83d87f726ac3fa"
     }
    },
    "1c772e21d02343849c54002e7ea6360a": {
     "model_module": "@jupyter-widgets/base",
     "model_name": "LayoutModel",
     "state": {
      "_model_module": "@jupyter-widgets/base",
      "_model_module_version": "1.2.0",
      "_model_name": "LayoutModel",
      "_view_count": null,
      "_view_module": "@jupyter-widgets/base",
      "_view_module_version": "1.2.0",
      "_view_name": "LayoutView",
      "align_content": null,
      "align_items": null,
      "align_self": null,
      "border": null,
      "bottom": null,
      "display": null,
      "flex": null,
      "flex_flow": null,
      "grid_area": null,
      "grid_auto_columns": null,
      "grid_auto_flow": null,
      "grid_auto_rows": null,
      "grid_column": null,
      "grid_gap": null,
      "grid_row": null,
      "grid_template_areas": null,
      "grid_template_columns": null,
      "grid_template_rows": null,
      "height": null,
      "justify_content": null,
      "justify_items": null,
      "left": null,
      "margin": null,
      "max_height": null,
      "max_width": null,
      "min_height": null,
      "min_width": null,
      "object_fit": null,
      "object_position": null,
      "order": null,
      "overflow": null,
      "overflow_x": null,
      "overflow_y": null,
      "padding": null,
      "right": null,
      "top": null,
      "visibility": null,
      "width": null
     }
    },
    "2cbcc7ac8d1c4c108e83d87f726ac3fa": {
     "model_module": "@jupyter-widgets/base",
     "model_name": "LayoutModel",
     "state": {
      "_model_module": "@jupyter-widgets/base",
      "_model_module_version": "1.2.0",
      "_model_name": "LayoutModel",
      "_view_count": null,
      "_view_module": "@jupyter-widgets/base",
      "_view_module_version": "1.2.0",
      "_view_name": "LayoutView",
      "align_content": null,
      "align_items": null,
      "align_self": null,
      "border": null,
      "bottom": null,
      "display": null,
      "flex": null,
      "flex_flow": null,
      "grid_area": null,
      "grid_auto_columns": null,
      "grid_auto_flow": null,
      "grid_auto_rows": null,
      "grid_column": null,
      "grid_gap": null,
      "grid_row": null,
      "grid_template_areas": null,
      "grid_template_columns": null,
      "grid_template_rows": null,
      "height": null,
      "justify_content": null,
      "justify_items": null,
      "left": null,
      "margin": null,
      "max_height": null,
      "max_width": null,
      "min_height": null,
      "min_width": null,
      "object_fit": null,
      "object_position": null,
      "order": null,
      "overflow": null,
      "overflow_x": null,
      "overflow_y": null,
      "padding": null,
      "right": null,
      "top": null,
      "visibility": null,
      "width": null
     }
    },
    "3a272646e3134d618fb4b423a91abf51": {
     "model_module": "@jupyter-widgets/controls",
     "model_name": "FloatProgressModel",
     "state": {
      "_dom_classes": [],
      "_model_module": "@jupyter-widgets/controls",
      "_model_module_version": "1.5.0",
      "_model_name": "FloatProgressModel",
      "_view_count": null,
      "_view_module": "@jupyter-widgets/controls",
      "_view_module_version": "1.5.0",
      "_view_name": "ProgressView",
      "bar_style": "success",
      "description": "Summarize dataset: 100%",
      "description_tooltip": null,
      "layout": "IPY_MODEL_9657fb4abc67484cb6e85b69006324e6",
      "max": 21,
      "min": 0,
      "orientation": "horizontal",
      "style": "IPY_MODEL_b28ac870e6d541c5b54d4f1dffefce37",
      "value": 21
     }
    },
    "3a43f1f850254895a9241e9b1ab3dca8": {
     "model_module": "@jupyter-widgets/base",
     "model_name": "LayoutModel",
     "state": {
      "_model_module": "@jupyter-widgets/base",
      "_model_module_version": "1.2.0",
      "_model_name": "LayoutModel",
      "_view_count": null,
      "_view_module": "@jupyter-widgets/base",
      "_view_module_version": "1.2.0",
      "_view_name": "LayoutView",
      "align_content": null,
      "align_items": null,
      "align_self": null,
      "border": null,
      "bottom": null,
      "display": null,
      "flex": null,
      "flex_flow": null,
      "grid_area": null,
      "grid_auto_columns": null,
      "grid_auto_flow": null,
      "grid_auto_rows": null,
      "grid_column": null,
      "grid_gap": null,
      "grid_row": null,
      "grid_template_areas": null,
      "grid_template_columns": null,
      "grid_template_rows": null,
      "height": null,
      "justify_content": null,
      "justify_items": null,
      "left": null,
      "margin": null,
      "max_height": null,
      "max_width": null,
      "min_height": null,
      "min_width": null,
      "object_fit": null,
      "object_position": null,
      "order": null,
      "overflow": null,
      "overflow_x": null,
      "overflow_y": null,
      "padding": null,
      "right": null,
      "top": null,
      "visibility": null,
      "width": null
     }
    },
    "3caf8ac364574b6fbf816df3eeb303e2": {
     "model_module": "@jupyter-widgets/controls",
     "model_name": "HTMLModel",
     "state": {
      "_dom_classes": [],
      "_model_module": "@jupyter-widgets/controls",
      "_model_module_version": "1.5.0",
      "_model_name": "HTMLModel",
      "_view_count": null,
      "_view_module": "@jupyter-widgets/controls",
      "_view_module_version": "1.5.0",
      "_view_name": "HTMLView",
      "description": "",
      "description_tooltip": null,
      "layout": "IPY_MODEL_9e73a07e8cb848ff99515c8081ad4751",
      "placeholder": "​",
      "style": "IPY_MODEL_118335e46ea94d4c9a101a6eec32a77b",
      "value": " 21/21 [00:06&lt;00:00,  3.35it/s, Completed]"
     }
    },
    "48802e3bbece4c9abbd23a6df5f9a018": {
     "model_module": "@jupyter-widgets/controls",
     "model_name": "DescriptionStyleModel",
     "state": {
      "_model_module": "@jupyter-widgets/controls",
      "_model_module_version": "1.5.0",
      "_model_name": "DescriptionStyleModel",
      "_view_count": null,
      "_view_module": "@jupyter-widgets/base",
      "_view_module_version": "1.2.0",
      "_view_name": "StyleView",
      "description_width": ""
     }
    },
    "553b3f7e195c495c80c3ff6d0c5f53ae": {
     "model_module": "@jupyter-widgets/controls",
     "model_name": "FloatProgressModel",
     "state": {
      "_dom_classes": [],
      "_model_module": "@jupyter-widgets/controls",
      "_model_module_version": "1.5.0",
      "_model_name": "FloatProgressModel",
      "_view_count": null,
      "_view_module": "@jupyter-widgets/controls",
      "_view_module_version": "1.5.0",
      "_view_name": "ProgressView",
      "bar_style": "success",
      "description": "Render HTML: 100%",
      "description_tooltip": null,
      "layout": "IPY_MODEL_9a373c2f4b0b4fdd97fef0774218273d",
      "max": 1,
      "min": 0,
      "orientation": "horizontal",
      "style": "IPY_MODEL_bbbada057d4d43379ccc1038040ee7a6",
      "value": 1
     }
    },
    "565ca1a277734a0e8abd255ec2b6014e": {
     "model_module": "@jupyter-widgets/base",
     "model_name": "LayoutModel",
     "state": {
      "_model_module": "@jupyter-widgets/base",
      "_model_module_version": "1.2.0",
      "_model_name": "LayoutModel",
      "_view_count": null,
      "_view_module": "@jupyter-widgets/base",
      "_view_module_version": "1.2.0",
      "_view_name": "LayoutView",
      "align_content": null,
      "align_items": null,
      "align_self": null,
      "border": null,
      "bottom": null,
      "display": null,
      "flex": null,
      "flex_flow": null,
      "grid_area": null,
      "grid_auto_columns": null,
      "grid_auto_flow": null,
      "grid_auto_rows": null,
      "grid_column": null,
      "grid_gap": null,
      "grid_row": null,
      "grid_template_areas": null,
      "grid_template_columns": null,
      "grid_template_rows": null,
      "height": null,
      "justify_content": null,
      "justify_items": null,
      "left": null,
      "margin": null,
      "max_height": null,
      "max_width": null,
      "min_height": null,
      "min_width": null,
      "object_fit": null,
      "object_position": null,
      "order": null,
      "overflow": null,
      "overflow_x": null,
      "overflow_y": null,
      "padding": null,
      "right": null,
      "top": null,
      "visibility": null,
      "width": null
     }
    },
    "636a8d72e3384528b9ae8cbf2186b09b": {
     "model_module": "@jupyter-widgets/controls",
     "model_name": "HBoxModel",
     "state": {
      "_dom_classes": [],
      "_model_module": "@jupyter-widgets/controls",
      "_model_module_version": "1.5.0",
      "_model_name": "HBoxModel",
      "_view_count": null,
      "_view_module": "@jupyter-widgets/controls",
      "_view_module_version": "1.5.0",
      "_view_name": "HBoxView",
      "box_style": "",
      "children": [
       "IPY_MODEL_3a272646e3134d618fb4b423a91abf51",
       "IPY_MODEL_3caf8ac364574b6fbf816df3eeb303e2"
      ],
      "layout": "IPY_MODEL_8f7fafcf44ae41be9f5619aab14e2b15"
     }
    },
    "835ec7d15fc64a74bd60389e5de5b401": {
     "model_module": "@jupyter-widgets/controls",
     "model_name": "HTMLModel",
     "state": {
      "_dom_classes": [],
      "_model_module": "@jupyter-widgets/controls",
      "_model_module_version": "1.5.0",
      "_model_name": "HTMLModel",
      "_view_count": null,
      "_view_module": "@jupyter-widgets/controls",
      "_view_module_version": "1.5.0",
      "_view_name": "HTMLView",
      "description": "",
      "description_tooltip": null,
      "layout": "IPY_MODEL_565ca1a277734a0e8abd255ec2b6014e",
      "placeholder": "​",
      "style": "IPY_MODEL_996dce9580da41f4a7f5ebf765f9330b",
      "value": " 1/1 [00:00&lt;00:00,  1.90it/s]"
     }
    },
    "8f7fafcf44ae41be9f5619aab14e2b15": {
     "model_module": "@jupyter-widgets/base",
     "model_name": "LayoutModel",
     "state": {
      "_model_module": "@jupyter-widgets/base",
      "_model_module_version": "1.2.0",
      "_model_name": "LayoutModel",
      "_view_count": null,
      "_view_module": "@jupyter-widgets/base",
      "_view_module_version": "1.2.0",
      "_view_name": "LayoutView",
      "align_content": null,
      "align_items": null,
      "align_self": null,
      "border": null,
      "bottom": null,
      "display": null,
      "flex": null,
      "flex_flow": null,
      "grid_area": null,
      "grid_auto_columns": null,
      "grid_auto_flow": null,
      "grid_auto_rows": null,
      "grid_column": null,
      "grid_gap": null,
      "grid_row": null,
      "grid_template_areas": null,
      "grid_template_columns": null,
      "grid_template_rows": null,
      "height": null,
      "justify_content": null,
      "justify_items": null,
      "left": null,
      "margin": null,
      "max_height": null,
      "max_width": null,
      "min_height": null,
      "min_width": null,
      "object_fit": null,
      "object_position": null,
      "order": null,
      "overflow": null,
      "overflow_x": null,
      "overflow_y": null,
      "padding": null,
      "right": null,
      "top": null,
      "visibility": null,
      "width": null
     }
    },
    "9657fb4abc67484cb6e85b69006324e6": {
     "model_module": "@jupyter-widgets/base",
     "model_name": "LayoutModel",
     "state": {
      "_model_module": "@jupyter-widgets/base",
      "_model_module_version": "1.2.0",
      "_model_name": "LayoutModel",
      "_view_count": null,
      "_view_module": "@jupyter-widgets/base",
      "_view_module_version": "1.2.0",
      "_view_name": "LayoutView",
      "align_content": null,
      "align_items": null,
      "align_self": null,
      "border": null,
      "bottom": null,
      "display": null,
      "flex": null,
      "flex_flow": null,
      "grid_area": null,
      "grid_auto_columns": null,
      "grid_auto_flow": null,
      "grid_auto_rows": null,
      "grid_column": null,
      "grid_gap": null,
      "grid_row": null,
      "grid_template_areas": null,
      "grid_template_columns": null,
      "grid_template_rows": null,
      "height": null,
      "justify_content": null,
      "justify_items": null,
      "left": null,
      "margin": null,
      "max_height": null,
      "max_width": null,
      "min_height": null,
      "min_width": null,
      "object_fit": null,
      "object_position": null,
      "order": null,
      "overflow": null,
      "overflow_x": null,
      "overflow_y": null,
      "padding": null,
      "right": null,
      "top": null,
      "visibility": null,
      "width": null
     }
    },
    "996dce9580da41f4a7f5ebf765f9330b": {
     "model_module": "@jupyter-widgets/controls",
     "model_name": "DescriptionStyleModel",
     "state": {
      "_model_module": "@jupyter-widgets/controls",
      "_model_module_version": "1.5.0",
      "_model_name": "DescriptionStyleModel",
      "_view_count": null,
      "_view_module": "@jupyter-widgets/base",
      "_view_module_version": "1.2.0",
      "_view_name": "StyleView",
      "description_width": ""
     }
    },
    "9a373c2f4b0b4fdd97fef0774218273d": {
     "model_module": "@jupyter-widgets/base",
     "model_name": "LayoutModel",
     "state": {
      "_model_module": "@jupyter-widgets/base",
      "_model_module_version": "1.2.0",
      "_model_name": "LayoutModel",
      "_view_count": null,
      "_view_module": "@jupyter-widgets/base",
      "_view_module_version": "1.2.0",
      "_view_name": "LayoutView",
      "align_content": null,
      "align_items": null,
      "align_self": null,
      "border": null,
      "bottom": null,
      "display": null,
      "flex": null,
      "flex_flow": null,
      "grid_area": null,
      "grid_auto_columns": null,
      "grid_auto_flow": null,
      "grid_auto_rows": null,
      "grid_column": null,
      "grid_gap": null,
      "grid_row": null,
      "grid_template_areas": null,
      "grid_template_columns": null,
      "grid_template_rows": null,
      "height": null,
      "justify_content": null,
      "justify_items": null,
      "left": null,
      "margin": null,
      "max_height": null,
      "max_width": null,
      "min_height": null,
      "min_width": null,
      "object_fit": null,
      "object_position": null,
      "order": null,
      "overflow": null,
      "overflow_x": null,
      "overflow_y": null,
      "padding": null,
      "right": null,
      "top": null,
      "visibility": null,
      "width": null
     }
    },
    "9c62f73b723641ea8e3a4cd292790727": {
     "model_module": "@jupyter-widgets/controls",
     "model_name": "HTMLModel",
     "state": {
      "_dom_classes": [],
      "_model_module": "@jupyter-widgets/controls",
      "_model_module_version": "1.5.0",
      "_model_name": "HTMLModel",
      "_view_count": null,
      "_view_module": "@jupyter-widgets/controls",
      "_view_module_version": "1.5.0",
      "_view_name": "HTMLView",
      "description": "",
      "description_tooltip": null,
      "layout": "IPY_MODEL_3a43f1f850254895a9241e9b1ab3dca8",
      "placeholder": "​",
      "style": "IPY_MODEL_b331d128783348a7a0bb9d098249d998",
      "value": " 1/1 [00:00&lt;00:00,  5.75it/s]"
     }
    },
    "9e73a07e8cb848ff99515c8081ad4751": {
     "model_module": "@jupyter-widgets/base",
     "model_name": "LayoutModel",
     "state": {
      "_model_module": "@jupyter-widgets/base",
      "_model_module_version": "1.2.0",
      "_model_name": "LayoutModel",
      "_view_count": null,
      "_view_module": "@jupyter-widgets/base",
      "_view_module_version": "1.2.0",
      "_view_name": "LayoutView",
      "align_content": null,
      "align_items": null,
      "align_self": null,
      "border": null,
      "bottom": null,
      "display": null,
      "flex": null,
      "flex_flow": null,
      "grid_area": null,
      "grid_auto_columns": null,
      "grid_auto_flow": null,
      "grid_auto_rows": null,
      "grid_column": null,
      "grid_gap": null,
      "grid_row": null,
      "grid_template_areas": null,
      "grid_template_columns": null,
      "grid_template_rows": null,
      "height": null,
      "justify_content": null,
      "justify_items": null,
      "left": null,
      "margin": null,
      "max_height": null,
      "max_width": null,
      "min_height": null,
      "min_width": null,
      "object_fit": null,
      "object_position": null,
      "order": null,
      "overflow": null,
      "overflow_x": null,
      "overflow_y": null,
      "padding": null,
      "right": null,
      "top": null,
      "visibility": null,
      "width": null
     }
    },
    "ab5822f91f7f46cfaf6fce6b3e928356": {
     "model_module": "@jupyter-widgets/base",
     "model_name": "LayoutModel",
     "state": {
      "_model_module": "@jupyter-widgets/base",
      "_model_module_version": "1.2.0",
      "_model_name": "LayoutModel",
      "_view_count": null,
      "_view_module": "@jupyter-widgets/base",
      "_view_module_version": "1.2.0",
      "_view_name": "LayoutView",
      "align_content": null,
      "align_items": null,
      "align_self": null,
      "border": null,
      "bottom": null,
      "display": null,
      "flex": null,
      "flex_flow": null,
      "grid_area": null,
      "grid_auto_columns": null,
      "grid_auto_flow": null,
      "grid_auto_rows": null,
      "grid_column": null,
      "grid_gap": null,
      "grid_row": null,
      "grid_template_areas": null,
      "grid_template_columns": null,
      "grid_template_rows": null,
      "height": null,
      "justify_content": null,
      "justify_items": null,
      "left": null,
      "margin": null,
      "max_height": null,
      "max_width": null,
      "min_height": null,
      "min_width": null,
      "object_fit": null,
      "object_position": null,
      "order": null,
      "overflow": null,
      "overflow_x": null,
      "overflow_y": null,
      "padding": null,
      "right": null,
      "top": null,
      "visibility": null,
      "width": null
     }
    },
    "b28ac870e6d541c5b54d4f1dffefce37": {
     "model_module": "@jupyter-widgets/controls",
     "model_name": "ProgressStyleModel",
     "state": {
      "_model_module": "@jupyter-widgets/controls",
      "_model_module_version": "1.5.0",
      "_model_name": "ProgressStyleModel",
      "_view_count": null,
      "_view_module": "@jupyter-widgets/base",
      "_view_module_version": "1.2.0",
      "_view_name": "StyleView",
      "bar_color": null,
      "description_width": "initial"
     }
    },
    "b331d128783348a7a0bb9d098249d998": {
     "model_module": "@jupyter-widgets/controls",
     "model_name": "DescriptionStyleModel",
     "state": {
      "_model_module": "@jupyter-widgets/controls",
      "_model_module_version": "1.5.0",
      "_model_name": "DescriptionStyleModel",
      "_view_count": null,
      "_view_module": "@jupyter-widgets/base",
      "_view_module_version": "1.2.0",
      "_view_name": "StyleView",
      "description_width": ""
     }
    },
    "bbbada057d4d43379ccc1038040ee7a6": {
     "model_module": "@jupyter-widgets/controls",
     "model_name": "ProgressStyleModel",
     "state": {
      "_model_module": "@jupyter-widgets/controls",
      "_model_module_version": "1.5.0",
      "_model_name": "ProgressStyleModel",
      "_view_count": null,
      "_view_module": "@jupyter-widgets/base",
      "_view_module_version": "1.2.0",
      "_view_name": "StyleView",
      "bar_color": null,
      "description_width": "initial"
     }
    },
    "bebe201dcdea40beaae04e4c5b054a1d": {
     "model_module": "@jupyter-widgets/controls",
     "model_name": "FloatProgressModel",
     "state": {
      "_dom_classes": [],
      "_model_module": "@jupyter-widgets/controls",
      "_model_module_version": "1.5.0",
      "_model_name": "FloatProgressModel",
      "_view_count": null,
      "_view_module": "@jupyter-widgets/controls",
      "_view_module_version": "1.5.0",
      "_view_name": "ProgressView",
      "bar_style": "success",
      "description": "Export report to file: 100%",
      "description_tooltip": null,
      "layout": "IPY_MODEL_c9d4246e94824ec7b731b6df98850733",
      "max": 1,
      "min": 0,
      "orientation": "horizontal",
      "style": "IPY_MODEL_e128e47e7ac54bc3b0b36573473dc615",
      "value": 1
     }
    },
    "c9d4246e94824ec7b731b6df98850733": {
     "model_module": "@jupyter-widgets/base",
     "model_name": "LayoutModel",
     "state": {
      "_model_module": "@jupyter-widgets/base",
      "_model_module_version": "1.2.0",
      "_model_name": "LayoutModel",
      "_view_count": null,
      "_view_module": "@jupyter-widgets/base",
      "_view_module_version": "1.2.0",
      "_view_name": "LayoutView",
      "align_content": null,
      "align_items": null,
      "align_self": null,
      "border": null,
      "bottom": null,
      "display": null,
      "flex": null,
      "flex_flow": null,
      "grid_area": null,
      "grid_auto_columns": null,
      "grid_auto_flow": null,
      "grid_auto_rows": null,
      "grid_column": null,
      "grid_gap": null,
      "grid_row": null,
      "grid_template_areas": null,
      "grid_template_columns": null,
      "grid_template_rows": null,
      "height": null,
      "justify_content": null,
      "justify_items": null,
      "left": null,
      "margin": null,
      "max_height": null,
      "max_width": null,
      "min_height": null,
      "min_width": null,
      "object_fit": null,
      "object_position": null,
      "order": null,
      "overflow": null,
      "overflow_x": null,
      "overflow_y": null,
      "padding": null,
      "right": null,
      "top": null,
      "visibility": null,
      "width": null
     }
    },
    "d91a955076314f15a06ec8a5c8093461": {
     "model_module": "@jupyter-widgets/controls",
     "model_name": "HTMLModel",
     "state": {
      "_dom_classes": [],
      "_model_module": "@jupyter-widgets/controls",
      "_model_module_version": "1.5.0",
      "_model_name": "HTMLModel",
      "_view_count": null,
      "_view_module": "@jupyter-widgets/controls",
      "_view_module_version": "1.5.0",
      "_view_name": "HTMLView",
      "description": "",
      "description_tooltip": null,
      "layout": "IPY_MODEL_f53135e5d10e4e8a96d64944b0b66722",
      "placeholder": "​",
      "style": "IPY_MODEL_48802e3bbece4c9abbd23a6df5f9a018",
      "value": " 1/1 [00:02&lt;00:00,  2.58s/it]"
     }
    },
    "db18f08eec74473495074ada24bc89fc": {
     "model_module": "@jupyter-widgets/controls",
     "model_name": "FloatProgressModel",
     "state": {
      "_dom_classes": [],
      "_model_module": "@jupyter-widgets/controls",
      "_model_module_version": "1.5.0",
      "_model_name": "FloatProgressModel",
      "_view_count": null,
      "_view_module": "@jupyter-widgets/controls",
      "_view_module_version": "1.5.0",
      "_view_name": "ProgressView",
      "bar_style": "success",
      "description": "Generate report structure: 100%",
      "description_tooltip": null,
      "layout": "IPY_MODEL_1c772e21d02343849c54002e7ea6360a",
      "max": 1,
      "min": 0,
      "orientation": "horizontal",
      "style": "IPY_MODEL_066ef01d1d364c1580142f705a559fe9",
      "value": 1
     }
    },
    "e128e47e7ac54bc3b0b36573473dc615": {
     "model_module": "@jupyter-widgets/controls",
     "model_name": "ProgressStyleModel",
     "state": {
      "_model_module": "@jupyter-widgets/controls",
      "_model_module_version": "1.5.0",
      "_model_name": "ProgressStyleModel",
      "_view_count": null,
      "_view_module": "@jupyter-widgets/base",
      "_view_module_version": "1.2.0",
      "_view_name": "StyleView",
      "bar_color": null,
      "description_width": "initial"
     }
    },
    "e21efa0d2fca46059507f0f013fa9f13": {
     "model_module": "@jupyter-widgets/controls",
     "model_name": "HBoxModel",
     "state": {
      "_dom_classes": [],
      "_model_module": "@jupyter-widgets/controls",
      "_model_module_version": "1.5.0",
      "_model_name": "HBoxModel",
      "_view_count": null,
      "_view_module": "@jupyter-widgets/controls",
      "_view_module_version": "1.5.0",
      "_view_name": "HBoxView",
      "box_style": "",
      "children": [
       "IPY_MODEL_bebe201dcdea40beaae04e4c5b054a1d",
       "IPY_MODEL_9c62f73b723641ea8e3a4cd292790727"
      ],
      "layout": "IPY_MODEL_f271def9ac4743e2a0afc0801f948cd0"
     }
    },
    "ee7bb7cf782347ed906b5bd6c4e1e253": {
     "model_module": "@jupyter-widgets/controls",
     "model_name": "HBoxModel",
     "state": {
      "_dom_classes": [],
      "_model_module": "@jupyter-widgets/controls",
      "_model_module_version": "1.5.0",
      "_model_name": "HBoxModel",
      "_view_count": null,
      "_view_module": "@jupyter-widgets/controls",
      "_view_module_version": "1.5.0",
      "_view_name": "HBoxView",
      "box_style": "",
      "children": [
       "IPY_MODEL_553b3f7e195c495c80c3ff6d0c5f53ae",
       "IPY_MODEL_835ec7d15fc64a74bd60389e5de5b401"
      ],
      "layout": "IPY_MODEL_ab5822f91f7f46cfaf6fce6b3e928356"
     }
    },
    "f271def9ac4743e2a0afc0801f948cd0": {
     "model_module": "@jupyter-widgets/base",
     "model_name": "LayoutModel",
     "state": {
      "_model_module": "@jupyter-widgets/base",
      "_model_module_version": "1.2.0",
      "_model_name": "LayoutModel",
      "_view_count": null,
      "_view_module": "@jupyter-widgets/base",
      "_view_module_version": "1.2.0",
      "_view_name": "LayoutView",
      "align_content": null,
      "align_items": null,
      "align_self": null,
      "border": null,
      "bottom": null,
      "display": null,
      "flex": null,
      "flex_flow": null,
      "grid_area": null,
      "grid_auto_columns": null,
      "grid_auto_flow": null,
      "grid_auto_rows": null,
      "grid_column": null,
      "grid_gap": null,
      "grid_row": null,
      "grid_template_areas": null,
      "grid_template_columns": null,
      "grid_template_rows": null,
      "height": null,
      "justify_content": null,
      "justify_items": null,
      "left": null,
      "margin": null,
      "max_height": null,
      "max_width": null,
      "min_height": null,
      "min_width": null,
      "object_fit": null,
      "object_position": null,
      "order": null,
      "overflow": null,
      "overflow_x": null,
      "overflow_y": null,
      "padding": null,
      "right": null,
      "top": null,
      "visibility": null,
      "width": null
     }
    },
    "f53135e5d10e4e8a96d64944b0b66722": {
     "model_module": "@jupyter-widgets/base",
     "model_name": "LayoutModel",
     "state": {
      "_model_module": "@jupyter-widgets/base",
      "_model_module_version": "1.2.0",
      "_model_name": "LayoutModel",
      "_view_count": null,
      "_view_module": "@jupyter-widgets/base",
      "_view_module_version": "1.2.0",
      "_view_name": "LayoutView",
      "align_content": null,
      "align_items": null,
      "align_self": null,
      "border": null,
      "bottom": null,
      "display": null,
      "flex": null,
      "flex_flow": null,
      "grid_area": null,
      "grid_auto_columns": null,
      "grid_auto_flow": null,
      "grid_auto_rows": null,
      "grid_column": null,
      "grid_gap": null,
      "grid_row": null,
      "grid_template_areas": null,
      "grid_template_columns": null,
      "grid_template_rows": null,
      "height": null,
      "justify_content": null,
      "justify_items": null,
      "left": null,
      "margin": null,
      "max_height": null,
      "max_width": null,
      "min_height": null,
      "min_width": null,
      "object_fit": null,
      "object_position": null,
      "order": null,
      "overflow": null,
      "overflow_x": null,
      "overflow_y": null,
      "padding": null,
      "right": null,
      "top": null,
      "visibility": null,
      "width": null
     }
    }
   }
  }
 },
 "nbformat": 4,
 "nbformat_minor": 1
}
